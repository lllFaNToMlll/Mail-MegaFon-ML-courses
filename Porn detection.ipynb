{
 "cells": [
  {
   "cell_type": "code",
   "execution_count": 1,
   "metadata": {},
   "outputs": [],
   "source": [
    "import numpy as np\n",
    "import pandas as pd"
   ]
  },
  {
   "cell_type": "code",
   "execution_count": 2,
   "metadata": {},
   "outputs": [
    {
     "data": {
      "text/html": [
       "<div>\n",
       "<style scoped>\n",
       "    .dataframe tbody tr th:only-of-type {\n",
       "        vertical-align: middle;\n",
       "    }\n",
       "\n",
       "    .dataframe tbody tr th {\n",
       "        vertical-align: top;\n",
       "    }\n",
       "\n",
       "    .dataframe thead th {\n",
       "        text-align: right;\n",
       "    }\n",
       "</style>\n",
       "<table border=\"1\" class=\"dataframe\">\n",
       "  <thead>\n",
       "    <tr style=\"text-align: right;\">\n",
       "      <th></th>\n",
       "      <th>id</th>\n",
       "      <th>url</th>\n",
       "      <th>title</th>\n",
       "      <th>target</th>\n",
       "    </tr>\n",
       "  </thead>\n",
       "  <tbody>\n",
       "    <tr>\n",
       "      <th>0</th>\n",
       "      <td>0</td>\n",
       "      <td>m.kp.md</td>\n",
       "      <td>Экс-министр экономики Молдовы - главе МИДЭИ, ц...</td>\n",
       "      <td>False</td>\n",
       "    </tr>\n",
       "    <tr>\n",
       "      <th>1</th>\n",
       "      <td>1</td>\n",
       "      <td>www.kp.by</td>\n",
       "      <td>Эта песня стала известна многим телезрителям б...</td>\n",
       "      <td>False</td>\n",
       "    </tr>\n",
       "    <tr>\n",
       "      <th>2</th>\n",
       "      <td>2</td>\n",
       "      <td>fanserials.tv</td>\n",
       "      <td>Банши 4 сезон 2 серия Бремя красоты смотреть о...</td>\n",
       "      <td>False</td>\n",
       "    </tr>\n",
       "    <tr>\n",
       "      <th>3</th>\n",
       "      <td>3</td>\n",
       "      <td>colorbox.spb.ru</td>\n",
       "      <td>Не Беси Меня Картинки</td>\n",
       "      <td>False</td>\n",
       "    </tr>\n",
       "    <tr>\n",
       "      <th>4</th>\n",
       "      <td>4</td>\n",
       "      <td>tula-sport.ru</td>\n",
       "      <td>В Новомосковске сыграют следж-хоккеисты алекси...</td>\n",
       "      <td>False</td>\n",
       "    </tr>\n",
       "    <tr>\n",
       "      <th>5</th>\n",
       "      <td>5</td>\n",
       "      <td>beregifiguru.ru</td>\n",
       "      <td>Салат: корейская морковь + копченая курица + к...</td>\n",
       "      <td>False</td>\n",
       "    </tr>\n",
       "    <tr>\n",
       "      <th>6</th>\n",
       "      <td>6</td>\n",
       "      <td>ekb.vseinstrumenti.ru</td>\n",
       "      <td>Угловой пневмогайковерт FUBAG RWC 105 1/2\" 100...</td>\n",
       "      <td>False</td>\n",
       "    </tr>\n",
       "    <tr>\n",
       "      <th>7</th>\n",
       "      <td>7</td>\n",
       "      <td>mirtabaka.org</td>\n",
       "      <td>Табачный магазин `Мир Табака` | КУРИТЕЛЬНЫЕ ТР...</td>\n",
       "      <td>False</td>\n",
       "    </tr>\n",
       "    <tr>\n",
       "      <th>8</th>\n",
       "      <td>8</td>\n",
       "      <td>xlecx.com</td>\n",
       "      <td>league of legends » Page 5 » Porn comics free ...</td>\n",
       "      <td>True</td>\n",
       "    </tr>\n",
       "    <tr>\n",
       "      <th>9</th>\n",
       "      <td>9</td>\n",
       "      <td>bus.biletyplus.ua</td>\n",
       "      <td>08:00 (4766р), Одесса - Ростов-на-Дону 20 сент...</td>\n",
       "      <td>False</td>\n",
       "    </tr>\n",
       "    <tr>\n",
       "      <th>10</th>\n",
       "      <td>10</td>\n",
       "      <td>otvet-gotov.ru</td>\n",
       "      <td>ОГЭ, Математика. Функции: Задача №77FB90 | Отв...</td>\n",
       "      <td>False</td>\n",
       "    </tr>\n",
       "    <tr>\n",
       "      <th>11</th>\n",
       "      <td>11</td>\n",
       "      <td>mail.ru</td>\n",
       "      <td>мировая экономика в схемах и таблицах - 12 млн...</td>\n",
       "      <td>False</td>\n",
       "    </tr>\n",
       "    <tr>\n",
       "      <th>12</th>\n",
       "      <td>12</td>\n",
       "      <td>pornmult.info</td>\n",
       "      <td>кримпай,мать и сын » Страница 5 » смотреть пор...</td>\n",
       "      <td>True</td>\n",
       "    </tr>\n",
       "    <tr>\n",
       "      <th>13</th>\n",
       "      <td>13</td>\n",
       "      <td>libking.ru</td>\n",
       "      <td>Мария Шорох - Без права выбора. Академия (СИ) ...</td>\n",
       "      <td>False</td>\n",
       "    </tr>\n",
       "    <tr>\n",
       "      <th>14</th>\n",
       "      <td>14</td>\n",
       "      <td>www.idealmedia.io</td>\n",
       "      <td>В Днепре нашли пропавшую 16-летнюю девушку</td>\n",
       "      <td>False</td>\n",
       "    </tr>\n",
       "    <tr>\n",
       "      <th>15</th>\n",
       "      <td>15</td>\n",
       "      <td>mail.ru</td>\n",
       "      <td>(1) Мой Мир@Mail.Ru</td>\n",
       "      <td>False</td>\n",
       "    </tr>\n",
       "    <tr>\n",
       "      <th>16</th>\n",
       "      <td>16</td>\n",
       "      <td>zaycev.net</td>\n",
       "      <td>Слава Медяник — Стучат колёса</td>\n",
       "      <td>False</td>\n",
       "    </tr>\n",
       "    <tr>\n",
       "      <th>17</th>\n",
       "      <td>17</td>\n",
       "      <td>kazan.ucheba.ru</td>\n",
       "      <td>Инженерный институт Казанского (Приволжского) ...</td>\n",
       "      <td>False</td>\n",
       "    </tr>\n",
       "    <tr>\n",
       "      <th>18</th>\n",
       "      <td>18</td>\n",
       "      <td>mail.ru</td>\n",
       "      <td>каковы основные черты размещения отраслей топл...</td>\n",
       "      <td>False</td>\n",
       "    </tr>\n",
       "    <tr>\n",
       "      <th>19</th>\n",
       "      <td>19</td>\n",
       "      <td>24eropixel.net</td>\n",
       "      <td>Мужик поставил блондинку раком и отодрал ее ту...</td>\n",
       "      <td>True</td>\n",
       "    </tr>\n",
       "    <tr>\n",
       "      <th>20</th>\n",
       "      <td>20</td>\n",
       "      <td>royallib.com</td>\n",
       "      <td>Портер Джейн - Под звездным дождем, скачать бе...</td>\n",
       "      <td>False</td>\n",
       "    </tr>\n",
       "    <tr>\n",
       "      <th>21</th>\n",
       "      <td>21</td>\n",
       "      <td>gdespaces.com</td>\n",
       "      <td>Порно которое ты искал / Видео - Spaces.ru / S...</td>\n",
       "      <td>True</td>\n",
       "    </tr>\n",
       "    <tr>\n",
       "      <th>22</th>\n",
       "      <td>22</td>\n",
       "      <td>ulyanovsk.beeline.ru</td>\n",
       "      <td>Услуга Городской номер - как подключить - Моби...</td>\n",
       "      <td>False</td>\n",
       "    </tr>\n",
       "    <tr>\n",
       "      <th>23</th>\n",
       "      <td>23</td>\n",
       "      <td>xorazm.net</td>\n",
       "      <td>Murodbek Qilichev - Bilmiram » Xorazm.Net</td>\n",
       "      <td>False</td>\n",
       "    </tr>\n",
       "    <tr>\n",
       "      <th>24</th>\n",
       "      <td>24</td>\n",
       "      <td>mail.ru</td>\n",
       "      <td>погода в сочи в сентябре - 33 тыс. результатов...</td>\n",
       "      <td>False</td>\n",
       "    </tr>\n",
       "    <tr>\n",
       "      <th>25</th>\n",
       "      <td>25</td>\n",
       "      <td>www.gismeteo.ua</td>\n",
       "      <td>GISMETEO: погода у Гостомелі на 10 днів — прог...</td>\n",
       "      <td>False</td>\n",
       "    </tr>\n",
       "    <tr>\n",
       "      <th>26</th>\n",
       "      <td>26</td>\n",
       "      <td>corel.ru</td>\n",
       "      <td>Службы поддержки</td>\n",
       "      <td>False</td>\n",
       "    </tr>\n",
       "    <tr>\n",
       "      <th>27</th>\n",
       "      <td>27</td>\n",
       "      <td>www.mvideo.ru</td>\n",
       "      <td>Моя учетная запись - Нальчик</td>\n",
       "      <td>False</td>\n",
       "    </tr>\n",
       "    <tr>\n",
       "      <th>28</th>\n",
       "      <td>28</td>\n",
       "      <td>apteka.ru</td>\n",
       "      <td>кожа,волосы,ногти - результаты поиска</td>\n",
       "      <td>False</td>\n",
       "    </tr>\n",
       "    <tr>\n",
       "      <th>29</th>\n",
       "      <td>29</td>\n",
       "      <td>norma.org.ua</td>\n",
       "      <td>Форма наряда-допуска на производство работ в м...</td>\n",
       "      <td>False</td>\n",
       "    </tr>\n",
       "    <tr>\n",
       "      <th>30</th>\n",
       "      <td>30</td>\n",
       "      <td>mychords.net</td>\n",
       "      <td>The Retuses - Ласточка, аккорды, текст, mp3, в...</td>\n",
       "      <td>False</td>\n",
       "    </tr>\n",
       "    <tr>\n",
       "      <th>31</th>\n",
       "      <td>31</td>\n",
       "      <td>deal.by</td>\n",
       "      <td>Школьная форма \"Солнце\" Мод-2 черного цвета, ц...</td>\n",
       "      <td>False</td>\n",
       "    </tr>\n",
       "    <tr>\n",
       "      <th>32</th>\n",
       "      <td>32</td>\n",
       "      <td>www.farpost.ru</td>\n",
       "      <td>Диалог</td>\n",
       "      <td>False</td>\n",
       "    </tr>\n",
       "    <tr>\n",
       "      <th>33</th>\n",
       "      <td>33</td>\n",
       "      <td>www.mvideo.ru</td>\n",
       "      <td>Купить Встраив. газовая панель Hotpoint-Aristo...</td>\n",
       "      <td>False</td>\n",
       "    </tr>\n",
       "    <tr>\n",
       "      <th>34</th>\n",
       "      <td>34</td>\n",
       "      <td>m.auto3n.ru</td>\n",
       "      <td>AUTO3N</td>\n",
       "      <td>False</td>\n",
       "    </tr>\n",
       "    <tr>\n",
       "      <th>35</th>\n",
       "      <td>35</td>\n",
       "      <td>vtk-moscow.ru</td>\n",
       "      <td>Форма для леденцов и шоколада КУРОЧКА РЯБА купить</td>\n",
       "      <td>False</td>\n",
       "    </tr>\n",
       "    <tr>\n",
       "      <th>36</th>\n",
       "      <td>36</td>\n",
       "      <td>tengrinews.kz</td>\n",
       "      <td>Какой будет погода в ноябре - новости Казахста...</td>\n",
       "      <td>False</td>\n",
       "    </tr>\n",
       "    <tr>\n",
       "      <th>37</th>\n",
       "      <td>37</td>\n",
       "      <td>mail.ru</td>\n",
       "      <td>Видео DIO- Don't talk to strangers, ♥•*`✿⊱╮IRI...</td>\n",
       "      <td>False</td>\n",
       "    </tr>\n",
       "    <tr>\n",
       "      <th>38</th>\n",
       "      <td>38</td>\n",
       "      <td>www.lamnia.com</td>\n",
       "      <td>5.11 Tactical Job Shirt 1/4 Zip XXL, fire navy...</td>\n",
       "      <td>False</td>\n",
       "    </tr>\n",
       "    <tr>\n",
       "      <th>39</th>\n",
       "      <td>39</td>\n",
       "      <td>mmag.ru</td>\n",
       "      <td>OHM CS-18</td>\n",
       "      <td>False</td>\n",
       "    </tr>\n",
       "  </tbody>\n",
       "</table>\n",
       "</div>"
      ],
      "text/plain": [
       "    id                    url  \\\n",
       "0    0                m.kp.md   \n",
       "1    1              www.kp.by   \n",
       "2    2          fanserials.tv   \n",
       "3    3        colorbox.spb.ru   \n",
       "4    4          tula-sport.ru   \n",
       "5    5        beregifiguru.ru   \n",
       "6    6  ekb.vseinstrumenti.ru   \n",
       "7    7          mirtabaka.org   \n",
       "8    8              xlecx.com   \n",
       "9    9      bus.biletyplus.ua   \n",
       "10  10         otvet-gotov.ru   \n",
       "11  11                mail.ru   \n",
       "12  12          pornmult.info   \n",
       "13  13             libking.ru   \n",
       "14  14      www.idealmedia.io   \n",
       "15  15                mail.ru   \n",
       "16  16             zaycev.net   \n",
       "17  17        kazan.ucheba.ru   \n",
       "18  18                mail.ru   \n",
       "19  19         24eropixel.net   \n",
       "20  20           royallib.com   \n",
       "21  21          gdespaces.com   \n",
       "22  22   ulyanovsk.beeline.ru   \n",
       "23  23             xorazm.net   \n",
       "24  24                mail.ru   \n",
       "25  25        www.gismeteo.ua   \n",
       "26  26               corel.ru   \n",
       "27  27          www.mvideo.ru   \n",
       "28  28              apteka.ru   \n",
       "29  29           norma.org.ua   \n",
       "30  30           mychords.net   \n",
       "31  31                deal.by   \n",
       "32  32         www.farpost.ru   \n",
       "33  33          www.mvideo.ru   \n",
       "34  34            m.auto3n.ru   \n",
       "35  35          vtk-moscow.ru   \n",
       "36  36          tengrinews.kz   \n",
       "37  37                mail.ru   \n",
       "38  38         www.lamnia.com   \n",
       "39  39                mmag.ru   \n",
       "\n",
       "                                                title  target  \n",
       "0   Экс-министр экономики Молдовы - главе МИДЭИ, ц...   False  \n",
       "1   Эта песня стала известна многим телезрителям б...   False  \n",
       "2   Банши 4 сезон 2 серия Бремя красоты смотреть о...   False  \n",
       "3                               Не Беси Меня Картинки   False  \n",
       "4   В Новомосковске сыграют следж-хоккеисты алекси...   False  \n",
       "5   Салат: корейская морковь + копченая курица + к...   False  \n",
       "6   Угловой пневмогайковерт FUBAG RWC 105 1/2\" 100...   False  \n",
       "7   Табачный магазин `Мир Табака` | КУРИТЕЛЬНЫЕ ТР...   False  \n",
       "8   league of legends » Page 5 » Porn comics free ...    True  \n",
       "9   08:00 (4766р), Одесса - Ростов-на-Дону 20 сент...   False  \n",
       "10  ОГЭ, Математика. Функции: Задача №77FB90 | Отв...   False  \n",
       "11  мировая экономика в схемах и таблицах - 12 млн...   False  \n",
       "12  кримпай,мать и сын » Страница 5 » смотреть пор...    True  \n",
       "13  Мария Шорох - Без права выбора. Академия (СИ) ...   False  \n",
       "14         В Днепре нашли пропавшую 16-летнюю девушку   False  \n",
       "15                                (1) Мой Мир@Mail.Ru   False  \n",
       "16                      Слава Медяник — Стучат колёса   False  \n",
       "17  Инженерный институт Казанского (Приволжского) ...   False  \n",
       "18  каковы основные черты размещения отраслей топл...   False  \n",
       "19  Мужик поставил блондинку раком и отодрал ее ту...    True  \n",
       "20  Портер Джейн - Под звездным дождем, скачать бе...   False  \n",
       "21  Порно которое ты искал / Видео - Spaces.ru / S...    True  \n",
       "22  Услуга Городской номер - как подключить - Моби...   False  \n",
       "23          Murodbek Qilichev - Bilmiram » Xorazm.Net   False  \n",
       "24  погода в сочи в сентябре - 33 тыс. результатов...   False  \n",
       "25  GISMETEO: погода у Гостомелі на 10 днів — прог...   False  \n",
       "26                                   Службы поддержки   False  \n",
       "27                       Моя учетная запись - Нальчик   False  \n",
       "28              кожа,волосы,ногти - результаты поиска   False  \n",
       "29  Форма наряда-допуска на производство работ в м...   False  \n",
       "30  The Retuses - Ласточка, аккорды, текст, mp3, в...   False  \n",
       "31  Школьная форма \"Солнце\" Мод-2 черного цвета, ц...   False  \n",
       "32                                             Диалог   False  \n",
       "33  Купить Встраив. газовая панель Hotpoint-Aristo...   False  \n",
       "34                                             AUTO3N   False  \n",
       "35  Форма для леденцов и шоколада КУРОЧКА РЯБА купить   False  \n",
       "36  Какой будет погода в ноябре - новости Казахста...   False  \n",
       "37  Видео DIO- Don't talk to strangers, ♥•*`✿⊱╮IRI...   False  \n",
       "38  5.11 Tactical Job Shirt 1/4 Zip XXL, fire navy...   False  \n",
       "39                                          OHM CS-18   False  "
      ]
     },
     "execution_count": 2,
     "metadata": {},
     "output_type": "execute_result"
    }
   ],
   "source": [
    "train_df = pd.read_csv(\"train.csv\")\n",
    "\n",
    "train_df.head(40)"
   ]
  },
  {
   "cell_type": "code",
   "execution_count": 3,
   "metadata": {},
   "outputs": [
    {
     "data": {
      "text/html": [
       "<div>\n",
       "<style scoped>\n",
       "    .dataframe tbody tr th:only-of-type {\n",
       "        vertical-align: middle;\n",
       "    }\n",
       "\n",
       "    .dataframe tbody tr th {\n",
       "        vertical-align: top;\n",
       "    }\n",
       "\n",
       "    .dataframe thead th {\n",
       "        text-align: right;\n",
       "    }\n",
       "</style>\n",
       "<table border=\"1\" class=\"dataframe\">\n",
       "  <thead>\n",
       "    <tr style=\"text-align: right;\">\n",
       "      <th></th>\n",
       "      <th>id</th>\n",
       "      <th>url</th>\n",
       "      <th>title</th>\n",
       "    </tr>\n",
       "  </thead>\n",
       "  <tbody>\n",
       "    <tr>\n",
       "      <th>0</th>\n",
       "      <td>135309</td>\n",
       "      <td>www.kommersant.ru</td>\n",
       "      <td>Шестой кассационный суд в Самаре начнет работу...</td>\n",
       "    </tr>\n",
       "    <tr>\n",
       "      <th>1</th>\n",
       "      <td>135310</td>\n",
       "      <td>urexpert.online</td>\n",
       "      <td>Что такое индексация алиментов, кем и в каких ...</td>\n",
       "    </tr>\n",
       "    <tr>\n",
       "      <th>2</th>\n",
       "      <td>135311</td>\n",
       "      <td>imperimeha.ru</td>\n",
       "      <td>Женщинам | Империя Меха - Part 12</td>\n",
       "    </tr>\n",
       "    <tr>\n",
       "      <th>3</th>\n",
       "      <td>135312</td>\n",
       "      <td>national-porn.com</td>\n",
       "      <td>Небритые, волосатые киски: Порно всех стран и ...</td>\n",
       "    </tr>\n",
       "    <tr>\n",
       "      <th>4</th>\n",
       "      <td>135313</td>\n",
       "      <td>2gis.ru</td>\n",
       "      <td>67</td>\n",
       "    </tr>\n",
       "  </tbody>\n",
       "</table>\n",
       "</div>"
      ],
      "text/plain": [
       "       id                url  \\\n",
       "0  135309  www.kommersant.ru   \n",
       "1  135310    urexpert.online   \n",
       "2  135311      imperimeha.ru   \n",
       "3  135312  national-porn.com   \n",
       "4  135313            2gis.ru   \n",
       "\n",
       "                                               title  \n",
       "0  Шестой кассационный суд в Самаре начнет работу...  \n",
       "1  Что такое индексация алиментов, кем и в каких ...  \n",
       "2                  Женщинам | Империя Меха - Part 12  \n",
       "3  Небритые, волосатые киски: Порно всех стран и ...  \n",
       "4                                                 67  "
      ]
     },
     "execution_count": 3,
     "metadata": {},
     "output_type": "execute_result"
    }
   ],
   "source": [
    "test_df = pd.read_csv(\"test.csv\")\n",
    "\n",
    "test_df.head()"
   ]
  },
  {
   "cell_type": "code",
   "execution_count": 4,
   "metadata": {},
   "outputs": [
    {
     "data": {
      "text/plain": [
       "False    118594\n",
       "True      16715\n",
       "Name: target, dtype: int64"
      ]
     },
     "execution_count": 4,
     "metadata": {},
     "output_type": "execute_result"
    }
   ],
   "source": [
    "train_df[\"target\"].value_counts()"
   ]
  },
  {
   "cell_type": "code",
   "execution_count": 5,
   "metadata": {},
   "outputs": [],
   "source": [
    "from sklearn.metrics import f1_score"
   ]
  },
  {
   "cell_type": "code",
   "execution_count": 6,
   "metadata": {},
   "outputs": [
    {
     "data": {
      "text/plain": [
       "numpy.ndarray"
      ]
     },
     "execution_count": 6,
     "metadata": {},
     "output_type": "execute_result"
    }
   ],
   "source": [
    "type(train_df['url'].values)"
   ]
  },
  {
   "cell_type": "code",
   "execution_count": 7,
   "metadata": {},
   "outputs": [],
   "source": [
    "X_train = train_df[['url', 'title']].values\n",
    "X_test = test_df[['url', 'title']].values \n",
    "y_train = train_df[\"target\"].astype(int).values"
   ]
  },
  {
   "cell_type": "markdown",
   "metadata": {},
   "source": [
    "# ML baseline"
   ]
  },
  {
   "cell_type": "code",
   "execution_count": 8,
   "metadata": {},
   "outputs": [],
   "source": [
    "from sklearn.feature_extraction.text import CountVectorizer\n",
    "from sklearn.naive_bayes import MultinomialNB\n",
    "from sklearn.linear_model import LogisticRegression, SGDClassifier\n",
    "from sklearn.ensemble import BaggingClassifier\n",
    "from sklearn.ensemble import VotingClassifier\n",
    "from sklearn.feature_extraction.text import TfidfVectorizer \n",
    "vectorizer = CountVectorizer( ngram_range=(1, 1))\n",
    "model = VotingClassifier(estimators=[('lr', LogisticRegression(solver='newton-cg',penalty='l2',max_iter=500,class_weight = \"balanced\"))], voting='hard')\n",
    "#model = BaggingClassifier(base_estimator=LogisticRegression(solver='newton-cg',penalty='l2',max_iter=500,class_weight = \"balanced\"),\n",
    " #                        n_estimators = 100)\n",
    "#model = LogisticRegression(solver='newton-cg',penalty='l2',max_iter=500,class_weight = \"balanced\") #sag "
   ]
  },
  {
   "cell_type": "code",
   "execution_count": 9,
   "metadata": {},
   "outputs": [
    {
     "name": "stdout",
     "output_type": "stream",
     "text": [
      "<class 'str'>\n",
      "<class 'str'>\n"
     ]
    }
   ],
   "source": [
    "'''buf = X_train[0] + X_train[1]\n",
    "buf.shape'''\n",
    "print(type(X_train[2][1]))\n",
    "buf = 0\n",
    "buf = train_df['url'].values\n",
    "bufTest = test_df['url'].values\n",
    "print(type(buf[0]))"
   ]
  },
  {
   "cell_type": "code",
   "execution_count": 10,
   "metadata": {},
   "outputs": [],
   "source": [
    "for i in range(X_train.shape[0]):\n",
    "    buf[i] += \" \" + X_train[i][1]\n",
    "for i in range(X_test.shape[0]):\n",
    "    bufTest[i] += \" \" + X_test[i][1]"
   ]
  },
  {
   "cell_type": "code",
   "execution_count": 11,
   "metadata": {},
   "outputs": [
    {
     "data": {
      "text/plain": [
       "'www.kp.by Эта песня стала известна многим телезрителям благодаря сериалу Диверсант-2'"
      ]
     },
     "execution_count": 11,
     "metadata": {},
     "output_type": "execute_result"
    }
   ],
   "source": [
    "buf[1]"
   ]
  },
  {
   "cell_type": "code",
   "execution_count": null,
   "metadata": {},
   "outputs": [],
   "source": []
  },
  {
   "cell_type": "code",
   "execution_count": null,
   "metadata": {},
   "outputs": [],
   "source": []
  },
  {
   "cell_type": "code",
   "execution_count": 12,
   "metadata": {},
   "outputs": [
    {
     "data": {
      "text/plain": [
       "[('в', 38438),\n",
       " ('на', 23059),\n",
       " ('и', 22745),\n",
       " ('онлайн', 11972),\n",
       " ('с', 11731),\n",
       " ('для', 10176),\n",
       " ('по', 8467),\n",
       " ('бесплатно', 8243),\n",
       " ('скачать', 7751),\n",
       " ('фото', 6378),\n",
       " ('купить', 6315),\n",
       " ('страница', 5850),\n",
       " ('смотреть', 5542),\n",
       " ('от', 5362),\n",
       " ('поиск', 5310),\n",
       " ('порно', 5224),\n",
       " ('видео', 5138),\n",
       " ('из', 3711),\n",
       " ('интернет', 3429),\n",
       " ('как', 3368)]"
      ]
     },
     "execution_count": 12,
     "metadata": {},
     "output_type": "execute_result"
    }
   ],
   "source": [
    "import re\n",
    "from collections import Counter\n",
    "TOKEN_PATTERN = \"[а-яё]+\"\n",
    "def tokenize(text):\n",
    "    return re.findall(TOKEN_PATTERN, text.lower())\n",
    "\n",
    "docs = [tokenize(text) for text in buf]\n",
    "occurence = Counter()\n",
    "\n",
    "for doc in docs:\n",
    "    for token in doc:\n",
    "        occurence[token] += 1\n",
    "occurence.most_common(20)"
   ]
  },
  {
   "cell_type": "code",
   "execution_count": 13,
   "metadata": {},
   "outputs": [
    {
     "data": {
      "text/plain": [
       "112302"
      ]
     },
     "execution_count": 13,
     "metadata": {},
     "output_type": "execute_result"
    }
   ],
   "source": [
    "len(occurence)#112296"
   ]
  },
  {
   "cell_type": "code",
   "execution_count": 14,
   "metadata": {},
   "outputs": [],
   "source": [
    "import nltk\n",
    "from nltk.corpus import stopwords\n",
    "\n",
    "for i in range(X_train.shape[0]):\n",
    "    buf[i] =  buf[i].lower()\n",
    "for i in range(X_test.shape[0]):\n",
    "    bufTest[i] = bufTest[i].lower()\n",
    "# Удаляем стоп-слова\n",
    "mystopwords = stopwords.words('russian') # +  ['цены', 'руб' , 'м', 'г', u'читать', u'отзывы',  'купить', 'магазин', 'руб',\n",
    "                                           # 'качестве','работа','продажа','цена','интернет','россия','года','слушать','тыс',\n",
    "                                            # u'в',u'г','интернет',u'м','мир','москва',u'интернет','-', '-']\n",
    "\n",
    "def  remove_stopwords(text, mystopwords = mystopwords):\n",
    "    try:\n",
    "        return u\" \".join([token for token in text.split() if not token in mystopwords])\n",
    "    except:\n",
    "        return u\"\"\n",
    "\n",
    "for i in range(X_train.shape[0]):\n",
    "    buf[i] =  remove_stopwords(buf[i])\n",
    "for i in range(X_test.shape[0]):\n",
    "    bufTest[i] = remove_stopwords(bufTest[i])\n",
    "    \n",
    "#0.990738785483725\n",
    "#0.9908898944193062"
   ]
  },
  {
   "cell_type": "code",
   "execution_count": 15,
   "metadata": {},
   "outputs": [
    {
     "data": {
      "text/plain": [
       "'norma.org.ua форма наряда-допуска производство работ местах действия опасных вредных факторов | снип 12-03-2001 безопасность труда строительстве часть первая'"
      ]
     },
     "execution_count": 15,
     "metadata": {},
     "output_type": "execute_result"
    }
   ],
   "source": [
    "buf[29]"
   ]
  },
  {
   "cell_type": "code",
   "execution_count": null,
   "metadata": {},
   "outputs": [],
   "source": []
  },
  {
   "cell_type": "code",
   "execution_count": null,
   "metadata": {},
   "outputs": [],
   "source": []
  },
  {
   "cell_type": "code",
   "execution_count": 16,
   "metadata": {},
   "outputs": [
    {
     "data": {
      "text/plain": [
       "str"
      ]
     },
     "execution_count": 16,
     "metadata": {},
     "output_type": "execute_result"
    }
   ],
   "source": [
    "type(buf[0])"
   ]
  },
  {
   "cell_type": "code",
   "execution_count": 17,
   "metadata": {},
   "outputs": [
    {
     "data": {
      "text/plain": [
       "str"
      ]
     },
     "execution_count": 17,
     "metadata": {},
     "output_type": "execute_result"
    }
   ],
   "source": [
    "type(X_train[0][0] + X_train[0][1])"
   ]
  },
  {
   "cell_type": "code",
   "execution_count": 18,
   "metadata": {},
   "outputs": [],
   "source": [
    "X_train_vectorized = vectorizer.fit_transform(buf)"
   ]
  },
  {
   "cell_type": "code",
   "execution_count": 19,
   "metadata": {},
   "outputs": [
    {
     "data": {
      "text/plain": [
       "<135309x215734 sparse matrix of type '<class 'numpy.int64'>'\n",
       "\twith 1403182 stored elements in Compressed Sparse Row format>"
      ]
     },
     "execution_count": 19,
     "metadata": {},
     "output_type": "execute_result"
    }
   ],
   "source": [
    "X_train_vectorized"
   ]
  },
  {
   "cell_type": "code",
   "execution_count": 20,
   "metadata": {},
   "outputs": [],
   "source": [
    "feature_names = np.array(vectorizer.get_feature_names())"
   ]
  },
  {
   "cell_type": "code",
   "execution_count": 21,
   "metadata": {},
   "outputs": [
    {
     "name": "stdout",
     "output_type": "stream",
     "text": [
      "www.kp.by эта песня стала известна многим телезрителям благодаря сериалу диверсант-2\n"
     ]
    },
    {
     "data": {
      "text/plain": [
       "['by',\n",
       " 'kp',\n",
       " 'www',\n",
       " 'благодаря',\n",
       " 'диверсант',\n",
       " 'известна',\n",
       " 'многим',\n",
       " 'песня',\n",
       " 'сериалу',\n",
       " 'стала',\n",
       " 'телезрителям',\n",
       " 'эта']"
      ]
     },
     "execution_count": 21,
     "metadata": {},
     "output_type": "execute_result"
    }
   ],
   "source": [
    "id_ = 1\n",
    "\n",
    "print(buf[id_])\n",
    "\n",
    "x_vector = X_train_vectorized.getrow(id_).toarray()[0]\n",
    "\n",
    "[feature for feature in feature_names[x_vector > 0]]"
   ]
  },
  {
   "cell_type": "code",
   "execution_count": 22,
   "metadata": {},
   "outputs": [
    {
     "name": "stdout",
     "output_type": "stream",
     "text": [
      "Wall time: 8.93 s\n"
     ]
    }
   ],
   "source": [
    "%%time\n",
    "\n",
    "model.fit(\n",
    "    X_train_vectorized,\n",
    "    y_train\n",
    ")\n",
    "\n",
    "y_pred = model.predict(\n",
    "    X_train_vectorized\n",
    ")"
   ]
  },
  {
   "cell_type": "code",
   "execution_count": 23,
   "metadata": {},
   "outputs": [
    {
     "data": {
      "text/plain": [
       "0.9963608161317266"
      ]
     },
     "execution_count": 23,
     "metadata": {},
     "output_type": "execute_result"
    }
   ],
   "source": [
    "f1_score(y_train, y_pred)"
   ]
  },
  {
   "cell_type": "markdown",
   "metadata": {},
   "source": [
    "### Submit"
   ]
  },
  {
   "cell_type": "code",
   "execution_count": 24,
   "metadata": {},
   "outputs": [
    {
     "name": "stderr",
     "output_type": "stream",
     "text": [
      "\"cat\" ­Ґ пў«пҐвбп ў­гваҐ­­Ґ© Ё«Ё ў­Ґи­Ґ©\n",
      "Є®¬ ­¤®©, ЁбЇ®«­пҐ¬®© Їа®Ја ¬¬®© Ё«Ё Ї ЄҐв­л¬ д ©«®¬.\n"
     ]
    }
   ],
   "source": [
    "X_test_vectorized = vectorizer.transform(bufTest)\n",
    "\n",
    "test_df[\"target\"] = model.predict(X_test_vectorized).astype(bool)\n",
    "\n",
    "test_df[[\"id\", \"target\"]].to_csv(\"ml_baseline.csv\", index=False)\n",
    "\n",
    "!cat ml_baseline.csv | head"
   ]
  },
  {
   "cell_type": "code",
   "execution_count": 25,
   "metadata": {},
   "outputs": [
    {
     "ename": "NameError",
     "evalue": "name 'fff' is not defined",
     "output_type": "error",
     "traceback": [
      "\u001b[1;31m---------------------------------------------------------------------------\u001b[0m",
      "\u001b[1;31mNameError\u001b[0m                                 Traceback (most recent call last)",
      "\u001b[1;32m<ipython-input-25-0930e96c9dea>\u001b[0m in \u001b[0;36m<module>\u001b[1;34m\u001b[0m\n\u001b[0;32m      2\u001b[0m \u001b[1;31m#import re\u001b[0m\u001b[1;33m\u001b[0m\u001b[1;33m\u001b[0m\u001b[1;33m\u001b[0m\u001b[0m\n\u001b[0;32m      3\u001b[0m \u001b[1;31m#import requests\u001b[0m\u001b[1;33m\u001b[0m\u001b[1;33m\u001b[0m\u001b[1;33m\u001b[0m\u001b[0m\n\u001b[1;32m----> 4\u001b[1;33m \u001b[0mfff\u001b[0m\u001b[1;33m\u001b[0m\u001b[1;33m\u001b[0m\u001b[0m\n\u001b[0m\u001b[0;32m      5\u001b[0m \u001b[1;32mimport\u001b[0m \u001b[0mnltk\u001b[0m\u001b[1;33m\u001b[0m\u001b[1;33m\u001b[0m\u001b[0m\n\u001b[0;32m      6\u001b[0m \u001b[0mnltk\u001b[0m\u001b[1;33m.\u001b[0m\u001b[0mdownload\u001b[0m\u001b[1;33m(\u001b[0m\u001b[1;34m'stopwords'\u001b[0m\u001b[1;33m)\u001b[0m\u001b[1;33m\u001b[0m\u001b[1;33m\u001b[0m\u001b[0m\n",
      "\u001b[1;31mNameError\u001b[0m: name 'fff' is not defined"
     ]
    }
   ],
   "source": [
    "#import json\n",
    "#import re\n",
    "#import requests\n",
    "fff\n",
    "import nltk\n",
    "nltk.download('stopwords')\n",
    "from sklearn.model_selection import train_test_split, GridSearchCV\n",
    "from sklearn.preprocessing  import StandardScaler\n",
    "from sklearn.feature_extraction.text import TfidfVectorizer, CountVectorizer\n",
    "from sklearn.linear_model import LogisticRegression, SGDClassifier\n",
    "from sklearn.pipeline import Pipeline, FeatureUnion\n",
    "from sklearn.metrics import f1_score"
   ]
  },
  {
   "cell_type": "code",
   "execution_count": null,
   "metadata": {},
   "outputs": [],
   "source": [
    "stop_words = nltk.corpus.stopwords.words('russian')"
   ]
  },
  {
   "cell_type": "code",
   "execution_count": null,
   "metadata": {},
   "outputs": [],
   "source": [
    "count_model = Pipeline([\n",
    "    (\n",
    "        'vectorizer',\n",
    "        CountVectorizer(\n",
    "            lowercase=True, ngram_range=(1, 1), token_pattern=\"[а-яё]+\",\n",
    "            stop_words=stop_words, min_df=3, max_df=0.8\n",
    "        )\n",
    "    ),\n",
    "    ('clf', SGDClassifier(random_state=SEED, loss='log', class_weight='balanced'))\n",
    "])"
   ]
  },
  {
   "cell_type": "code",
   "execution_count": null,
   "metadata": {},
   "outputs": [],
   "source": [
    "x_train = train_df['title'].values\n",
    "y_train = train_df['target'].values\n",
    "x_val = test_df['title'].values"
   ]
  },
  {
   "cell_type": "code",
   "execution_count": null,
   "metadata": {},
   "outputs": [],
   "source": [
    "count_model.fit(x_train, y_train)"
   ]
  },
  {
   "cell_type": "code",
   "execution_count": null,
   "metadata": {},
   "outputs": [],
   "source": [
    "vectorizer = count_model.steps[0][1]"
   ]
  },
  {
   "cell_type": "code",
   "execution_count": null,
   "metadata": {},
   "outputs": [],
   "source": [
    "features = np.array(vectorizer.get_feature_names())\n",
    "\n",
    "len(features)"
   ]
  },
  {
   "cell_type": "code",
   "execution_count": null,
   "metadata": {},
   "outputs": [],
   "source": [
    "count_features = vectorizer.transform(x_train[[0]]).toarray()[0]"
   ]
  },
  {
   "cell_type": "code",
   "execution_count": null,
   "metadata": {},
   "outputs": [],
   "source": [
    "pd.DataFrame({\n",
    "    'token': features[count_features > 0], \n",
    "    'count':count_features[count_features > 0]\n",
    "})"
   ]
  },
  {
   "cell_type": "code",
   "execution_count": null,
   "metadata": {},
   "outputs": [],
   "source": [
    "f1_score(y_train, count_model.predict(x_train))"
   ]
  },
  {
   "cell_type": "code",
   "execution_count": null,
   "metadata": {},
   "outputs": [],
   "source": []
  },
  {
   "cell_type": "code",
   "execution_count": null,
   "metadata": {},
   "outputs": [],
   "source": []
  }
 ],
 "metadata": {
  "kernelspec": {
   "display_name": "Python 3",
   "language": "python",
   "name": "python3"
  },
  "language_info": {
   "codemirror_mode": {
    "name": "ipython",
    "version": 3
   },
   "file_extension": ".py",
   "mimetype": "text/x-python",
   "name": "python",
   "nbconvert_exporter": "python",
   "pygments_lexer": "ipython3",
   "version": "3.8.2"
  }
 },
 "nbformat": 4,
 "nbformat_minor": 2
}
