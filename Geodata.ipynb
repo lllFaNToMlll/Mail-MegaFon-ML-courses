{
  "nbformat": 4,
  "nbformat_minor": 0,
  "metadata": {
    "colab": {
      "name": "megafon_geo_hw.ipynb",
      "provenance": [],
      "collapsed_sections": []
    },
    "kernelspec": {
      "display_name": "Python 3",
      "language": "python",
      "name": "python3"
    },
    "language_info": {
      "codemirror_mode": {
        "name": "ipython",
        "version": 3
      },
      "file_extension": ".py",
      "mimetype": "text/x-python",
      "name": "python",
      "nbconvert_exporter": "python",
      "pygments_lexer": "ipython3",
      "version": "3.8.2"
    },
    "widgets": {
      "application/vnd.jupyter.widget-state+json": {
        "16391a9b0d6d4cb690fd0c1ba6a91730": {
          "model_module": "@jupyter-widgets/controls",
          "model_name": "HBoxModel",
          "state": {
            "_view_name": "HBoxView",
            "_dom_classes": [],
            "_model_name": "HBoxModel",
            "_view_module": "@jupyter-widgets/controls",
            "_model_module_version": "1.5.0",
            "_view_count": null,
            "_view_module_version": "1.5.0",
            "box_style": "",
            "layout": "IPY_MODEL_7e802c394f314ecea53312accf0f88b6",
            "_model_module": "@jupyter-widgets/controls",
            "children": [
              "IPY_MODEL_937d2861a94c413e993bb0111467c7f2",
              "IPY_MODEL_8fbca884e6cb4156af2cbf80016b63f0"
            ]
          }
        },
        "7e802c394f314ecea53312accf0f88b6": {
          "model_module": "@jupyter-widgets/base",
          "model_name": "LayoutModel",
          "state": {
            "_view_name": "LayoutView",
            "grid_template_rows": null,
            "right": null,
            "justify_content": null,
            "_view_module": "@jupyter-widgets/base",
            "overflow": null,
            "_model_module_version": "1.2.0",
            "_view_count": null,
            "flex_flow": null,
            "width": null,
            "min_width": null,
            "border": null,
            "align_items": null,
            "bottom": null,
            "_model_module": "@jupyter-widgets/base",
            "top": null,
            "grid_column": null,
            "overflow_y": null,
            "overflow_x": null,
            "grid_auto_flow": null,
            "grid_area": null,
            "grid_template_columns": null,
            "flex": null,
            "_model_name": "LayoutModel",
            "justify_items": null,
            "grid_row": null,
            "max_height": null,
            "align_content": null,
            "visibility": null,
            "align_self": null,
            "height": null,
            "min_height": null,
            "padding": null,
            "grid_auto_rows": null,
            "grid_gap": null,
            "max_width": null,
            "order": null,
            "_view_module_version": "1.2.0",
            "grid_template_areas": null,
            "object_position": null,
            "object_fit": null,
            "grid_auto_columns": null,
            "margin": null,
            "display": null,
            "left": null
          }
        },
        "937d2861a94c413e993bb0111467c7f2": {
          "model_module": "@jupyter-widgets/controls",
          "model_name": "FloatProgressModel",
          "state": {
            "_view_name": "ProgressView",
            "style": "IPY_MODEL_db3f2f61846a44aa91eaeadea231e303",
            "_dom_classes": [],
            "description": "100%",
            "_model_name": "FloatProgressModel",
            "bar_style": "success",
            "max": 425,
            "_view_module": "@jupyter-widgets/controls",
            "_model_module_version": "1.5.0",
            "value": 425,
            "_view_count": null,
            "_view_module_version": "1.5.0",
            "orientation": "horizontal",
            "min": 0,
            "description_tooltip": null,
            "_model_module": "@jupyter-widgets/controls",
            "layout": "IPY_MODEL_6c0721a2823f40f0bd7e345b0f8b1b09"
          }
        },
        "8fbca884e6cb4156af2cbf80016b63f0": {
          "model_module": "@jupyter-widgets/controls",
          "model_name": "HTMLModel",
          "state": {
            "_view_name": "HTMLView",
            "style": "IPY_MODEL_29ff3f5765f245ab80d2e12fff87361a",
            "_dom_classes": [],
            "description": "",
            "_model_name": "HTMLModel",
            "placeholder": "​",
            "_view_module": "@jupyter-widgets/controls",
            "_model_module_version": "1.5.0",
            "value": " 425/425 [13:57&lt;00:00,  1.97s/it]",
            "_view_count": null,
            "_view_module_version": "1.5.0",
            "description_tooltip": null,
            "_model_module": "@jupyter-widgets/controls",
            "layout": "IPY_MODEL_f121a3b49ec247e98f43c8cac6295f28"
          }
        },
        "db3f2f61846a44aa91eaeadea231e303": {
          "model_module": "@jupyter-widgets/controls",
          "model_name": "ProgressStyleModel",
          "state": {
            "_view_name": "StyleView",
            "_model_name": "ProgressStyleModel",
            "description_width": "initial",
            "_view_module": "@jupyter-widgets/base",
            "_model_module_version": "1.5.0",
            "_view_count": null,
            "_view_module_version": "1.2.0",
            "bar_color": null,
            "_model_module": "@jupyter-widgets/controls"
          }
        },
        "6c0721a2823f40f0bd7e345b0f8b1b09": {
          "model_module": "@jupyter-widgets/base",
          "model_name": "LayoutModel",
          "state": {
            "_view_name": "LayoutView",
            "grid_template_rows": null,
            "right": null,
            "justify_content": null,
            "_view_module": "@jupyter-widgets/base",
            "overflow": null,
            "_model_module_version": "1.2.0",
            "_view_count": null,
            "flex_flow": null,
            "width": null,
            "min_width": null,
            "border": null,
            "align_items": null,
            "bottom": null,
            "_model_module": "@jupyter-widgets/base",
            "top": null,
            "grid_column": null,
            "overflow_y": null,
            "overflow_x": null,
            "grid_auto_flow": null,
            "grid_area": null,
            "grid_template_columns": null,
            "flex": null,
            "_model_name": "LayoutModel",
            "justify_items": null,
            "grid_row": null,
            "max_height": null,
            "align_content": null,
            "visibility": null,
            "align_self": null,
            "height": null,
            "min_height": null,
            "padding": null,
            "grid_auto_rows": null,
            "grid_gap": null,
            "max_width": null,
            "order": null,
            "_view_module_version": "1.2.0",
            "grid_template_areas": null,
            "object_position": null,
            "object_fit": null,
            "grid_auto_columns": null,
            "margin": null,
            "display": null,
            "left": null
          }
        },
        "29ff3f5765f245ab80d2e12fff87361a": {
          "model_module": "@jupyter-widgets/controls",
          "model_name": "DescriptionStyleModel",
          "state": {
            "_view_name": "StyleView",
            "_model_name": "DescriptionStyleModel",
            "description_width": "",
            "_view_module": "@jupyter-widgets/base",
            "_model_module_version": "1.5.0",
            "_view_count": null,
            "_view_module_version": "1.2.0",
            "_model_module": "@jupyter-widgets/controls"
          }
        },
        "f121a3b49ec247e98f43c8cac6295f28": {
          "model_module": "@jupyter-widgets/base",
          "model_name": "LayoutModel",
          "state": {
            "_view_name": "LayoutView",
            "grid_template_rows": null,
            "right": null,
            "justify_content": null,
            "_view_module": "@jupyter-widgets/base",
            "overflow": null,
            "_model_module_version": "1.2.0",
            "_view_count": null,
            "flex_flow": null,
            "width": null,
            "min_width": null,
            "border": null,
            "align_items": null,
            "bottom": null,
            "_model_module": "@jupyter-widgets/base",
            "top": null,
            "grid_column": null,
            "overflow_y": null,
            "overflow_x": null,
            "grid_auto_flow": null,
            "grid_area": null,
            "grid_template_columns": null,
            "flex": null,
            "_model_name": "LayoutModel",
            "justify_items": null,
            "grid_row": null,
            "max_height": null,
            "align_content": null,
            "visibility": null,
            "align_self": null,
            "height": null,
            "min_height": null,
            "padding": null,
            "grid_auto_rows": null,
            "grid_gap": null,
            "max_width": null,
            "order": null,
            "_view_module_version": "1.2.0",
            "grid_template_areas": null,
            "object_position": null,
            "object_fit": null,
            "grid_auto_columns": null,
            "margin": null,
            "display": null,
            "left": null
          }
        },
        "c34feef37d54450aadb772238edfe100": {
          "model_module": "@jupyter-widgets/controls",
          "model_name": "HBoxModel",
          "state": {
            "_view_name": "HBoxView",
            "_dom_classes": [],
            "_model_name": "HBoxModel",
            "_view_module": "@jupyter-widgets/controls",
            "_model_module_version": "1.5.0",
            "_view_count": null,
            "_view_module_version": "1.5.0",
            "box_style": "",
            "layout": "IPY_MODEL_7eeb33deae484b61afa01150d8d78bd0",
            "_model_module": "@jupyter-widgets/controls",
            "children": [
              "IPY_MODEL_8ca2f49cf18244cb88afe4e25ec4647f",
              "IPY_MODEL_db38ce6960d6418fbadcbf6f7484b516"
            ]
          }
        },
        "7eeb33deae484b61afa01150d8d78bd0": {
          "model_module": "@jupyter-widgets/base",
          "model_name": "LayoutModel",
          "state": {
            "_view_name": "LayoutView",
            "grid_template_rows": null,
            "right": null,
            "justify_content": null,
            "_view_module": "@jupyter-widgets/base",
            "overflow": null,
            "_model_module_version": "1.2.0",
            "_view_count": null,
            "flex_flow": null,
            "width": null,
            "min_width": null,
            "border": null,
            "align_items": null,
            "bottom": null,
            "_model_module": "@jupyter-widgets/base",
            "top": null,
            "grid_column": null,
            "overflow_y": null,
            "overflow_x": null,
            "grid_auto_flow": null,
            "grid_area": null,
            "grid_template_columns": null,
            "flex": null,
            "_model_name": "LayoutModel",
            "justify_items": null,
            "grid_row": null,
            "max_height": null,
            "align_content": null,
            "visibility": null,
            "align_self": null,
            "height": null,
            "min_height": null,
            "padding": null,
            "grid_auto_rows": null,
            "grid_gap": null,
            "max_width": null,
            "order": null,
            "_view_module_version": "1.2.0",
            "grid_template_areas": null,
            "object_position": null,
            "object_fit": null,
            "grid_auto_columns": null,
            "margin": null,
            "display": null,
            "left": null
          }
        },
        "8ca2f49cf18244cb88afe4e25ec4647f": {
          "model_module": "@jupyter-widgets/controls",
          "model_name": "FloatProgressModel",
          "state": {
            "_view_name": "ProgressView",
            "style": "IPY_MODEL_f7df9535726c4edab741de3b20f9fd72",
            "_dom_classes": [],
            "description": "100%",
            "_model_name": "FloatProgressModel",
            "bar_style": "success",
            "max": 9,
            "_view_module": "@jupyter-widgets/controls",
            "_model_module_version": "1.5.0",
            "value": 9,
            "_view_count": null,
            "_view_module_version": "1.5.0",
            "orientation": "horizontal",
            "min": 0,
            "description_tooltip": null,
            "_model_module": "@jupyter-widgets/controls",
            "layout": "IPY_MODEL_1fd44390dcd94d8fbc55d6259d385d00"
          }
        },
        "db38ce6960d6418fbadcbf6f7484b516": {
          "model_module": "@jupyter-widgets/controls",
          "model_name": "HTMLModel",
          "state": {
            "_view_name": "HTMLView",
            "style": "IPY_MODEL_4ce6f321680b450786db0aa1e06e362b",
            "_dom_classes": [],
            "description": "",
            "_model_name": "HTMLModel",
            "placeholder": "​",
            "_view_module": "@jupyter-widgets/controls",
            "_model_module_version": "1.5.0",
            "value": " 9/9 [01:33&lt;00:00, 10.34s/it]",
            "_view_count": null,
            "_view_module_version": "1.5.0",
            "description_tooltip": null,
            "_model_module": "@jupyter-widgets/controls",
            "layout": "IPY_MODEL_f7ead790315340fcac92490b529eb838"
          }
        },
        "f7df9535726c4edab741de3b20f9fd72": {
          "model_module": "@jupyter-widgets/controls",
          "model_name": "ProgressStyleModel",
          "state": {
            "_view_name": "StyleView",
            "_model_name": "ProgressStyleModel",
            "description_width": "initial",
            "_view_module": "@jupyter-widgets/base",
            "_model_module_version": "1.5.0",
            "_view_count": null,
            "_view_module_version": "1.2.0",
            "bar_color": null,
            "_model_module": "@jupyter-widgets/controls"
          }
        },
        "1fd44390dcd94d8fbc55d6259d385d00": {
          "model_module": "@jupyter-widgets/base",
          "model_name": "LayoutModel",
          "state": {
            "_view_name": "LayoutView",
            "grid_template_rows": null,
            "right": null,
            "justify_content": null,
            "_view_module": "@jupyter-widgets/base",
            "overflow": null,
            "_model_module_version": "1.2.0",
            "_view_count": null,
            "flex_flow": null,
            "width": null,
            "min_width": null,
            "border": null,
            "align_items": null,
            "bottom": null,
            "_model_module": "@jupyter-widgets/base",
            "top": null,
            "grid_column": null,
            "overflow_y": null,
            "overflow_x": null,
            "grid_auto_flow": null,
            "grid_area": null,
            "grid_template_columns": null,
            "flex": null,
            "_model_name": "LayoutModel",
            "justify_items": null,
            "grid_row": null,
            "max_height": null,
            "align_content": null,
            "visibility": null,
            "align_self": null,
            "height": null,
            "min_height": null,
            "padding": null,
            "grid_auto_rows": null,
            "grid_gap": null,
            "max_width": null,
            "order": null,
            "_view_module_version": "1.2.0",
            "grid_template_areas": null,
            "object_position": null,
            "object_fit": null,
            "grid_auto_columns": null,
            "margin": null,
            "display": null,
            "left": null
          }
        },
        "4ce6f321680b450786db0aa1e06e362b": {
          "model_module": "@jupyter-widgets/controls",
          "model_name": "DescriptionStyleModel",
          "state": {
            "_view_name": "StyleView",
            "_model_name": "DescriptionStyleModel",
            "description_width": "",
            "_view_module": "@jupyter-widgets/base",
            "_model_module_version": "1.5.0",
            "_view_count": null,
            "_view_module_version": "1.2.0",
            "_model_module": "@jupyter-widgets/controls"
          }
        },
        "f7ead790315340fcac92490b529eb838": {
          "model_module": "@jupyter-widgets/base",
          "model_name": "LayoutModel",
          "state": {
            "_view_name": "LayoutView",
            "grid_template_rows": null,
            "right": null,
            "justify_content": null,
            "_view_module": "@jupyter-widgets/base",
            "overflow": null,
            "_model_module_version": "1.2.0",
            "_view_count": null,
            "flex_flow": null,
            "width": null,
            "min_width": null,
            "border": null,
            "align_items": null,
            "bottom": null,
            "_model_module": "@jupyter-widgets/base",
            "top": null,
            "grid_column": null,
            "overflow_y": null,
            "overflow_x": null,
            "grid_auto_flow": null,
            "grid_area": null,
            "grid_template_columns": null,
            "flex": null,
            "_model_name": "LayoutModel",
            "justify_items": null,
            "grid_row": null,
            "max_height": null,
            "align_content": null,
            "visibility": null,
            "align_self": null,
            "height": null,
            "min_height": null,
            "padding": null,
            "grid_auto_rows": null,
            "grid_gap": null,
            "max_width": null,
            "order": null,
            "_view_module_version": "1.2.0",
            "grid_template_areas": null,
            "object_position": null,
            "object_fit": null,
            "grid_auto_columns": null,
            "margin": null,
            "display": null,
            "left": null
          }
        },
        "ee4a52c9b56a457cb20485c88a69c263": {
          "model_module": "@jupyter-widgets/controls",
          "model_name": "HBoxModel",
          "state": {
            "_view_name": "HBoxView",
            "_dom_classes": [],
            "_model_name": "HBoxModel",
            "_view_module": "@jupyter-widgets/controls",
            "_model_module_version": "1.5.0",
            "_view_count": null,
            "_view_module_version": "1.5.0",
            "box_style": "",
            "layout": "IPY_MODEL_80ce132370de4566b77a55cd086d5313",
            "_model_module": "@jupyter-widgets/controls",
            "children": [
              "IPY_MODEL_5097b62caec149809678d4a1f2fb1122",
              "IPY_MODEL_182aa34ec5964fda9f79a282fb39f977"
            ]
          }
        },
        "80ce132370de4566b77a55cd086d5313": {
          "model_module": "@jupyter-widgets/base",
          "model_name": "LayoutModel",
          "state": {
            "_view_name": "LayoutView",
            "grid_template_rows": null,
            "right": null,
            "justify_content": null,
            "_view_module": "@jupyter-widgets/base",
            "overflow": null,
            "_model_module_version": "1.2.0",
            "_view_count": null,
            "flex_flow": null,
            "width": null,
            "min_width": null,
            "border": null,
            "align_items": null,
            "bottom": null,
            "_model_module": "@jupyter-widgets/base",
            "top": null,
            "grid_column": null,
            "overflow_y": null,
            "overflow_x": null,
            "grid_auto_flow": null,
            "grid_area": null,
            "grid_template_columns": null,
            "flex": null,
            "_model_name": "LayoutModel",
            "justify_items": null,
            "grid_row": null,
            "max_height": null,
            "align_content": null,
            "visibility": null,
            "align_self": null,
            "height": null,
            "min_height": null,
            "padding": null,
            "grid_auto_rows": null,
            "grid_gap": null,
            "max_width": null,
            "order": null,
            "_view_module_version": "1.2.0",
            "grid_template_areas": null,
            "object_position": null,
            "object_fit": null,
            "grid_auto_columns": null,
            "margin": null,
            "display": null,
            "left": null
          }
        },
        "5097b62caec149809678d4a1f2fb1122": {
          "model_module": "@jupyter-widgets/controls",
          "model_name": "FloatProgressModel",
          "state": {
            "_view_name": "ProgressView",
            "style": "IPY_MODEL_9681c4642797488f81c75106aa0ac96c",
            "_dom_classes": [],
            "description": "100%",
            "_model_name": "FloatProgressModel",
            "bar_style": "success",
            "max": 107,
            "_view_module": "@jupyter-widgets/controls",
            "_model_module_version": "1.5.0",
            "value": 107,
            "_view_count": null,
            "_view_module_version": "1.5.0",
            "orientation": "horizontal",
            "min": 0,
            "description_tooltip": null,
            "_model_module": "@jupyter-widgets/controls",
            "layout": "IPY_MODEL_f9c8846065014d50a04f0f630843ae8a"
          }
        },
        "182aa34ec5964fda9f79a282fb39f977": {
          "model_module": "@jupyter-widgets/controls",
          "model_name": "HTMLModel",
          "state": {
            "_view_name": "HTMLView",
            "style": "IPY_MODEL_d9bbb8cb43334be38055b32b9de6588e",
            "_dom_classes": [],
            "description": "",
            "_model_name": "HTMLModel",
            "placeholder": "​",
            "_view_module": "@jupyter-widgets/controls",
            "_model_module_version": "1.5.0",
            "value": " 107/107 [04:38&lt;00:00,  2.60s/it]",
            "_view_count": null,
            "_view_module_version": "1.5.0",
            "description_tooltip": null,
            "_model_module": "@jupyter-widgets/controls",
            "layout": "IPY_MODEL_0b45f07800214a9fb845cb99232d1c24"
          }
        },
        "9681c4642797488f81c75106aa0ac96c": {
          "model_module": "@jupyter-widgets/controls",
          "model_name": "ProgressStyleModel",
          "state": {
            "_view_name": "StyleView",
            "_model_name": "ProgressStyleModel",
            "description_width": "initial",
            "_view_module": "@jupyter-widgets/base",
            "_model_module_version": "1.5.0",
            "_view_count": null,
            "_view_module_version": "1.2.0",
            "bar_color": null,
            "_model_module": "@jupyter-widgets/controls"
          }
        },
        "f9c8846065014d50a04f0f630843ae8a": {
          "model_module": "@jupyter-widgets/base",
          "model_name": "LayoutModel",
          "state": {
            "_view_name": "LayoutView",
            "grid_template_rows": null,
            "right": null,
            "justify_content": null,
            "_view_module": "@jupyter-widgets/base",
            "overflow": null,
            "_model_module_version": "1.2.0",
            "_view_count": null,
            "flex_flow": null,
            "width": null,
            "min_width": null,
            "border": null,
            "align_items": null,
            "bottom": null,
            "_model_module": "@jupyter-widgets/base",
            "top": null,
            "grid_column": null,
            "overflow_y": null,
            "overflow_x": null,
            "grid_auto_flow": null,
            "grid_area": null,
            "grid_template_columns": null,
            "flex": null,
            "_model_name": "LayoutModel",
            "justify_items": null,
            "grid_row": null,
            "max_height": null,
            "align_content": null,
            "visibility": null,
            "align_self": null,
            "height": null,
            "min_height": null,
            "padding": null,
            "grid_auto_rows": null,
            "grid_gap": null,
            "max_width": null,
            "order": null,
            "_view_module_version": "1.2.0",
            "grid_template_areas": null,
            "object_position": null,
            "object_fit": null,
            "grid_auto_columns": null,
            "margin": null,
            "display": null,
            "left": null
          }
        },
        "d9bbb8cb43334be38055b32b9de6588e": {
          "model_module": "@jupyter-widgets/controls",
          "model_name": "DescriptionStyleModel",
          "state": {
            "_view_name": "StyleView",
            "_model_name": "DescriptionStyleModel",
            "description_width": "",
            "_view_module": "@jupyter-widgets/base",
            "_model_module_version": "1.5.0",
            "_view_count": null,
            "_view_module_version": "1.2.0",
            "_model_module": "@jupyter-widgets/controls"
          }
        },
        "0b45f07800214a9fb845cb99232d1c24": {
          "model_module": "@jupyter-widgets/base",
          "model_name": "LayoutModel",
          "state": {
            "_view_name": "LayoutView",
            "grid_template_rows": null,
            "right": null,
            "justify_content": null,
            "_view_module": "@jupyter-widgets/base",
            "overflow": null,
            "_model_module_version": "1.2.0",
            "_view_count": null,
            "flex_flow": null,
            "width": null,
            "min_width": null,
            "border": null,
            "align_items": null,
            "bottom": null,
            "_model_module": "@jupyter-widgets/base",
            "top": null,
            "grid_column": null,
            "overflow_y": null,
            "overflow_x": null,
            "grid_auto_flow": null,
            "grid_area": null,
            "grid_template_columns": null,
            "flex": null,
            "_model_name": "LayoutModel",
            "justify_items": null,
            "grid_row": null,
            "max_height": null,
            "align_content": null,
            "visibility": null,
            "align_self": null,
            "height": null,
            "min_height": null,
            "padding": null,
            "grid_auto_rows": null,
            "grid_gap": null,
            "max_width": null,
            "order": null,
            "_view_module_version": "1.2.0",
            "grid_template_areas": null,
            "object_position": null,
            "object_fit": null,
            "grid_auto_columns": null,
            "margin": null,
            "display": null,
            "left": null
          }
        },
        "eb429b6b179a4c6eb4a1bba85da1cf19": {
          "model_module": "@jupyter-widgets/controls",
          "model_name": "HBoxModel",
          "state": {
            "_view_name": "HBoxView",
            "_dom_classes": [],
            "_model_name": "HBoxModel",
            "_view_module": "@jupyter-widgets/controls",
            "_model_module_version": "1.5.0",
            "_view_count": null,
            "_view_module_version": "1.5.0",
            "box_style": "",
            "layout": "IPY_MODEL_536fe16a15a74528a9c9c74d3592ca5f",
            "_model_module": "@jupyter-widgets/controls",
            "children": [
              "IPY_MODEL_63b9302da49b4d46a461d615e4644300",
              "IPY_MODEL_0ffbfddbcff246de8573f02658ec28bc"
            ]
          }
        },
        "536fe16a15a74528a9c9c74d3592ca5f": {
          "model_module": "@jupyter-widgets/base",
          "model_name": "LayoutModel",
          "state": {
            "_view_name": "LayoutView",
            "grid_template_rows": null,
            "right": null,
            "justify_content": null,
            "_view_module": "@jupyter-widgets/base",
            "overflow": null,
            "_model_module_version": "1.2.0",
            "_view_count": null,
            "flex_flow": null,
            "width": null,
            "min_width": null,
            "border": null,
            "align_items": null,
            "bottom": null,
            "_model_module": "@jupyter-widgets/base",
            "top": null,
            "grid_column": null,
            "overflow_y": null,
            "overflow_x": null,
            "grid_auto_flow": null,
            "grid_area": null,
            "grid_template_columns": null,
            "flex": null,
            "_model_name": "LayoutModel",
            "justify_items": null,
            "grid_row": null,
            "max_height": null,
            "align_content": null,
            "visibility": null,
            "align_self": null,
            "height": null,
            "min_height": null,
            "padding": null,
            "grid_auto_rows": null,
            "grid_gap": null,
            "max_width": null,
            "order": null,
            "_view_module_version": "1.2.0",
            "grid_template_areas": null,
            "object_position": null,
            "object_fit": null,
            "grid_auto_columns": null,
            "margin": null,
            "display": null,
            "left": null
          }
        },
        "63b9302da49b4d46a461d615e4644300": {
          "model_module": "@jupyter-widgets/controls",
          "model_name": "FloatProgressModel",
          "state": {
            "_view_name": "ProgressView",
            "style": "IPY_MODEL_fa6562e7a9004f7a8fae23e78c8590aa",
            "_dom_classes": [],
            "description": "100%",
            "_model_name": "FloatProgressModel",
            "bar_style": "success",
            "max": 1,
            "_view_module": "@jupyter-widgets/controls",
            "_model_module_version": "1.5.0",
            "value": 1,
            "_view_count": null,
            "_view_module_version": "1.5.0",
            "orientation": "horizontal",
            "min": 0,
            "description_tooltip": null,
            "_model_module": "@jupyter-widgets/controls",
            "layout": "IPY_MODEL_70f42ee0fc56489eb77784c6241366d6"
          }
        },
        "0ffbfddbcff246de8573f02658ec28bc": {
          "model_module": "@jupyter-widgets/controls",
          "model_name": "HTMLModel",
          "state": {
            "_view_name": "HTMLView",
            "style": "IPY_MODEL_cc1b5ee9d2f64e8883e3234a4c34dd54",
            "_dom_classes": [],
            "description": "",
            "_model_name": "HTMLModel",
            "placeholder": "​",
            "_view_module": "@jupyter-widgets/controls",
            "_model_module_version": "1.5.0",
            "value": " 1/1 [03:01&lt;00:00, 181.84s/it]",
            "_view_count": null,
            "_view_module_version": "1.5.0",
            "description_tooltip": null,
            "_model_module": "@jupyter-widgets/controls",
            "layout": "IPY_MODEL_90369e3751c94123a32e8975eae301c6"
          }
        },
        "fa6562e7a9004f7a8fae23e78c8590aa": {
          "model_module": "@jupyter-widgets/controls",
          "model_name": "ProgressStyleModel",
          "state": {
            "_view_name": "StyleView",
            "_model_name": "ProgressStyleModel",
            "description_width": "initial",
            "_view_module": "@jupyter-widgets/base",
            "_model_module_version": "1.5.0",
            "_view_count": null,
            "_view_module_version": "1.2.0",
            "bar_color": null,
            "_model_module": "@jupyter-widgets/controls"
          }
        },
        "70f42ee0fc56489eb77784c6241366d6": {
          "model_module": "@jupyter-widgets/base",
          "model_name": "LayoutModel",
          "state": {
            "_view_name": "LayoutView",
            "grid_template_rows": null,
            "right": null,
            "justify_content": null,
            "_view_module": "@jupyter-widgets/base",
            "overflow": null,
            "_model_module_version": "1.2.0",
            "_view_count": null,
            "flex_flow": null,
            "width": null,
            "min_width": null,
            "border": null,
            "align_items": null,
            "bottom": null,
            "_model_module": "@jupyter-widgets/base",
            "top": null,
            "grid_column": null,
            "overflow_y": null,
            "overflow_x": null,
            "grid_auto_flow": null,
            "grid_area": null,
            "grid_template_columns": null,
            "flex": null,
            "_model_name": "LayoutModel",
            "justify_items": null,
            "grid_row": null,
            "max_height": null,
            "align_content": null,
            "visibility": null,
            "align_self": null,
            "height": null,
            "min_height": null,
            "padding": null,
            "grid_auto_rows": null,
            "grid_gap": null,
            "max_width": null,
            "order": null,
            "_view_module_version": "1.2.0",
            "grid_template_areas": null,
            "object_position": null,
            "object_fit": null,
            "grid_auto_columns": null,
            "margin": null,
            "display": null,
            "left": null
          }
        },
        "cc1b5ee9d2f64e8883e3234a4c34dd54": {
          "model_module": "@jupyter-widgets/controls",
          "model_name": "DescriptionStyleModel",
          "state": {
            "_view_name": "StyleView",
            "_model_name": "DescriptionStyleModel",
            "description_width": "",
            "_view_module": "@jupyter-widgets/base",
            "_model_module_version": "1.5.0",
            "_view_count": null,
            "_view_module_version": "1.2.0",
            "_model_module": "@jupyter-widgets/controls"
          }
        },
        "90369e3751c94123a32e8975eae301c6": {
          "model_module": "@jupyter-widgets/base",
          "model_name": "LayoutModel",
          "state": {
            "_view_name": "LayoutView",
            "grid_template_rows": null,
            "right": null,
            "justify_content": null,
            "_view_module": "@jupyter-widgets/base",
            "overflow": null,
            "_model_module_version": "1.2.0",
            "_view_count": null,
            "flex_flow": null,
            "width": null,
            "min_width": null,
            "border": null,
            "align_items": null,
            "bottom": null,
            "_model_module": "@jupyter-widgets/base",
            "top": null,
            "grid_column": null,
            "overflow_y": null,
            "overflow_x": null,
            "grid_auto_flow": null,
            "grid_area": null,
            "grid_template_columns": null,
            "flex": null,
            "_model_name": "LayoutModel",
            "justify_items": null,
            "grid_row": null,
            "max_height": null,
            "align_content": null,
            "visibility": null,
            "align_self": null,
            "height": null,
            "min_height": null,
            "padding": null,
            "grid_auto_rows": null,
            "grid_gap": null,
            "max_width": null,
            "order": null,
            "_view_module_version": "1.2.0",
            "grid_template_areas": null,
            "object_position": null,
            "object_fit": null,
            "grid_auto_columns": null,
            "margin": null,
            "display": null,
            "left": null
          }
        },
        "cd4b7830d62a404aa5eedff07d6bf33c": {
          "model_module": "@jupyter-widgets/controls",
          "model_name": "HBoxModel",
          "state": {
            "_view_name": "HBoxView",
            "_dom_classes": [],
            "_model_name": "HBoxModel",
            "_view_module": "@jupyter-widgets/controls",
            "_model_module_version": "1.5.0",
            "_view_count": null,
            "_view_module_version": "1.5.0",
            "box_style": "",
            "layout": "IPY_MODEL_9634dacd5fe943129e9a729c38595e3f",
            "_model_module": "@jupyter-widgets/controls",
            "children": [
              "IPY_MODEL_acaa1dbe155c4d13b42860794a3895da",
              "IPY_MODEL_3c239599f206410598570286adfa91e6"
            ]
          }
        },
        "9634dacd5fe943129e9a729c38595e3f": {
          "model_module": "@jupyter-widgets/base",
          "model_name": "LayoutModel",
          "state": {
            "_view_name": "LayoutView",
            "grid_template_rows": null,
            "right": null,
            "justify_content": null,
            "_view_module": "@jupyter-widgets/base",
            "overflow": null,
            "_model_module_version": "1.2.0",
            "_view_count": null,
            "flex_flow": null,
            "width": null,
            "min_width": null,
            "border": null,
            "align_items": null,
            "bottom": null,
            "_model_module": "@jupyter-widgets/base",
            "top": null,
            "grid_column": null,
            "overflow_y": null,
            "overflow_x": null,
            "grid_auto_flow": null,
            "grid_area": null,
            "grid_template_columns": null,
            "flex": null,
            "_model_name": "LayoutModel",
            "justify_items": null,
            "grid_row": null,
            "max_height": null,
            "align_content": null,
            "visibility": null,
            "align_self": null,
            "height": null,
            "min_height": null,
            "padding": null,
            "grid_auto_rows": null,
            "grid_gap": null,
            "max_width": null,
            "order": null,
            "_view_module_version": "1.2.0",
            "grid_template_areas": null,
            "object_position": null,
            "object_fit": null,
            "grid_auto_columns": null,
            "margin": null,
            "display": null,
            "left": null
          }
        },
        "acaa1dbe155c4d13b42860794a3895da": {
          "model_module": "@jupyter-widgets/controls",
          "model_name": "FloatProgressModel",
          "state": {
            "_view_name": "ProgressView",
            "style": "IPY_MODEL_be075d8d761e4b069539d77d1aedd0a1",
            "_dom_classes": [],
            "description": "100%",
            "_model_name": "FloatProgressModel",
            "bar_style": "success",
            "max": 425,
            "_view_module": "@jupyter-widgets/controls",
            "_model_module_version": "1.5.0",
            "value": 425,
            "_view_count": null,
            "_view_module_version": "1.5.0",
            "orientation": "horizontal",
            "min": 0,
            "description_tooltip": null,
            "_model_module": "@jupyter-widgets/controls",
            "layout": "IPY_MODEL_89c5655bb0124628b224d836615d53db"
          }
        },
        "3c239599f206410598570286adfa91e6": {
          "model_module": "@jupyter-widgets/controls",
          "model_name": "HTMLModel",
          "state": {
            "_view_name": "HTMLView",
            "style": "IPY_MODEL_fc695c13efd145dd91d76cf1aa4b0410",
            "_dom_classes": [],
            "description": "",
            "_model_name": "HTMLModel",
            "placeholder": "​",
            "_view_module": "@jupyter-widgets/controls",
            "_model_module_version": "1.5.0",
            "value": " 425/425 [00:36&lt;00:00, 11.67it/s]",
            "_view_count": null,
            "_view_module_version": "1.5.0",
            "description_tooltip": null,
            "_model_module": "@jupyter-widgets/controls",
            "layout": "IPY_MODEL_46acaffde0394fd4a8dca309faa76073"
          }
        },
        "be075d8d761e4b069539d77d1aedd0a1": {
          "model_module": "@jupyter-widgets/controls",
          "model_name": "ProgressStyleModel",
          "state": {
            "_view_name": "StyleView",
            "_model_name": "ProgressStyleModel",
            "description_width": "initial",
            "_view_module": "@jupyter-widgets/base",
            "_model_module_version": "1.5.0",
            "_view_count": null,
            "_view_module_version": "1.2.0",
            "bar_color": null,
            "_model_module": "@jupyter-widgets/controls"
          }
        },
        "89c5655bb0124628b224d836615d53db": {
          "model_module": "@jupyter-widgets/base",
          "model_name": "LayoutModel",
          "state": {
            "_view_name": "LayoutView",
            "grid_template_rows": null,
            "right": null,
            "justify_content": null,
            "_view_module": "@jupyter-widgets/base",
            "overflow": null,
            "_model_module_version": "1.2.0",
            "_view_count": null,
            "flex_flow": null,
            "width": null,
            "min_width": null,
            "border": null,
            "align_items": null,
            "bottom": null,
            "_model_module": "@jupyter-widgets/base",
            "top": null,
            "grid_column": null,
            "overflow_y": null,
            "overflow_x": null,
            "grid_auto_flow": null,
            "grid_area": null,
            "grid_template_columns": null,
            "flex": null,
            "_model_name": "LayoutModel",
            "justify_items": null,
            "grid_row": null,
            "max_height": null,
            "align_content": null,
            "visibility": null,
            "align_self": null,
            "height": null,
            "min_height": null,
            "padding": null,
            "grid_auto_rows": null,
            "grid_gap": null,
            "max_width": null,
            "order": null,
            "_view_module_version": "1.2.0",
            "grid_template_areas": null,
            "object_position": null,
            "object_fit": null,
            "grid_auto_columns": null,
            "margin": null,
            "display": null,
            "left": null
          }
        },
        "fc695c13efd145dd91d76cf1aa4b0410": {
          "model_module": "@jupyter-widgets/controls",
          "model_name": "DescriptionStyleModel",
          "state": {
            "_view_name": "StyleView",
            "_model_name": "DescriptionStyleModel",
            "description_width": "",
            "_view_module": "@jupyter-widgets/base",
            "_model_module_version": "1.5.0",
            "_view_count": null,
            "_view_module_version": "1.2.0",
            "_model_module": "@jupyter-widgets/controls"
          }
        },
        "46acaffde0394fd4a8dca309faa76073": {
          "model_module": "@jupyter-widgets/base",
          "model_name": "LayoutModel",
          "state": {
            "_view_name": "LayoutView",
            "grid_template_rows": null,
            "right": null,
            "justify_content": null,
            "_view_module": "@jupyter-widgets/base",
            "overflow": null,
            "_model_module_version": "1.2.0",
            "_view_count": null,
            "flex_flow": null,
            "width": null,
            "min_width": null,
            "border": null,
            "align_items": null,
            "bottom": null,
            "_model_module": "@jupyter-widgets/base",
            "top": null,
            "grid_column": null,
            "overflow_y": null,
            "overflow_x": null,
            "grid_auto_flow": null,
            "grid_area": null,
            "grid_template_columns": null,
            "flex": null,
            "_model_name": "LayoutModel",
            "justify_items": null,
            "grid_row": null,
            "max_height": null,
            "align_content": null,
            "visibility": null,
            "align_self": null,
            "height": null,
            "min_height": null,
            "padding": null,
            "grid_auto_rows": null,
            "grid_gap": null,
            "max_width": null,
            "order": null,
            "_view_module_version": "1.2.0",
            "grid_template_areas": null,
            "object_position": null,
            "object_fit": null,
            "grid_auto_columns": null,
            "margin": null,
            "display": null,
            "left": null
          }
        },
        "d70b86e72c574afaa10e788830e51af4": {
          "model_module": "@jupyter-widgets/controls",
          "model_name": "HBoxModel",
          "state": {
            "_view_name": "HBoxView",
            "_dom_classes": [],
            "_model_name": "HBoxModel",
            "_view_module": "@jupyter-widgets/controls",
            "_model_module_version": "1.5.0",
            "_view_count": null,
            "_view_module_version": "1.5.0",
            "box_style": "",
            "layout": "IPY_MODEL_299eec6f7f984d688bd1854a109da5de",
            "_model_module": "@jupyter-widgets/controls",
            "children": [
              "IPY_MODEL_e47e860e7906409dbbcc90c7d31f860c",
              "IPY_MODEL_640452c72a0c45a682c2298a1943cad8"
            ]
          }
        },
        "299eec6f7f984d688bd1854a109da5de": {
          "model_module": "@jupyter-widgets/base",
          "model_name": "LayoutModel",
          "state": {
            "_view_name": "LayoutView",
            "grid_template_rows": null,
            "right": null,
            "justify_content": null,
            "_view_module": "@jupyter-widgets/base",
            "overflow": null,
            "_model_module_version": "1.2.0",
            "_view_count": null,
            "flex_flow": null,
            "width": null,
            "min_width": null,
            "border": null,
            "align_items": null,
            "bottom": null,
            "_model_module": "@jupyter-widgets/base",
            "top": null,
            "grid_column": null,
            "overflow_y": null,
            "overflow_x": null,
            "grid_auto_flow": null,
            "grid_area": null,
            "grid_template_columns": null,
            "flex": null,
            "_model_name": "LayoutModel",
            "justify_items": null,
            "grid_row": null,
            "max_height": null,
            "align_content": null,
            "visibility": null,
            "align_self": null,
            "height": null,
            "min_height": null,
            "padding": null,
            "grid_auto_rows": null,
            "grid_gap": null,
            "max_width": null,
            "order": null,
            "_view_module_version": "1.2.0",
            "grid_template_areas": null,
            "object_position": null,
            "object_fit": null,
            "grid_auto_columns": null,
            "margin": null,
            "display": null,
            "left": null
          }
        },
        "e47e860e7906409dbbcc90c7d31f860c": {
          "model_module": "@jupyter-widgets/controls",
          "model_name": "FloatProgressModel",
          "state": {
            "_view_name": "ProgressView",
            "style": "IPY_MODEL_a90fc7ad21194f6587bedff66210f37f",
            "_dom_classes": [],
            "description": "100%",
            "_model_name": "FloatProgressModel",
            "bar_style": "success",
            "max": 107,
            "_view_module": "@jupyter-widgets/controls",
            "_model_module_version": "1.5.0",
            "value": 107,
            "_view_count": null,
            "_view_module_version": "1.5.0",
            "orientation": "horizontal",
            "min": 0,
            "description_tooltip": null,
            "_model_module": "@jupyter-widgets/controls",
            "layout": "IPY_MODEL_d2d410269d9f41b1a12b32f7a37301e2"
          }
        },
        "640452c72a0c45a682c2298a1943cad8": {
          "model_module": "@jupyter-widgets/controls",
          "model_name": "HTMLModel",
          "state": {
            "_view_name": "HTMLView",
            "style": "IPY_MODEL_fd32ccacfb1241e188fb6f01230c7cb3",
            "_dom_classes": [],
            "description": "",
            "_model_name": "HTMLModel",
            "placeholder": "​",
            "_view_module": "@jupyter-widgets/controls",
            "_model_module_version": "1.5.0",
            "value": " 107/107 [00:06&lt;00:00, 16.74it/s]",
            "_view_count": null,
            "_view_module_version": "1.5.0",
            "description_tooltip": null,
            "_model_module": "@jupyter-widgets/controls",
            "layout": "IPY_MODEL_3c349f7bd22e41ebac6e4d8daa56eee0"
          }
        },
        "a90fc7ad21194f6587bedff66210f37f": {
          "model_module": "@jupyter-widgets/controls",
          "model_name": "ProgressStyleModel",
          "state": {
            "_view_name": "StyleView",
            "_model_name": "ProgressStyleModel",
            "description_width": "initial",
            "_view_module": "@jupyter-widgets/base",
            "_model_module_version": "1.5.0",
            "_view_count": null,
            "_view_module_version": "1.2.0",
            "bar_color": null,
            "_model_module": "@jupyter-widgets/controls"
          }
        },
        "d2d410269d9f41b1a12b32f7a37301e2": {
          "model_module": "@jupyter-widgets/base",
          "model_name": "LayoutModel",
          "state": {
            "_view_name": "LayoutView",
            "grid_template_rows": null,
            "right": null,
            "justify_content": null,
            "_view_module": "@jupyter-widgets/base",
            "overflow": null,
            "_model_module_version": "1.2.0",
            "_view_count": null,
            "flex_flow": null,
            "width": null,
            "min_width": null,
            "border": null,
            "align_items": null,
            "bottom": null,
            "_model_module": "@jupyter-widgets/base",
            "top": null,
            "grid_column": null,
            "overflow_y": null,
            "overflow_x": null,
            "grid_auto_flow": null,
            "grid_area": null,
            "grid_template_columns": null,
            "flex": null,
            "_model_name": "LayoutModel",
            "justify_items": null,
            "grid_row": null,
            "max_height": null,
            "align_content": null,
            "visibility": null,
            "align_self": null,
            "height": null,
            "min_height": null,
            "padding": null,
            "grid_auto_rows": null,
            "grid_gap": null,
            "max_width": null,
            "order": null,
            "_view_module_version": "1.2.0",
            "grid_template_areas": null,
            "object_position": null,
            "object_fit": null,
            "grid_auto_columns": null,
            "margin": null,
            "display": null,
            "left": null
          }
        },
        "fd32ccacfb1241e188fb6f01230c7cb3": {
          "model_module": "@jupyter-widgets/controls",
          "model_name": "DescriptionStyleModel",
          "state": {
            "_view_name": "StyleView",
            "_model_name": "DescriptionStyleModel",
            "description_width": "",
            "_view_module": "@jupyter-widgets/base",
            "_model_module_version": "1.5.0",
            "_view_count": null,
            "_view_module_version": "1.2.0",
            "_model_module": "@jupyter-widgets/controls"
          }
        },
        "3c349f7bd22e41ebac6e4d8daa56eee0": {
          "model_module": "@jupyter-widgets/base",
          "model_name": "LayoutModel",
          "state": {
            "_view_name": "LayoutView",
            "grid_template_rows": null,
            "right": null,
            "justify_content": null,
            "_view_module": "@jupyter-widgets/base",
            "overflow": null,
            "_model_module_version": "1.2.0",
            "_view_count": null,
            "flex_flow": null,
            "width": null,
            "min_width": null,
            "border": null,
            "align_items": null,
            "bottom": null,
            "_model_module": "@jupyter-widgets/base",
            "top": null,
            "grid_column": null,
            "overflow_y": null,
            "overflow_x": null,
            "grid_auto_flow": null,
            "grid_area": null,
            "grid_template_columns": null,
            "flex": null,
            "_model_name": "LayoutModel",
            "justify_items": null,
            "grid_row": null,
            "max_height": null,
            "align_content": null,
            "visibility": null,
            "align_self": null,
            "height": null,
            "min_height": null,
            "padding": null,
            "grid_auto_rows": null,
            "grid_gap": null,
            "max_width": null,
            "order": null,
            "_view_module_version": "1.2.0",
            "grid_template_areas": null,
            "object_position": null,
            "object_fit": null,
            "grid_auto_columns": null,
            "margin": null,
            "display": null,
            "left": null
          }
        },
        "be62160adbc746958091ef676897c386": {
          "model_module": "keplergl-jupyter",
          "model_name": "KeplerGlModal",
          "state": {
            "_view_name": "KeplerGlView",
            "_dom_classes": [],
            "_model_name": "KeplerGlModal",
            "config": {},
            "_view_module": "keplergl-jupyter",
            "_model_module_version": "^0.2.2",
            "value": "Hello World!",
            "_view_count": null,
            "_view_module_version": "^0.2.2",
            "data": {
              "cities": {
                "index": [
                  0,
                  1,
                  2,
                  3,
                  4,
                  5,
                  6,
                  7,
                  8,
                  9,
                  10,
                  11,
                  12,
                  13,
                  14,
                  15,
                  16,
                  17,
                  18,
                  19,
                  20,
                  21,
                  22,
                  23,
                  24,
                  25,
                  26,
                  27,
                  28,
                  29,
                  30,
                  31,
                  32,
                  33,
                  34,
                  35,
                  36,
                  37,
                  38,
                  39,
                  40,
                  41,
                  42,
                  43,
                  44,
                  45,
                  46,
                  47,
                  48,
                  49,
                  50,
                  51,
                  52,
                  53,
                  54,
                  55,
                  56,
                  57,
                  58,
                  59,
                  60,
                  61,
                  62,
                  63,
                  64,
                  65,
                  66,
                  67,
                  68,
                  69,
                  70,
                  71,
                  72,
                  73,
                  74,
                  75,
                  76,
                  77,
                  78,
                  79,
                  80,
                  81,
                  82,
                  83,
                  84,
                  85,
                  86,
                  87,
                  88,
                  89,
                  90,
                  91,
                  92,
                  93,
                  94,
                  95,
                  96,
                  97,
                  98,
                  99,
                  100,
                  101,
                  102,
                  103,
                  104,
                  105,
                  106,
                  107,
                  108,
                  109,
                  110,
                  111,
                  112,
                  113,
                  114,
                  115,
                  116,
                  117,
                  118,
                  119,
                  120,
                  121,
                  122,
                  123,
                  124,
                  125,
                  126,
                  127,
                  128,
                  129,
                  130,
                  131,
                  132,
                  133,
                  134,
                  135,
                  136,
                  137,
                  138,
                  139,
                  140,
                  141,
                  142,
                  143,
                  144,
                  145,
                  146,
                  147,
                  148,
                  149,
                  150,
                  151,
                  152,
                  153,
                  154,
                  155,
                  156,
                  157,
                  158,
                  159,
                  160,
                  161,
                  162,
                  163,
                  164,
                  165,
                  166,
                  167,
                  168,
                  169,
                  170,
                  171,
                  172,
                  173,
                  174,
                  175,
                  176,
                  177,
                  178,
                  179,
                  180,
                  181,
                  182,
                  183,
                  184,
                  185,
                  186,
                  187,
                  188,
                  189,
                  190,
                  191,
                  192,
                  193,
                  194,
                  195,
                  196,
                  197,
                  198,
                  199,
                  200,
                  201,
                  202,
                  203,
                  204,
                  205,
                  206,
                  207,
                  208,
                  209,
                  210,
                  211,
                  212,
                  213,
                  214,
                  215,
                  216,
                  217,
                  218,
                  219,
                  220,
                  221,
                  222,
                  223,
                  224,
                  225,
                  226,
                  227,
                  228,
                  229,
                  230,
                  231,
                  232,
                  233,
                  234,
                  235,
                  236,
                  237,
                  238,
                  239,
                  240,
                  241,
                  242,
                  243,
                  244,
                  245,
                  246,
                  247,
                  248,
                  249,
                  250,
                  251,
                  252,
                  253,
                  254,
                  255,
                  256,
                  257,
                  258,
                  259,
                  260,
                  261,
                  262,
                  263,
                  264,
                  265,
                  266,
                  267,
                  268,
                  269,
                  270,
                  271,
                  272,
                  273,
                  274,
                  275,
                  276,
                  277,
                  278,
                  279,
                  280,
                  281,
                  282,
                  283,
                  284,
                  285,
                  286,
                  287,
                  288,
                  289,
                  290,
                  291,
                  292,
                  293,
                  294,
                  295,
                  296,
                  297,
                  298,
                  299,
                  300,
                  301,
                  302,
                  303,
                  304,
                  305,
                  306,
                  307,
                  308,
                  309,
                  310,
                  311,
                  312,
                  313,
                  314,
                  315,
                  316,
                  317,
                  318,
                  319,
                  320,
                  321,
                  322,
                  323,
                  324,
                  325,
                  326,
                  327,
                  328,
                  329,
                  330,
                  331,
                  332,
                  333,
                  334,
                  335,
                  336,
                  337,
                  338,
                  339,
                  340,
                  341,
                  342,
                  343,
                  344,
                  345,
                  346,
                  347,
                  348,
                  349,
                  350,
                  351,
                  352,
                  353,
                  354,
                  355,
                  356,
                  357,
                  358,
                  359,
                  360,
                  361,
                  362,
                  363,
                  364,
                  365,
                  366,
                  367,
                  368,
                  369,
                  370,
                  371,
                  372,
                  373,
                  374,
                  375,
                  376,
                  377,
                  378,
                  379,
                  380,
                  381,
                  382,
                  383,
                  384,
                  385,
                  386,
                  387,
                  388,
                  389,
                  390,
                  391,
                  392,
                  393,
                  394,
                  395,
                  396,
                  397,
                  398,
                  399,
                  400,
                  401,
                  402,
                  403,
                  404,
                  405,
                  406,
                  407,
                  408,
                  409,
                  410,
                  411,
                  412,
                  413,
                  414,
                  415,
                  416,
                  417,
                  418,
                  419,
                  420,
                  421,
                  422,
                  423,
                  424
                ],
                "data": [
                  [
                    "ommNZCUV",
                    37.590776,
                    55.84863000000001,
                    -0.34815737860381524,
                    "Москва",
                    "bank"
                  ],
                  [
                    "nMe2LHPb",
                    37.78421,
                    55.750271,
                    1.294206304946465,
                    "Москва",
                    "bank"
                  ],
                  [
                    "ZgodVRqB",
                    39.635721,
                    47.21333,
                    -1.0396789295723543,
                    "Ростов-на-Дону",
                    "post_office"
                  ],
                  [
                    "0t2jNYdz",
                    37.70457,
                    55.78202,
                    -1.1693392203789554,
                    "Москва",
                    "atm"
                  ],
                  [
                    "U27W4QJ7",
                    37.643983,
                    55.730188,
                    -0.08883679699061309,
                    "Москва",
                    "atm"
                  ],
                  [
                    "ci9r9Fr2",
                    92.926002,
                    56.06590799999999,
                    -0.21849708779721416,
                    "Красноярск",
                    "atm"
                  ],
                  [
                    "O3tOF6uE",
                    30.4685,
                    59.9214,
                    -1.0396789295723543,
                    "Санкт-Петербург",
                    "atm"
                  ],
                  [
                    "CO76tdVs",
                    37.444304,
                    55.850511,
                    0.21370388155812275,
                    "Москва",
                    "atm"
                  ],
                  [
                    "GU0QclY1",
                    92.903162,
                    56.05029,
                    -0.30493728166828155,
                    "Красноярск",
                    "atm"
                  ],
                  [
                    "CHtHXJLp",
                    39.701709,
                    47.234012,
                    -0.13205689392614678,
                    "Ростов-на-Дону",
                    "atm"
                  ],
                  [
                    "sgrEW5hG",
                    39.716987,
                    47.222272,
                    -1.212559317314489,
                    "Ростов-на-Дону",
                    "bank"
                  ],
                  [
                    "XPqFCntc",
                    37.437191,
                    55.66470500000001,
                    -0.5642578632814836,
                    "Москва",
                    "atm"
                  ],
                  [
                    "1ZvdVY5t",
                    55.993548,
                    54.713414,
                    -0.34815737860381524,
                    "Уфа",
                    "bank"
                  ],
                  [
                    "zRh8HUje",
                    49.118586,
                    55.82957800000001,
                    0.04082349381598799,
                    "Казань",
                    "atm"
                  ],
                  [
                    "Nj7qV6KG",
                    37.799786,
                    55.793427,
                    0.4730244631713249,
                    "Москва",
                    "bank"
                  ],
                  [
                    "E2fZAexI",
                    37.40478,
                    55.81024,
                    -0.5642578632814836,
                    "Москва",
                    "post_office"
                  ],
                  [
                    "9BqGtCOu",
                    60.616914,
                    56.848247,
                    -0.17527699086168047,
                    "Екатеринбург",
                    "bank"
                  ],
                  [
                    "53eoFG4u",
                    43.863684,
                    56.228005,
                    0.6459048509134596,
                    "Нижний Новгород",
                    "atm"
                  ],
                  [
                    "ejjC2aU3",
                    92.974951,
                    56.014022,
                    -0.4345975724748826,
                    "Красноярск",
                    "atm"
                  ],
                  [
                    "e5ZywFU6",
                    37.730449,
                    55.706608,
                    0.3865842693002575,
                    "Москва",
                    "atm"
                  ],
                  [
                    "wQOQvE03",
                    30.579832,
                    59.735526,
                    -1.1261191234434216,
                    "Колпино",
                    "atm"
                  ],
                  [
                    "wXDJYllD",
                    37.597414,
                    55.850995,
                    0.6459048509134596,
                    "Москва",
                    "atm"
                  ],
                  [
                    "8GOlibor",
                    30.348665000000004,
                    59.832466,
                    0.732345044784527,
                    "Санкт-Петербург",
                    "atm"
                  ],
                  [
                    "SJOpfpK9",
                    82.87236800000002,
                    54.981574,
                    0.21370388155812275,
                    "Новосибирск",
                    "atm"
                  ],
                  [
                    "Fcqb4WDt",
                    92.931228,
                    56.004484,
                    -0.17527699086168047,
                    "Красноярск",
                    "bank"
                  ],
                  [
                    "B8K3Fzd0",
                    39.7046,
                    47.226000000000006,
                    0.08404359075152168,
                    "Ростов-на-Дону",
                    "bank"
                  ],
                  [
                    "0BYKB88d",
                    82.890947,
                    54.984036,
                    -0.3913774755393489,
                    "Новосибирск",
                    "post_office"
                  ],
                  [
                    "tFr5ROxI",
                    37.825155,
                    55.724124,
                    -0.4345975724748826,
                    "Москва",
                    "atm"
                  ],
                  [
                    "kg8oDow1",
                    37.628508,
                    55.759601,
                    -1.2557794142500227,
                    "Москва",
                    "atm"
                  ],
                  [
                    "0eSE1PRt",
                    37.491046,
                    55.683744,
                    -0.30493728166828155,
                    "Москва",
                    "atm"
                  ],
                  [
                    "dFRJyrdz",
                    37.595278,
                    55.58303299999999,
                    -0.0456167000550794,
                    "Москва",
                    "bank"
                  ],
                  [
                    "IVSpPooR",
                    37.53876500000001,
                    55.908623,
                    -1.0396789295723543,
                    "Москва",
                    "atm"
                  ],
                  [
                    "ePTGtnXP",
                    37.535637,
                    55.691698,
                    -0.34815737860381524,
                    "Москва",
                    "bank"
                  ],
                  [
                    "XTKhDNze",
                    37.659739,
                    55.84520300000001,
                    -1.1045090749756548,
                    "Москва",
                    "post_office"
                  ],
                  [
                    "saJNxolJ",
                    37.40677,
                    55.75784,
                    -1.1693392203789554,
                    "Москва",
                    "bank"
                  ],
                  [
                    "kXV2cKsB",
                    37.660087,
                    55.843941,
                    -0.4778176694104163,
                    "Москва",
                    "post_office"
                  ],
                  [
                    "Ge3rjnNS",
                    37.436247,
                    55.826377,
                    0.3865842693002575,
                    "Москва",
                    "bank"
                  ],
                  [
                    "Uep82ylV",
                    37.637687,
                    55.80745600000001,
                    0.5162445601068586,
                    "Москва",
                    "bank"
                  ],
                  [
                    "eqECPIIT",
                    37.7381,
                    55.815425,
                    -0.30493728166828155,
                    "Москва",
                    "bank"
                  ],
                  [
                    "jc6nGwVC",
                    37.603394,
                    55.609839,
                    0.6459048509134596,
                    "Москва",
                    "post_office"
                  ],
                  [
                    "hmgU8ZxH",
                    44.006516,
                    56.326797,
                    -0.52103776634595,
                    "Нижний Новгород",
                    "atm"
                  ],
                  [
                    "FghElX6D",
                    37.438987,
                    55.849423,
                    1.5535268865596672,
                    "Москва",
                    "bank"
                  ],
                  [
                    "UcFkrzvk",
                    30.505551,
                    59.831962,
                    -0.30493728166828155,
                    "Санкт-Петербург",
                    "atm"
                  ],
                  [
                    "cpG56rus",
                    30.47281,
                    59.91627,
                    -1.0396789295723543,
                    "Санкт-Петербург",
                    "bank"
                  ],
                  [
                    "FS7Ufln2",
                    50.21569,
                    53.239159,
                    0.3865842693002575,
                    "Самара",
                    "bank"
                  ],
                  [
                    "7T3FujXu",
                    39.67201,
                    47.211275,
                    0.8187852386555944,
                    "Ростов-на-Дону",
                    "atm"
                  ],
                  [
                    "tlkZpouQ",
                    43.948288,
                    56.321865,
                    -0.13205689392614678,
                    "Нижний Новгород",
                    "atm"
                  ],
                  [
                    "I0hubgK0",
                    60.556457,
                    56.806185,
                    -0.6939181540880848,
                    "Екатеринбург",
                    "atm"
                  ],
                  [
                    "Etvm4Few",
                    37.63443400000001,
                    55.82400500000001,
                    -0.0456167000550794,
                    "Москва",
                    "atm"
                  ],
                  [
                    "4kXXpr1r",
                    30.08969,
                    59.738702,
                    -0.9532387357012868,
                    "Санкт-Петербург",
                    "post_office"
                  ],
                  [
                    "p31ln7Rd",
                    82.961589,
                    55.039081,
                    0.08404359075152168,
                    "Новосибирск",
                    "atm"
                  ],
                  [
                    "lwTDMNbZ",
                    37.765758,
                    55.704134,
                    0.6459048509134596,
                    "Москва",
                    "atm"
                  ],
                  [
                    "jskwtTpg",
                    37.62166,
                    55.681346,
                    -0.6939181540880848,
                    "Москва",
                    "atm"
                  ],
                  [
                    "9p3J8gPd",
                    30.14391,
                    59.849135,
                    -1.212559317314489,
                    "Санкт-Петербург",
                    "atm"
                  ],
                  [
                    "c5wVfiUF",
                    37.679968,
                    55.77293,
                    1.8128474681728688,
                    "Москва",
                    "bank"
                  ],
                  [
                    "yyX5XM5Y",
                    37.728164,
                    55.691734,
                    -0.34815737860381524,
                    "Москва",
                    "atm"
                  ],
                  [
                    "ZfbQN6SL",
                    37.646375,
                    55.653255,
                    -0.002396603119545705,
                    "Москва",
                    "atm"
                  ],
                  [
                    "mIGlDDq2",
                    30.415815,
                    59.953669,
                    -0.7371382510236184,
                    "Санкт-Петербург",
                    "atm"
                  ],
                  [
                    "nh41SLK0",
                    56.111306000000006,
                    54.80681800000001,
                    0.8620053355911281,
                    "Уфа",
                    "atm"
                  ],
                  [
                    "GLpUl6ku",
                    49.219566,
                    55.74568100000001,
                    -0.08883679699061309,
                    "Казань",
                    "post_office"
                  ],
                  [
                    "8NvqE4CJ",
                    37.486227,
                    55.839988,
                    0.4730244631713249,
                    "Москва",
                    "payment_terminal"
                  ],
                  [
                    "6DLyJRJT",
                    60.595022,
                    56.834796,
                    -1.1261191234434216,
                    "Екатеринбург",
                    "bank"
                  ],
                  [
                    "Mk1D78ip",
                    50.126074,
                    53.187828,
                    -1.1693392203789554,
                    "Самара",
                    "bank"
                  ],
                  [
                    "jvXZ5BfY",
                    56.08017,
                    54.772889,
                    -0.4778176694104163,
                    "Уфа",
                    "bank"
                  ],
                  [
                    "QUpF6MWF",
                    30.481682,
                    59.907082,
                    0.6459048509134596,
                    "Санкт-Петербург",
                    "atm"
                  ],
                  [
                    "ZDyDKUmb",
                    49.112998,
                    55.779996,
                    0.6459048509134596,
                    "Казань",
                    "post_office"
                  ],
                  [
                    "4LvQzaA9",
                    49.056271,
                    55.819045,
                    0.1920938330903559,
                    "Казань",
                    "bank"
                  ],
                  [
                    "3uG2b8Ye",
                    50.263857,
                    53.218848,
                    2.634029309948009,
                    "Самара",
                    "atm"
                  ],
                  [
                    "NTjDKBtL",
                    92.865583,
                    56.009936,
                    -0.30493728166828155,
                    "Красноярск",
                    "atm"
                  ],
                  [
                    "3bqwQXqD",
                    49.09329,
                    55.821254,
                    0.12726368768705534,
                    "Казань",
                    "atm"
                  ],
                  [
                    "cTNjjItI",
                    29.957916,
                    60.093366,
                    0.7755651417200607,
                    "Санкт-Петербург",
                    "post_office"
                  ],
                  [
                    "BSuZvUqW",
                    30.348816,
                    59.915002,
                    0.8187852386555944,
                    "Санкт-Петербург",
                    "atm"
                  ],
                  [
                    "lkWtEXwO",
                    37.493066,
                    55.839565,
                    1.0781058202687963,
                    "Москва",
                    "bank"
                  ],
                  [
                    "zT71jR4g",
                    37.599148,
                    55.583953,
                    1.3806464988175324,
                    "Москва",
                    "atm"
                  ],
                  [
                    "VdNzagUv",
                    37.678141,
                    55.789394,
                    1.2509862080109313,
                    "Москва",
                    "bank"
                  ],
                  [
                    "v46TS3KT",
                    30.309722,
                    59.966484,
                    1.1213259172043302,
                    "Санкт-Петербург",
                    "atm"
                  ],
                  [
                    "EYeTJlnp",
                    37.653334,
                    55.856351,
                    0.04082349381598799,
                    "Москва",
                    "atm"
                  ],
                  [
                    "Sz1ye8MD",
                    37.593725,
                    55.752097,
                    0.4298043662357912,
                    "Москва",
                    "bank"
                  ],
                  [
                    "X7Sv7X4f",
                    29.894139000000006,
                    59.881795,
                    0.6891249478489934,
                    "Санкт-Петербург",
                    "atm"
                  ],
                  [
                    "UT4p9zvj",
                    37.659371,
                    55.776859,
                    -0.4345975724748826,
                    "Москва",
                    "payment_terminal"
                  ],
                  [
                    "2UlFF5pG",
                    60.61326700000001,
                    56.899749,
                    -0.6939181540880848,
                    "Екатеринбург",
                    "bank"
                  ],
                  [
                    "P2LhIYVH",
                    50.123711,
                    53.192857,
                    0.9916656263977291,
                    "Самара",
                    "bank"
                  ],
                  [
                    "2cU1Z8KM",
                    92.798215,
                    56.02265,
                    -0.4345975724748826,
                    "Красноярск",
                    "atm"
                  ],
                  [
                    "AnEwYKsf",
                    60.636812,
                    56.838125,
                    -0.6939181540880848,
                    "Екатеринбург",
                    "bank"
                  ],
                  [
                    "ibdAzVc5",
                    30.387133,
                    59.84902,
                    -0.34815737860381524,
                    "Санкт-Петербург",
                    "atm"
                  ],
                  [
                    "CCoMeGSq",
                    60.56259300000001,
                    56.816823,
                    -0.3913774755393489,
                    "Екатеринбург",
                    "atm"
                  ],
                  [
                    "rhifIvhc",
                    37.366207,
                    55.644661,
                    1.034885723333263,
                    "Москва",
                    "atm"
                  ],
                  [
                    "n59CZdDP",
                    37.579529,
                    55.80754200000001,
                    -0.34815737860381524,
                    "Москва",
                    "payment_terminal"
                  ],
                  [
                    "aWMomlO7",
                    49.118586,
                    55.82957800000001,
                    0.34336417236472383,
                    "Казань",
                    "atm"
                  ],
                  [
                    "DcWDQ5JC",
                    37.515103,
                    55.805803,
                    0.5594646570423922,
                    "Москва",
                    "bank"
                  ],
                  [
                    "ny5swWUO",
                    49.186229,
                    55.803373,
                    -0.4345975724748826,
                    "Казань",
                    "atm"
                  ],
                  [
                    "s8LhdRDp",
                    37.723067,
                    55.782563,
                    -0.26171718473274785,
                    "Москва",
                    "bank"
                  ],
                  [
                    "Tw1Svbiw",
                    49.080358,
                    55.834436,
                    -0.08883679699061309,
                    "Казань",
                    "bank"
                  ],
                  [
                    "49RGSbXb",
                    39.762138,
                    47.232181,
                    0.3001440754291901,
                    "Ростов-на-Дону",
                    "bank"
                  ],
                  [
                    "kcPx2crY",
                    56.075499,
                    54.81708,
                    -1.212559317314489,
                    "Уфа",
                    "post_office"
                  ],
                  [
                    "BpoVvgKO",
                    37.46445,
                    55.80951,
                    -0.650698057152551,
                    "Москва",
                    "bank"
                  ],
                  [
                    "QX4SAYI9",
                    30.247937,
                    59.858688,
                    -1.234169365782256,
                    "Санкт-Петербург",
                    "atm"
                  ],
                  [
                    "5UKRuSA9",
                    37.576824,
                    55.838028,
                    2.850129794625678,
                    "Москва",
                    "bank"
                  ],
                  [
                    "vC4Bp1jb",
                    30.261134,
                    59.86786800000001,
                    -0.6074779602170174,
                    "Санкт-Петербург",
                    "atm"
                  ],
                  [
                    "5jpPGoo6",
                    37.517761,
                    55.524437,
                    -0.5858679117492506,
                    "Москва",
                    "atm"
                  ],
                  [
                    "bW2iNSMp",
                    82.934565,
                    55.105544,
                    0.3865842693002575,
                    "Новосибирск",
                    "atm"
                  ],
                  [
                    "xyt6yjVS",
                    30.321087,
                    60.01664,
                    -0.8667985418302195,
                    "Санкт-Петербург",
                    "payment_terminal"
                  ],
                  [
                    "2jNsxoXl",
                    37.52512700000001,
                    55.64366800000001,
                    -0.3913774755393489,
                    "Москва",
                    "bank"
                  ],
                  [
                    "Ccqm3lC6",
                    50.262682,
                    53.220259,
                    3.1094503762388803,
                    "Самара",
                    "atm"
                  ],
                  [
                    "CyYLUxCj",
                    30.298369,
                    59.906747,
                    -0.7803583479591522,
                    "Санкт-Петербург",
                    "bank"
                  ],
                  [
                    "Bq2RhWh4",
                    43.866774,
                    56.348392,
                    -0.6074779602170174,
                    "Нижний Новгород",
                    "bank"
                  ],
                  [
                    "9RYHfP3m",
                    37.38073,
                    55.766712,
                    -0.4778176694104163,
                    "Москва",
                    "atm"
                  ],
                  [
                    "9RIuAGT0",
                    92.973036,
                    56.053322,
                    0.7755651417200607,
                    "Красноярск",
                    "bank"
                  ],
                  [
                    "5WiIuenb",
                    37.625792,
                    55.726877,
                    0.5810747055101592,
                    "Москва",
                    "atm"
                  ],
                  [
                    "UvSdh5eX",
                    30.354624,
                    59.852172,
                    -0.34815737860381524,
                    "Санкт-Петербург",
                    "atm"
                  ],
                  [
                    "0yC9gVuF",
                    37.795349,
                    55.759304,
                    -1.082899026507888,
                    "Москва",
                    "atm"
                  ],
                  [
                    "5RDhXAew",
                    37.589706,
                    55.749205,
                    -0.26171718473274785,
                    "Москва",
                    "atm"
                  ],
                  [
                    "GT8iSIX9",
                    39.62951500000001,
                    47.208802,
                    0.3001440754291901,
                    "Ростов-на-Дону",
                    "atm"
                  ],
                  [
                    "WOc5pt6d",
                    30.24412,
                    60.022004,
                    0.06243354228375483,
                    "Санкт-Петербург",
                    "atm"
                  ],
                  [
                    "nGW7MYJ2",
                    49.14667,
                    55.82634,
                    -0.34815737860381524,
                    "Казань",
                    "atm"
                  ],
                  [
                    "eAjJXePD",
                    55.881095,
                    54.790184,
                    0.8620053355911281,
                    "Уфа",
                    "post_office"
                  ],
                  [
                    "xG1TJsxS",
                    30.349039,
                    59.94257800000001,
                    0.12726368768705534,
                    "Санкт-Петербург",
                    "atm"
                  ],
                  [
                    "BS42UrdB",
                    37.601719,
                    55.61170300000001,
                    0.25692397849365645,
                    "Москва",
                    "bank"
                  ],
                  [
                    "myPybSTm",
                    50.18180200000001,
                    53.212513,
                    -0.34815737860381524,
                    "Самара",
                    "atm"
                  ],
                  [
                    "dv6A4N9j",
                    37.41172,
                    55.647053,
                    2.2450484375282063,
                    "Москва",
                    "bank"
                  ],
                  [
                    "PlRVd2q7",
                    30.349681,
                    59.832909,
                    -1.1693392203789554,
                    "Санкт-Петербург",
                    "atm"
                  ],
                  [
                    "K3gR6qAk",
                    49.233274,
                    55.763478000000006,
                    -1.082899026507888,
                    "Казань",
                    "atm"
                  ],
                  [
                    "n7SOrDDm",
                    82.92201700000003,
                    55.04399300000001,
                    0.21370388155812275,
                    "Новосибирск",
                    "atm"
                  ],
                  [
                    "Z3zfHcbJ",
                    60.505569,
                    56.823455,
                    -0.6074779602170174,
                    "Екатеринбург",
                    "bank"
                  ],
                  [
                    "gJTsNAnJ",
                    30.379346,
                    59.870262,
                    -1.0396789295723543,
                    "Санкт-Петербург",
                    "atm"
                  ],
                  [
                    "kMeJWHoE",
                    37.67892,
                    55.78856999999999,
                    -0.4778176694104163,
                    "Москва",
                    "atm"
                  ],
                  [
                    "jHHBbyj3",
                    30.320997,
                    59.92681999999999,
                    -0.30493728166828155,
                    "Санкт-Петербург",
                    "atm"
                  ],
                  [
                    "Up3Qbuvy",
                    37.474799,
                    55.72790500000001,
                    0.5162445601068586,
                    "Москва",
                    "bank"
                  ],
                  [
                    "zqxBvgo3",
                    37.602418,
                    55.689662,
                    0.4730244631713249,
                    "Москва",
                    "atm"
                  ],
                  [
                    "omENfbNH",
                    37.305857,
                    55.485758,
                    0.8620053355911281,
                    "Москва",
                    "bank"
                  ],
                  [
                    "ALeY6VVA",
                    39.710881,
                    47.249843,
                    -0.17527699086168047,
                    "Ростов-на-Дону",
                    "bank"
                  ],
                  [
                    "2CRYkkg6",
                    30.315542,
                    60.016896,
                    -0.5642578632814836,
                    "Санкт-Петербург",
                    "payment_terminal"
                  ],
                  [
                    "ujHS8P2G",
                    43.821958,
                    56.365498,
                    -0.650698057152551,
                    "Нижний Новгород",
                    "atm"
                  ],
                  [
                    "du4QcmQO",
                    37.61114,
                    55.72961,
                    -0.52103776634595,
                    "Москва",
                    "atm"
                  ],
                  [
                    "bBxa5jY2",
                    50.148747,
                    53.217111,
                    -0.4778176694104163,
                    "Самара",
                    "atm"
                  ],
                  [
                    "A2xt33Am",
                    39.717178,
                    47.281294,
                    -0.6939181540880848,
                    "Ростов-на-Дону",
                    "bank"
                  ],
                  [
                    "xN7TAdHL",
                    82.93639399999998,
                    55.066218000000006,
                    -0.650698057152551,
                    "Новосибирск",
                    "bank"
                  ],
                  [
                    "qbrgrMBr",
                    49.149344,
                    55.784486,
                    -1.1261191234434216,
                    "Казань",
                    "post_office"
                  ],
                  [
                    "VVoIWaCa",
                    82.90992800000002,
                    54.936865,
                    -0.9964588326368206,
                    "Новосибирск",
                    "bank"
                  ],
                  [
                    "sMvuaVtL",
                    50.22169,
                    53.24867,
                    0.9484455294621956,
                    "Самара",
                    "atm"
                  ],
                  [
                    "XFkAf5M7",
                    37.492272,
                    55.793785,
                    0.732345044784527,
                    "Москва",
                    "bank"
                  ],
                  [
                    "sZIU9J2S",
                    82.896969,
                    54.980785,
                    -0.8235784448946858,
                    "Новосибирск",
                    "atm"
                  ],
                  [
                    "ck6UZCBf",
                    37.765282,
                    55.677014,
                    0.8620053355911281,
                    "Москва",
                    "bank"
                  ],
                  [
                    "mj6Q5LGP",
                    30.145125,
                    59.835831000000006,
                    -0.3913774755393489,
                    "Санкт-Петербург",
                    "atm"
                  ],
                  [
                    "SXJSzE6M",
                    39.690447,
                    47.260108,
                    0.3001440754291901,
                    "Ростов-на-Дону",
                    "bank"
                  ],
                  [
                    "NlhU5eaH",
                    30.322345,
                    59.84855200000001,
                    0.25692397849365645,
                    "Санкт-Петербург",
                    "atm"
                  ],
                  [
                    "5LuJwOiM",
                    30.400448,
                    60.01090600000001,
                    -0.26171718473274785,
                    "Санкт-Петербург",
                    "bank"
                  ],
                  [
                    "oVyZAtf8",
                    82.853025,
                    54.96611600000001,
                    -0.3265473301360484,
                    "Новосибирск",
                    "atm"
                  ],
                  [
                    "Zg57ss59",
                    49.192958,
                    55.744566000000006,
                    -0.5642578632814836,
                    "Казань",
                    "atm"
                  ],
                  [
                    "c0UVFgm4",
                    37.608376,
                    55.640498,
                    -0.7371382510236184,
                    "Москва",
                    "atm"
                  ],
                  [
                    "y3wFGx0E",
                    49.093419,
                    55.821846,
                    -0.650698057152551,
                    "Казань",
                    "atm"
                  ],
                  [
                    "cmCo8uJn",
                    82.897109,
                    54.98322,
                    -0.650698057152551,
                    "Новосибирск",
                    "atm"
                  ],
                  [
                    "w8zOhAG6",
                    30.410413,
                    59.92854300000001,
                    -0.8235784448946858,
                    "Санкт-Петербург",
                    "bank"
                  ],
                  [
                    "6Ujlr2LT",
                    37.599224,
                    55.594651,
                    -0.4345975724748826,
                    "Москва",
                    "bank"
                  ],
                  [
                    "NF33CYqv",
                    92.855412,
                    56.014191,
                    -0.8667985418302195,
                    "Красноярск",
                    "bank"
                  ],
                  [
                    "nFBsJ5k3",
                    55.958351,
                    54.736872,
                    -0.34815737860381524,
                    "Уфа",
                    "atm"
                  ],
                  [
                    "vohBRdK6",
                    44.027034,
                    56.319444,
                    -0.8235784448946858,
                    "Нижний Новгород",
                    "bank"
                  ],
                  [
                    "jyqrl6X7",
                    37.577366,
                    55.81933100000001,
                    0.21370388155812275,
                    "Москва",
                    "atm"
                  ],
                  [
                    "tkDyf0LP",
                    50.173675,
                    53.14038000000001,
                    1.5967469834952008,
                    "Самара",
                    "atm"
                  ],
                  [
                    "HccXdHMK",
                    92.907574,
                    56.032916,
                    0.17048378462258906,
                    "Красноярск",
                    "atm"
                  ],
                  [
                    "3Ix3aKz2",
                    37.605122,
                    55.864849,
                    -0.8235784448946858,
                    "Москва",
                    "atm"
                  ],
                  [
                    "xiF41hyd",
                    30.256958,
                    59.989944,
                    0.4730244631713249,
                    "Санкт-Петербург",
                    "atm"
                  ],
                  [
                    "t0UxAofh",
                    43.92821,
                    56.28733199999999,
                    -0.002396603119545705,
                    "Нижний Новгород",
                    "atm"
                  ],
                  [
                    "hufqRDv4",
                    30.395038,
                    60.013018,
                    0.3001440754291901,
                    "Санкт-Петербург",
                    "atm"
                  ],
                  [
                    "V0ApRZJb",
                    30.296672,
                    60.003612,
                    1.3806464988175324,
                    "Санкт-Петербург",
                    "bank"
                  ],
                  [
                    "y7s9SVJ9",
                    92.904517,
                    56.051203,
                    -0.650698057152551,
                    "Красноярск",
                    "atm"
                  ],
                  [
                    "jEMylCQY",
                    82.961076,
                    55.104069,
                    -0.4345975724748826,
                    "Новосибирск",
                    "atm"
                  ],
                  [
                    "TgeoTj5W",
                    30.437617,
                    59.933032,
                    -0.17527699086168047,
                    "Санкт-Петербург",
                    "atm"
                  ],
                  [
                    "oVuxDTxV",
                    37.749337,
                    55.788125,
                    -0.6074779602170174,
                    "Москва",
                    "atm"
                  ],
                  [
                    "LwZsJ4Cy",
                    50.190391,
                    53.191808,
                    0.9052254325266618,
                    "Самара",
                    "bank"
                  ],
                  [
                    "P9mGf44m",
                    92.913763,
                    56.042136,
                    -0.34815737860381524,
                    "Красноярск",
                    "bank"
                  ],
                  [
                    "5Hm5PVsi",
                    37.618848,
                    55.80346899999999,
                    0.08404359075152168,
                    "Москва",
                    "atm"
                  ],
                  [
                    "AG9avE8M",
                    43.951477,
                    56.235105,
                    -0.34815737860381524,
                    "Нижний Новгород",
                    "post_office"
                  ],
                  [
                    "ib3vdw9y",
                    60.611964,
                    56.807141,
                    1.4670866926885997,
                    "Екатеринбург",
                    "atm"
                  ],
                  [
                    "PSh4SCru",
                    60.605429,
                    56.857019,
                    -0.6939181540880848,
                    "Екатеринбург",
                    "atm"
                  ],
                  [
                    "YscCLNMq",
                    49.187244,
                    55.75346800000001,
                    -0.002396603119545705,
                    "Казань",
                    "atm"
                  ],
                  [
                    "LxMbcr8a",
                    30.317729,
                    59.91588100000001,
                    0.4298043662357912,
                    "Санкт-Петербург",
                    "atm"
                  ],
                  [
                    "P96LMIRr",
                    44.076675,
                    56.306448,
                    -0.34815737860381524,
                    "Нижний Новгород",
                    "atm"
                  ],
                  [
                    "yQpPc4NY",
                    50.305359,
                    53.325718,
                    0.34336417236472383,
                    "Самара",
                    "bank"
                  ],
                  [
                    "bwIuFswf",
                    55.947783,
                    54.725857,
                    -0.52103776634595,
                    "Уфа",
                    "post_office"
                  ],
                  [
                    "ueXw8anZ",
                    37.478132,
                    55.854933,
                    3.0662302793033462,
                    "Москва",
                    "bank"
                  ],
                  [
                    "b00YAzxr",
                    37.481371,
                    55.663201,
                    3.3255508609165485,
                    "Москва",
                    "bank"
                  ],
                  [
                    "uewNqxcJ",
                    30.482577000000006,
                    59.908258,
                    -1.1693392203789554,
                    "Санкт-Петербург",
                    "atm"
                  ],
                  [
                    "rkhUhnnc",
                    30.622015,
                    59.73877099999999,
                    -0.650698057152551,
                    "Колпино",
                    "bank"
                  ],
                  [
                    "y5XqCNW4",
                    92.854072,
                    55.977808,
                    -0.17527699086168047,
                    "Красноярск",
                    "bank"
                  ],
                  [
                    "ZopCnYnF",
                    49.231841,
                    55.755079,
                    0.8187852386555944,
                    "Казань",
                    "post_office"
                  ],
                  [
                    "uReBoRP9",
                    37.656393,
                    55.636821,
                    -0.3913774755393489,
                    "Москва",
                    "atm"
                  ],
                  [
                    "tbmL4C5J",
                    37.602891,
                    55.765829,
                    -0.21849708779721416,
                    "Москва",
                    "bank"
                  ],
                  [
                    "J4kyyZ66",
                    60.701356,
                    56.754564,
                    -0.9100186387657532,
                    "Екатеринбург",
                    "bank"
                  ],
                  [
                    "6oJCNSPc",
                    43.956056,
                    56.338797,
                    -0.1968870393294473,
                    "Нижний Новгород",
                    "atm"
                  ],
                  [
                    "uFWtwbd5",
                    39.713683,
                    47.249262,
                    0.3001440754291901,
                    "Ростов-на-Дону",
                    "atm"
                  ],
                  [
                    "VtQVSJDn",
                    37.767349,
                    55.705907,
                    1.034885723333263,
                    "Москва",
                    "bank"
                  ],
                  [
                    "zynEGrYK",
                    82.914099,
                    55.059654,
                    1.294206304946465,
                    "Новосибирск",
                    "bank"
                  ],
                  [
                    "padKVxZ1",
                    82.905185,
                    54.989033,
                    1.164546014139864,
                    "Новосибирск",
                    "post_office"
                  ],
                  [
                    "hHKAMvaG",
                    30.369312,
                    60.008665,
                    -0.26171718473274785,
                    "Санкт-Петербург",
                    "atm"
                  ],
                  [
                    "9vpi0zuV",
                    93.023803,
                    55.997114,
                    -0.4778176694104163,
                    "Красноярск",
                    "payment_terminal"
                  ],
                  [
                    "A4nv1Vap",
                    49.100728,
                    55.860342,
                    0.21370388155812275,
                    "Казань",
                    "bank"
                  ],
                  [
                    "aooa1N95",
                    50.238669,
                    53.251547,
                    0.04082349381598799,
                    "Самара",
                    "atm"
                  ],
                  [
                    "cI5aMfP5",
                    37.174766,
                    55.981852,
                    -0.06722674852284624,
                    "Зеленоград",
                    "bank"
                  ],
                  [
                    "Z3IaIqhp",
                    60.613168,
                    56.769296,
                    0.04082349381598799,
                    "Екатеринбург",
                    "atm"
                  ],
                  [
                    "4nCrGS4K",
                    30.443873,
                    59.87619300000001,
                    -0.08883679699061309,
                    "Санкт-Петербург",
                    "bank"
                  ],
                  [
                    "TPU9VeHE",
                    56.05836899999999,
                    54.771233,
                    -1.3638296565888568,
                    "Уфа",
                    "bank"
                  ],
                  [
                    "Ha4y1r9O",
                    30.355111,
                    59.957185,
                    -0.002396603119545705,
                    "Санкт-Петербург",
                    "bank"
                  ],
                  [
                    "iL9SqqPf",
                    56.12386400000001,
                    54.779754,
                    -0.7803583479591522,
                    "Уфа",
                    "bank"
                  ],
                  [
                    "XRbToMaK",
                    50.27099000000001,
                    53.275607,
                    0.9484455294621956,
                    "Самара",
                    "bank"
                  ],
                  [
                    "1QF1l1v9",
                    37.642141,
                    55.704974,
                    0.3865842693002575,
                    "Москва",
                    "atm"
                  ],
                  [
                    "hhQwsdq2",
                    82.952805,
                    55.013374,
                    1.164546014139864,
                    "Новосибирск",
                    "atm"
                  ],
                  [
                    "3JMyNJ5Q",
                    30.297659000000003,
                    59.98641600000001,
                    -0.30493728166828155,
                    "Санкт-Петербург",
                    "bank"
                  ],
                  [
                    "DvEZb53r",
                    30.610533,
                    59.74071,
                    -1.212559317314489,
                    "Колпино",
                    "atm"
                  ],
                  [
                    "95UFIIsM",
                    37.70708,
                    55.747424,
                    -0.0456167000550794,
                    "Москва",
                    "bank"
                  ],
                  [
                    "O1UQUy36",
                    39.713982,
                    47.294783,
                    -0.17527699086168047,
                    "Ростов-на-Дону",
                    "atm"
                  ],
                  [
                    "zg9Rqx6j",
                    37.78377800000001,
                    55.751043,
                    0.5162445601068586,
                    "Москва",
                    "bank"
                  ],
                  [
                    "b3PCdEll",
                    50.2764,
                    53.233532,
                    2.5043690191414085,
                    "Самара",
                    "post_office"
                  ],
                  [
                    "59UjpU7q",
                    37.823358,
                    55.82249300000001,
                    0.8187852386555944,
                    "Москва",
                    "atm"
                  ],
                  [
                    "CEBFrSa4",
                    50.0882,
                    53.1224,
                    5.7026561923709025,
                    "Самара",
                    "post_office"
                  ],
                  [
                    "OHty6LJP",
                    37.543246,
                    55.547845,
                    0.732345044784527,
                    "Москва",
                    "atm"
                  ],
                  [
                    "9F0eikRX",
                    37.605029,
                    55.883288,
                    0.21370388155812275,
                    "Москва",
                    "atm"
                  ],
                  [
                    "3mtxtQsE",
                    49.179869,
                    55.766359,
                    -0.8235784448946858,
                    "Казань",
                    "bank"
                  ],
                  [
                    "cj6KcHW8",
                    55.99405600000001,
                    54.69799,
                    -0.002396603119545705,
                    "Уфа",
                    "bank"
                  ],
                  [
                    "x5YyYuwn",
                    55.98732,
                    54.741197,
                    -0.650698057152551,
                    "Уфа",
                    "bank"
                  ],
                  [
                    "jg4KN4rk",
                    92.886411,
                    55.98669200000001,
                    0.3001440754291901,
                    "Красноярск",
                    "bank"
                  ],
                  [
                    "FKpC96cF",
                    37.866307,
                    55.743527,
                    -0.6939181540880848,
                    "Москва",
                    "bank"
                  ],
                  [
                    "XgLZQs6q",
                    37.760289,
                    55.67453,
                    -0.26171718473274785,
                    "Москва",
                    "bank"
                  ],
                  [
                    "o4icTq9v",
                    60.600816,
                    56.904251,
                    -0.6939181540880848,
                    "Екатеринбург",
                    "atm"
                  ],
                  [
                    "JPx1PvlT",
                    37.799084,
                    55.809132,
                    0.4730244631713249,
                    "Москва",
                    "atm"
                  ],
                  [
                    "8X4xMkKc",
                    37.508122,
                    55.743649,
                    0.34336417236472383,
                    "Москва",
                    "bank"
                  ],
                  [
                    "GSLqcJM1",
                    37.4297,
                    55.65875,
                    0.8187852386555944,
                    "Москва",
                    "bank"
                  ],
                  [
                    "YTZfRTZJ",
                    37.623825,
                    55.761544,
                    0.8187852386555944,
                    "Москва",
                    "payment_terminal"
                  ],
                  [
                    "9PoCNghL",
                    37.633949,
                    55.780203,
                    0.17048378462258906,
                    "Москва",
                    "bank"
                  ],
                  [
                    "i8jX5UZv",
                    30.474390000000003,
                    59.94595,
                    -0.650698057152551,
                    "Санкт-Петербург",
                    "bank"
                  ],
                  [
                    "Fl0Opd5w",
                    30.326729,
                    59.934583,
                    0.17048378462258906,
                    "Санкт-Петербург",
                    "atm"
                  ],
                  [
                    "1qYX1KZb",
                    39.710018,
                    47.220297,
                    -1.0396789295723543,
                    "Ростов-на-Дону",
                    "atm"
                  ],
                  [
                    "w6RCwQrC",
                    37.571561,
                    55.503838,
                    -0.52103776634595,
                    "Москва",
                    "post_office"
                  ],
                  [
                    "9IcvdlDF",
                    56.131626,
                    54.784094,
                    -1.4286598019921577,
                    "Уфа",
                    "post_office"
                  ],
                  [
                    "d8JVU4L3",
                    37.360169,
                    55.847572,
                    -0.7803583479591522,
                    "Москва",
                    "atm"
                  ],
                  [
                    "pmpDwkBu",
                    60.64901999999999,
                    56.788549,
                    -1.3422196081210902,
                    "Екатеринбург",
                    "atm"
                  ],
                  [
                    "UfEj63Mg",
                    37.544665,
                    55.86375200000001,
                    0.6459048509134596,
                    "Москва",
                    "bank"
                  ],
                  [
                    "HtEs9cWZ",
                    37.622612,
                    55.72933100000001,
                    1.164546014139864,
                    "Москва",
                    "atm"
                  ],
                  [
                    "IlEraymJ",
                    37.675098,
                    55.710535,
                    -0.30493728166828155,
                    "Москва",
                    "atm"
                  ],
                  [
                    "LyuFHuZx",
                    30.384063,
                    59.924416,
                    -1.0396789295723543,
                    "Санкт-Петербург",
                    "atm"
                  ],
                  [
                    "HAqT6xQb",
                    37.719899,
                    55.612726,
                    3.152670473174413,
                    "Москва",
                    "atm"
                  ],
                  [
                    "2EADrSl6",
                    37.622022,
                    55.684432,
                    2.2018283405926726,
                    "Москва",
                    "bank"
                  ],
                  [
                    "6GDLLbCh",
                    37.759126,
                    55.63894499999999,
                    -0.650698057152551,
                    "Москва",
                    "bank"
                  ],
                  [
                    "H1tR9t1s",
                    50.2633,
                    53.22044399999999,
                    0.12726368768705534,
                    "Самара",
                    "atm"
                  ],
                  [
                    "h6qIFhXA",
                    93.010041,
                    56.020784,
                    0.9052254325266618,
                    "Красноярск",
                    "post_office"
                  ],
                  [
                    "zrqrRf0q",
                    55.986665,
                    54.718073,
                    -0.650698057152551,
                    "Уфа",
                    "post_office"
                  ],
                  [
                    "p4OinUCs",
                    39.690907,
                    47.218739,
                    -0.9532387357012868,
                    "Ростов-на-Дону",
                    "post_office"
                  ],
                  [
                    "ZEvDCFD6",
                    37.56367,
                    55.74434,
                    0.9484455294621956,
                    "Москва",
                    "bank"
                  ],
                  [
                    "HtGYnJHb",
                    44.042485,
                    56.296299,
                    -0.34815737860381524,
                    "Нижний Новгород",
                    "atm"
                  ],
                  [
                    "8Kw8gqVd",
                    30.359883,
                    59.930514,
                    2.417928825270341,
                    "Санкт-Петербург",
                    "atm"
                  ],
                  [
                    "8xLLfRSF",
                    43.88397,
                    56.33959,
                    -0.7803583479591522,
                    "Нижний Новгород",
                    "atm"
                  ],
                  [
                    "HmjxRHVs",
                    60.62619399999999,
                    56.79685500000001,
                    -0.3913774755393489,
                    "Екатеринбург",
                    "atm"
                  ],
                  [
                    "mn6nMLpV",
                    56.03576999999999,
                    54.757094,
                    -0.7371382510236184,
                    "Уфа",
                    "bank"
                  ],
                  [
                    "I24gbq5p",
                    43.947623,
                    56.320338,
                    0.17048378462258906,
                    "Нижний Новгород",
                    "atm"
                  ],
                  [
                    "MJFHjv6Q",
                    49.019816,
                    55.867687,
                    0.17048378462258906,
                    "Казань",
                    "atm"
                  ],
                  [
                    "ySZshzYS",
                    55.999586,
                    54.749739,
                    0.9484455294621956,
                    "Уфа",
                    "bank"
                  ],
                  [
                    "tLuy6W1t",
                    37.591484,
                    55.707394,
                    1.2509862080109313,
                    "Москва",
                    "atm"
                  ],
                  [
                    "HuP6vu8Y",
                    43.877078,
                    56.261653,
                    0.602684753977926,
                    "Нижний Новгород",
                    "bank"
                  ],
                  [
                    "4PiWRiJr",
                    30.193401,
                    59.852886,
                    -0.650698057152551,
                    "Санкт-Петербург",
                    "post_office"
                  ],
                  [
                    "m41j6rrW",
                    56.01000300000001,
                    54.759041,
                    -0.26171718473274785,
                    "Уфа",
                    "bank"
                  ],
                  [
                    "5z5VpTGn",
                    92.881905,
                    56.03873299999999,
                    -0.8235784448946858,
                    "Красноярск",
                    "payment_terminal"
                  ],
                  [
                    "DkEbcUGo",
                    82.896401,
                    55.03583,
                    0.5162445601068586,
                    "Новосибирск",
                    "atm"
                  ],
                  [
                    "OrzylnCV",
                    30.319964,
                    59.86660799999999,
                    -1.0396789295723543,
                    "Санкт-Петербург",
                    "bank"
                  ],
                  [
                    "PxLPVy6I",
                    37.572989,
                    55.56719399999999,
                    1.1213259172043302,
                    "Москва",
                    "bank"
                  ],
                  [
                    "fP7JB9Qs",
                    92.877984,
                    56.01143,
                    -0.9100186387657532,
                    "Красноярск",
                    "bank"
                  ],
                  [
                    "LjxEMUOO",
                    37.541447,
                    55.65596600000001,
                    -0.9532387357012868,
                    "Москва",
                    "atm"
                  ],
                  [
                    "nJTccp1w",
                    37.514509,
                    55.744566000000006,
                    -0.13205689392614678,
                    "Москва",
                    "post_office"
                  ],
                  [
                    "bNDUKJPE",
                    37.60593,
                    55.622604,
                    0.25692397849365645,
                    "Москва",
                    "atm"
                  ],
                  [
                    "HGHbCtK4",
                    37.564184,
                    55.67841600000001,
                    0.7107349963167602,
                    "Москва",
                    "bank"
                  ],
                  [
                    "9smvi5GH",
                    43.990535,
                    56.314677,
                    -0.650698057152551,
                    "Нижний Новгород",
                    "bank"
                  ],
                  [
                    "esn300Zl",
                    30.470336,
                    59.865059,
                    -0.3913774755393489,
                    "Санкт-Петербург",
                    "atm"
                  ],
                  [
                    "7f8oLjIM",
                    37.74381,
                    55.802292,
                    0.6459048509134596,
                    "Москва",
                    "bank"
                  ],
                  [
                    "ydC9L7Y0",
                    83.09449599999998,
                    54.840236,
                    -1.1693392203789554,
                    "Новосибирск",
                    "atm"
                  ],
                  [
                    "H8hoDXdE",
                    83.002607,
                    55.035543,
                    1.4886967411563663,
                    "Новосибирск",
                    "atm"
                  ],
                  [
                    "b0sYQyFL",
                    44.072992,
                    56.2903,
                    -0.17527699086168047,
                    "Нижний Новгород",
                    "atm"
                  ],
                  [
                    "v6Oi0Qqv",
                    30.377473,
                    59.829918000000006,
                    0.4730244631713249,
                    "Санкт-Петербург",
                    "atm"
                  ],
                  [
                    "JdwLeH2P",
                    30.410802,
                    59.928986,
                    -0.9532387357012868,
                    "Санкт-Петербург",
                    "atm"
                  ],
                  [
                    "2nZ3pCKA",
                    37.595555,
                    55.64750400000001,
                    -0.30493728166828155,
                    "Москва",
                    "atm"
                  ],
                  [
                    "vWhC4eBL",
                    43.853857,
                    56.22205500000001,
                    -0.6939181540880848,
                    "Нижний Новгород",
                    "post_office"
                  ],
                  [
                    "8KhPM0ol",
                    30.234364000000006,
                    59.949177,
                    -1.2557794142500227,
                    "Санкт-Петербург",
                    "atm"
                  ],
                  [
                    "Im4dPNQA",
                    30.318236,
                    59.81987,
                    -0.9532387357012868,
                    "Санкт-Петербург",
                    "atm"
                  ],
                  [
                    "59rpwZBk",
                    92.8844,
                    56.0343,
                    -1.2557794142500227,
                    "Красноярск",
                    "bank"
                  ],
                  [
                    "xyfgfTqy",
                    50.218369,
                    53.346634,
                    1.683187177366268,
                    "Самара",
                    "atm"
                  ],
                  [
                    "9hCdPw1R",
                    39.61052100000001,
                    47.23059600000001,
                    -0.30493728166828155,
                    "Ростов-на-Дону",
                    "atm"
                  ],
                  [
                    "rWEmMwxi",
                    30.439315,
                    59.932347,
                    -0.4778176694104163,
                    "Санкт-Петербург",
                    "atm"
                  ],
                  [
                    "aYLir9h9",
                    37.534028,
                    55.693307,
                    -0.7371382510236184,
                    "Москва",
                    "bank"
                  ],
                  [
                    "KqXLlOgG",
                    50.286374,
                    53.29932,
                    0.08404359075152168,
                    "Самара",
                    "atm"
                  ],
                  [
                    "4sRLEOxj",
                    37.606606,
                    55.763435,
                    -0.0456167000550794,
                    "Москва",
                    "bank"
                  ],
                  [
                    "xNX8I5kF",
                    43.868347,
                    56.350323,
                    1.5103067896241336,
                    "Нижний Новгород",
                    "atm"
                  ],
                  [
                    "PIdoZHEy",
                    39.764188,
                    47.242109,
                    -0.34815737860381524,
                    "Ростов-на-Дону",
                    "bank"
                  ],
                  [
                    "yLT4AAE2",
                    37.500057,
                    55.697459,
                    -0.5642578632814836,
                    "Москва",
                    "atm"
                  ],
                  [
                    "FU4c6TNZ",
                    43.85100900000001,
                    56.250287,
                    -0.7803583479591522,
                    "Нижний Новгород",
                    "bank"
                  ],
                  [
                    "HWurGKxG",
                    37.174811,
                    55.982678,
                    -0.8667985418302195,
                    "Зеленоград",
                    "bank"
                  ],
                  [
                    "YhUH0AzP",
                    37.564275,
                    55.48530600000001,
                    -0.9964588326368206,
                    "Москва",
                    "bank"
                  ],
                  [
                    "8WSj3Gk6",
                    37.66496400000001,
                    55.67758900000001,
                    1.3374264018819988,
                    "Москва",
                    "atm"
                  ],
                  [
                    "FMPuwbsj",
                    49.080848,
                    55.82885,
                    -1.2989995111855563,
                    "Казань",
                    "post_office"
                  ],
                  [
                    "ULMcd4UD",
                    37.609398,
                    55.724074,
                    -0.3265473301360484,
                    "Москва",
                    "bank"
                  ],
                  [
                    "t7pBweOS",
                    82.912079,
                    55.055885,
                    -0.6939181540880848,
                    "Новосибирск",
                    "atm"
                  ],
                  [
                    "26faxJy5",
                    30.330017,
                    60.053615,
                    -0.5642578632814836,
                    "Санкт-Петербург",
                    "bank"
                  ],
                  [
                    "OCFXnfRX",
                    37.434961,
                    55.862827,
                    -0.0456167000550794,
                    "Москва",
                    "atm"
                  ],
                  [
                    "WriLsZWE",
                    50.191899,
                    53.191447,
                    0.8187852386555944,
                    "Самара",
                    "bank"
                  ],
                  [
                    "Uv0PuoVB",
                    37.539124,
                    55.890487,
                    0.4298043662357912,
                    "Москва",
                    "post_office"
                  ],
                  [
                    "lvkMDIOb",
                    39.628532,
                    47.229281,
                    0.08404359075152168,
                    "Ростов-на-Дону",
                    "atm"
                  ],
                  [
                    "HdHd7sSJ",
                    60.598984,
                    56.829098,
                    -0.9532387357012868,
                    "Екатеринбург",
                    "atm"
                  ],
                  [
                    "5xgQDtpq",
                    30.317177,
                    59.925389,
                    -0.3913774755393489,
                    "Санкт-Петербург",
                    "bank"
                  ],
                  [
                    "2TAJRlVf",
                    30.323314,
                    60.036664,
                    0.34336417236472383,
                    "Санкт-Петербург",
                    "bank"
                  ],
                  [
                    "GiIKvJL5",
                    30.273976,
                    59.900058,
                    -0.17527699086168047,
                    "Санкт-Петербург",
                    "atm"
                  ],
                  [
                    "kMEH7s7T",
                    30.354079,
                    59.987141,
                    -0.13205689392614678,
                    "Санкт-Петербург",
                    "bank"
                  ],
                  [
                    "5e7r5h7s",
                    55.93131500000001,
                    54.674806,
                    -0.21849708779721416,
                    "Уфа",
                    "post_office"
                  ],
                  [
                    "VPAKzSyv",
                    37.738382,
                    55.62140400000001,
                    -0.13205689392614678,
                    "Москва",
                    "bank"
                  ],
                  [
                    "agEDsbB4",
                    37.743187,
                    55.650691,
                    -0.52103776634595,
                    "Москва",
                    "atm"
                  ],
                  [
                    "1MZSTvdD",
                    37.626744,
                    55.664763,
                    -0.4778176694104163,
                    "Москва",
                    "payment_terminal"
                  ],
                  [
                    "tJMGAXxW",
                    37.478967,
                    55.705202,
                    -0.5858679117492506,
                    "Москва",
                    "atm"
                  ],
                  [
                    "YFVTWD12",
                    37.79949600000001,
                    55.809774,
                    2.9797900854322785,
                    "Балашиха",
                    "payment_terminal"
                  ],
                  [
                    "P6UqUJpJ",
                    37.579044,
                    55.569846,
                    0.08404359075152168,
                    "Москва",
                    "atm"
                  ],
                  [
                    "sniqNObc",
                    60.549152,
                    56.853301,
                    0.3001440754291901,
                    "Екатеринбург",
                    "bank"
                  ],
                  [
                    "nfG8rj1F",
                    50.140492,
                    53.20338100000001,
                    0.7755651417200607,
                    "Самара",
                    "bank"
                  ],
                  [
                    "i56AVrYY",
                    37.49945,
                    55.82018100000001,
                    1.1213259172043302,
                    "Москва",
                    "atm"
                  ],
                  [
                    "YV1fUOaw",
                    37.588885,
                    55.899252,
                    -0.13205689392614678,
                    "Москва",
                    "atm"
                  ],
                  [
                    "NS2HdU7x",
                    37.566136,
                    55.744381,
                    1.164546014139864,
                    "Москва",
                    "bank"
                  ],
                  [
                    "fPqxIVRl",
                    37.492471,
                    55.603912,
                    0.12726368768705534,
                    "Москва",
                    "atm"
                  ],
                  [
                    "nXLHbL6J",
                    30.335177,
                    60.058778,
                    -0.3913774755393489,
                    "Санкт-Петербург",
                    "atm"
                  ],
                  [
                    "bwmFXfeI",
                    92.813971,
                    56.014036,
                    -0.13205689392614678,
                    "Красноярск",
                    "atm"
                  ],
                  [
                    "P3zwA2PW",
                    30.251162,
                    59.84234100000001,
                    -0.9532387357012868,
                    "Санкт-Петербург",
                    "bank"
                  ],
                  [
                    "NbjUjYPI",
                    30.347252,
                    59.92864,
                    -0.21849708779721416,
                    "Санкт-Петербург",
                    "bank"
                  ],
                  [
                    "eLaYE4WM",
                    82.890962,
                    54.984,
                    0.21370388155812275,
                    "Новосибирск",
                    "post_office"
                  ],
                  [
                    "PPRBBVMW",
                    30.205798,
                    59.990782,
                    -1.1693392203789554,
                    "Санкт-Петербург",
                    "atm"
                  ],
                  [
                    "DSJ1FKTg",
                    37.486238,
                    55.839484,
                    -0.002396603119545705,
                    "Москва",
                    "payment_terminal"
                  ],
                  [
                    "zq24zBHA",
                    82.899443,
                    55.03455400000001,
                    0.12726368768705534,
                    "Новосибирск",
                    "bank"
                  ],
                  [
                    "ojoSTUzr",
                    37.552933,
                    55.89761,
                    -0.26171718473274785,
                    "Москва",
                    "atm"
                  ],
                  [
                    "nIzdgNPW",
                    30.323306,
                    59.929001,
                    -0.0456167000550794,
                    "Санкт-Петербург",
                    "bank"
                  ],
                  [
                    "k9vFUEKA",
                    37.636654,
                    55.754287,
                    0.3865842693002575,
                    "Москва",
                    "bank"
                  ],
                  [
                    "avEOHzEY",
                    30.42787,
                    59.721488,
                    0.12726368768705534,
                    "Пушкин",
                    "atm"
                  ],
                  [
                    "plCkOHbN",
                    37.199926,
                    56.008615,
                    -0.9100186387657532,
                    "Зеленоград",
                    "atm"
                  ],
                  [
                    "7KGXXWOd",
                    50.248918,
                    53.24535600000001,
                    0.25692397849365645,
                    "Самара",
                    "post_office"
                  ],
                  [
                    "wlzvYVvr",
                    60.545255,
                    56.830029,
                    -0.0456167000550794,
                    "Екатеринбург",
                    "atm"
                  ],
                  [
                    "34hHszrj",
                    37.529347,
                    55.790882,
                    3.152670473174413,
                    "Москва",
                    "atm"
                  ],
                  [
                    "7hMTdDGt",
                    37.469313,
                    55.66425699999999,
                    -0.6074779602170174,
                    "Москва",
                    "payment_terminal"
                  ],
                  [
                    "6baGVy1n",
                    49.109605,
                    55.786663,
                    0.34336417236472383,
                    "Казань",
                    "atm"
                  ],
                  [
                    "7NWLRjS9",
                    43.856974,
                    56.259358,
                    -0.08883679699061309,
                    "Нижний Новгород",
                    "bank"
                  ],
                  [
                    "IdMzYW0W",
                    29.76554,
                    59.99772,
                    0.9484455294621956,
                    "Санкт-Петербург",
                    "post_office"
                  ],
                  [
                    "AODBmARj",
                    37.660853,
                    55.887902,
                    -0.0456167000550794,
                    "Москва",
                    "atm"
                  ],
                  [
                    "lFH5jSIm",
                    39.830557,
                    47.238839,
                    1.7480173227695688,
                    "Ростов-на-Дону",
                    "bank"
                  ],
                  [
                    "HQWajdou",
                    82.925985,
                    55.014685,
                    -0.26171718473274785,
                    "Новосибирск",
                    "bus_station"
                  ],
                  [
                    "vjPO8Pi1",
                    37.49365,
                    55.792989,
                    -0.7371382510236184,
                    "Москва",
                    "atm"
                  ],
                  [
                    "Wf730kFc",
                    49.081689,
                    55.828543,
                    -0.34815737860381524,
                    "Казань",
                    "bank"
                  ],
                  [
                    "2kUlAO0h",
                    30.582934,
                    59.740388,
                    -1.0396789295723543,
                    "Колпино",
                    "atm"
                  ],
                  [
                    "mU5wwKjd",
                    39.765401,
                    47.254866,
                    -1.1693392203789554,
                    "Ростов-на-Дону",
                    "atm"
                  ],
                  [
                    "te8dMz6Z",
                    37.51644,
                    55.77838000000001,
                    2.007337904382771,
                    "Москва",
                    "bank"
                  ],
                  [
                    "F9XOYlnb",
                    49.212676,
                    55.780841,
                    -0.8235784448946858,
                    "Казань",
                    "atm"
                  ],
                  [
                    "gTgKPP27",
                    37.621543,
                    55.754674,
                    -0.9100186387657532,
                    "Москва",
                    "bank"
                  ],
                  [
                    "ZyyHiNqb",
                    30.3984,
                    59.828011,
                    -0.8235784448946858,
                    "Санкт-Петербург",
                    "payment_terminal"
                  ],
                  [
                    "1TMXBgUM",
                    37.606331,
                    55.611795,
                    1.985727855915004,
                    "Москва",
                    "atm"
                  ],
                  [
                    "uZS0s98V",
                    60.519689,
                    56.79343000000001,
                    1.164546014139864,
                    "Екатеринбург",
                    "bank"
                  ],
                  [
                    "Hng1ty3A",
                    37.734468,
                    55.709798,
                    0.7755651417200607,
                    "Москва",
                    "bank"
                  ],
                  [
                    "QaQP4R7f",
                    37.602885,
                    55.596335,
                    -0.30493728166828155,
                    "Москва",
                    "atm"
                  ],
                  [
                    "AGA0LBwJ",
                    37.621947,
                    55.684503,
                    0.06243354228375483,
                    "Москва",
                    "bank"
                  ],
                  [
                    "gQlNWXf4",
                    30.446878,
                    59.912914,
                    -0.52103776634595,
                    "Санкт-Петербург",
                    "atm"
                  ],
                  [
                    "e6KI8WVh",
                    37.664147,
                    55.731865,
                    0.25692397849365645,
                    "Москва",
                    "atm"
                  ],
                  [
                    "AvrNG4Gf",
                    49.184999,
                    55.805235,
                    -0.6074779602170174,
                    "Казань",
                    "payment_terminal"
                  ],
                  [
                    "fmo3uo10",
                    43.86499600000001,
                    56.243009,
                    -0.30493728166828155,
                    "Нижний Новгород",
                    "atm"
                  ],
                  [
                    "6zswhGTw",
                    83.11036899999998,
                    54.966571,
                    -0.7803583479591522,
                    "Новосибирск",
                    "post_office"
                  ],
                  [
                    "H8wtfc6G",
                    37.508715,
                    55.616981,
                    0.12726368768705534,
                    "Москва",
                    "bank"
                  ],
                  [
                    "oeiKBQIm",
                    49.185044,
                    55.76481999999999,
                    -0.9100186387657532,
                    "Казань",
                    "atm"
                  ],
                  [
                    "Eqhbo1u6",
                    37.527942,
                    55.69219399999999,
                    -0.17527699086168047,
                    "Москва",
                    "atm"
                  ],
                  [
                    "VXCpXVtO",
                    37.732826,
                    55.814578,
                    -0.9964588326368206,
                    "Москва",
                    "bank"
                  ],
                  [
                    "ruh50nWT",
                    37.543237,
                    55.547036,
                    -0.30493728166828155,
                    "Москва",
                    "atm"
                  ],
                  [
                    "fbHwWPwP",
                    30.377937,
                    59.82918000000001,
                    -0.5858679117492506,
                    "Санкт-Петербург",
                    "atm"
                  ],
                  [
                    "DZnacIGm",
                    37.63531,
                    55.731212,
                    0.17048378462258906,
                    "Москва",
                    "bank"
                  ],
                  [
                    "f9UjG9j3",
                    37.603822,
                    55.865025,
                    -0.21849708779721416,
                    "Москва",
                    "atm"
                  ],
                  [
                    "QapR03Z6",
                    30.247469,
                    59.843173,
                    -0.7803583479591522,
                    "Санкт-Петербург",
                    "bank"
                  ],
                  [
                    "6HXoX1HZ",
                    92.949832,
                    56.04668,
                    -0.9532387357012868,
                    "Красноярск",
                    "bank"
                  ],
                  [
                    "f2EweR1h",
                    50.188938,
                    53.19136999999999,
                    0.3865842693002575,
                    "Самара",
                    "bank"
                  ],
                  [
                    "bXtjCW9X",
                    82.96786,
                    55.05232700000001,
                    -0.3913774755393489,
                    "Новосибирск",
                    "atm"
                  ],
                  [
                    "oWYaT4dK",
                    30.320873,
                    59.87869,
                    0.04082349381598799,
                    "Санкт-Петербург",
                    "bank"
                  ],
                  [
                    "LLvbayjS",
                    37.576367,
                    55.819034,
                    -0.002396603119545705,
                    "Москва",
                    "atm"
                  ],
                  [
                    "zYEPdy6c",
                    82.97831,
                    55.037668,
                    -0.26171718473274785,
                    "Новосибирск",
                    "atm"
                  ],
                  [
                    "3VbIMBNL",
                    37.75197,
                    55.758819,
                    0.34336417236472383,
                    "Москва",
                    "bank"
                  ],
                  [
                    "YQ7ziyzt",
                    39.715453,
                    47.282521,
                    -0.4345975724748826,
                    "Ростов-на-Дону",
                    "bank"
                  ],
                  [
                    "6FdFnHvc",
                    56.034734,
                    54.789618,
                    0.12726368768705534,
                    "Уфа",
                    "bank"
                  ],
                  [
                    "q21AU0gF",
                    37.818283,
                    55.752683,
                    0.9700555779299624,
                    "Москва",
                    "bank"
                  ],
                  [
                    "msf1cbvr",
                    37.749661,
                    55.659647,
                    0.17048378462258906,
                    "Москва",
                    "bank"
                  ],
                  [
                    "oEOiQlpv",
                    49.21689,
                    55.76954,
                    0.602684753977926,
                    "Казань",
                    "atm"
                  ],
                  [
                    "zaG5km8I",
                    39.756131,
                    47.282688,
                    -0.0456167000550794,
                    "Ростов-на-Дону",
                    "atm"
                  ],
                  [
                    "mZTEZ4bf",
                    50.158969,
                    53.197251,
                    -0.26171718473274785,
                    "Самара",
                    "atm"
                  ],
                  [
                    "6pVArqoM",
                    29.777139,
                    59.909612,
                    -1.212559317314489,
                    "Санкт-Петербург",
                    "atm"
                  ],
                  [
                    "Y5ARpcKu",
                    30.162239000000003,
                    59.807008,
                    -1.1693392203789554,
                    "Санкт-Петербург",
                    "payment_terminal"
                  ],
                  [
                    "2SKYY79M",
                    50.246331,
                    53.212183,
                    3.239110667045481,
                    "Самара",
                    "atm"
                  ],
                  [
                    "zzmWckqN",
                    30.314963,
                    60.047136,
                    -0.9532387357012868,
                    "Санкт-Петербург",
                    "atm"
                  ],
                  [
                    "ZfB8GmX1",
                    50.188602,
                    53.191244,
                    0.17048378462258906,
                    "Самара",
                    "bank"
                  ],
                  [
                    "TvWyQA6I",
                    37.590986,
                    55.73622,
                    1.985727855915004,
                    "Москва",
                    "bank"
                  ],
                  [
                    "wCIpiNOn",
                    30.392071,
                    59.858334,
                    0.4730244631713249,
                    "Санкт-Петербург",
                    "bank"
                  ],
                  [
                    "f0dnYtDK",
                    56.083769,
                    54.821122,
                    -0.5642578632814836,
                    "Уфа",
                    "bank"
                  ],
                  [
                    "WC4LMU6t",
                    30.414226,
                    59.95951899999999,
                    -0.650698057152551,
                    "Санкт-Петербург",
                    "bank"
                  ],
                  [
                    "GVLixe1p",
                    30.37021,
                    59.883,
                    -0.17527699086168047,
                    "Санкт-Петербург",
                    "atm"
                  ],
                  [
                    "gy5R6Tzq",
                    83.019867,
                    55.00283,
                    0.34336417236472383,
                    "Новосибирск",
                    "bank"
                  ],
                  [
                    "owoZjLcJ",
                    37.629579,
                    55.898768,
                    -1.0396789295723543,
                    "Москва",
                    "bank"
                  ],
                  [
                    "qsQAaylC",
                    37.618947,
                    55.73404,
                    -0.3913774755393489,
                    "Москва",
                    "bank"
                  ],
                  [
                    "bWXM7Z4I",
                    60.65333100000001,
                    56.85661,
                    -0.6939181540880848,
                    "Екатеринбург",
                    "atm"
                  ],
                  [
                    "xLWXr3Lf",
                    37.73102100000001,
                    55.729833,
                    0.9484455294621956,
                    "Москва",
                    "atm"
                  ],
                  [
                    "W9hpCveX",
                    37.505948,
                    55.675511,
                    -0.4778176694104163,
                    "Москва",
                    "atm"
                  ],
                  [
                    "ewJhpiY9",
                    37.590618,
                    55.79368100000001,
                    7.215359585114582,
                    "Москва",
                    "atm"
                  ],
                  [
                    "xsb5xUU4",
                    60.537871,
                    56.816863,
                    -0.002396603119545705,
                    "Екатеринбург",
                    "payment_terminal"
                  ],
                  [
                    "YD1XoHg9",
                    60.5324,
                    56.86539200000001,
                    -0.4778176694104163,
                    "Екатеринбург",
                    "atm"
                  ],
                  [
                    "fI0HvX5p",
                    50.225666,
                    53.25928100000001,
                    0.3001440754291901,
                    "Самара",
                    "bank"
                  ],
                  [
                    "YmlaZQRx",
                    37.531968,
                    55.801912,
                    1.7696273712373356,
                    "Москва",
                    "atm"
                  ],
                  [
                    "CxcTgNjn",
                    37.660183,
                    55.75524,
                    0.5594646570423922,
                    "Москва",
                    "atm"
                  ],
                  [
                    "3HhvDYQp",
                    30.268333,
                    59.850762,
                    -0.30493728166828155,
                    "Санкт-Петербург",
                    "atm"
                  ],
                  [
                    "ne5FR9fF",
                    37.681473,
                    55.717847,
                    0.9484455294621956,
                    "Москва",
                    "atm"
                  ],
                  [
                    "psQh5f3D",
                    30.260932,
                    59.867776,
                    -0.3913774755393489,
                    "Санкт-Петербург",
                    "atm"
                  ],
                  [
                    "nkt1PhrL",
                    37.477381,
                    55.85578,
                    0.04082349381598799,
                    "Москва",
                    "atm"
                  ],
                  [
                    "akTbRDfA",
                    30.355126,
                    59.921134,
                    -0.26171718473274785,
                    "Санкт-Петербург",
                    "atm"
                  ],
                  [
                    "tLinWS5n",
                    30.391599,
                    59.833301,
                    -0.9100186387657532,
                    "Санкт-Петербург",
                    "atm"
                  ],
                  [
                    "wG77qDMd",
                    30.204863,
                    59.83404,
                    -0.26171718473274785,
                    "Санкт-Петербург",
                    "atm"
                  ],
                  [
                    "JX7XV6mD",
                    37.743868,
                    55.613216,
                    -0.7803583479591522,
                    "Москва",
                    "bank"
                  ],
                  [
                    "jf7hZLjk",
                    60.554713,
                    56.869249,
                    -0.6074779602170174,
                    "Екатеринбург",
                    "atm"
                  ],
                  [
                    "6B6HHnCd",
                    50.121798,
                    53.187213,
                    0.04082349381598799,
                    "Самара",
                    "atm"
                  ],
                  [
                    "PUp3EyzF",
                    37.664267,
                    55.870102,
                    -0.26171718473274785,
                    "Москва",
                    "atm"
                  ],
                  [
                    "PJ5m7cqh",
                    82.976488,
                    55.056951,
                    1.985727855915004,
                    "Новосибирск",
                    "atm"
                  ],
                  [
                    "YdPYoxfU",
                    30.362055,
                    59.931738,
                    -0.7803583479591522,
                    "Санкт-Петербург",
                    "payment_terminal"
                  ],
                  [
                    "AA8hN7bJ",
                    37.628765,
                    55.740664,
                    0.21370388155812275,
                    "Москва",
                    "bank"
                  ],
                  [
                    "uNw6t6xk",
                    37.586825,
                    55.794233,
                    -0.002396603119545705,
                    "Москва",
                    "atm"
                  ],
                  [
                    "Ap42ei8k",
                    37.67879,
                    55.77291,
                    -0.9100186387657532,
                    "Москва",
                    "atm"
                  ],
                  [
                    "rn9A8r62",
                    37.75213,
                    55.61964,
                    -0.3265473301360484,
                    "Москва",
                    "atm"
                  ],
                  [
                    "960M6jye",
                    37.70577,
                    55.78295,
                    -1.234169365782256,
                    "Москва",
                    "atm"
                  ]
                ],
                "columns": [
                  "point_id",
                  "lon",
                  "lat",
                  "target",
                  "cities",
                  "nearestNode"
                ]
              }
            },
            "layout": "IPY_MODEL_b57d96e220a44f83a94de33ccca765c3",
            "height": 400,
            "_model_module": "keplergl-jupyter"
          }
        }
      }
    }
  },
  "cells": [
    {
      "cell_type": "code",
      "metadata": {
        "colab": {
          "base_uri": "https://localhost:8080/"
        },
        "id": "f81Cuj-7t85o",
        "outputId": "dda7ff9f-896c-402b-a677-78568609cdbd"
      },
      "source": [
        "import warnings\n",
        "warnings.filterwarnings('ignore')\n",
        "\n",
        "import pandas as pd\n",
        "import numpy as np\n",
        "!pip install geopandas\n",
        "import geopandas as gpd\n",
        "import tqdm\n",
        "from sklearn.model_selection import train_test_split\n",
        "from sklearn.metrics import mean_absolute_error\n",
        "from sklearn.linear_model import LinearRegression"
      ],
      "execution_count": null,
      "outputs": [
        {
          "output_type": "stream",
          "text": [
            "Requirement already satisfied: geopandas in /usr/local/lib/python3.6/dist-packages (0.8.1)\n",
            "Requirement already satisfied: shapely in /usr/local/lib/python3.6/dist-packages (from geopandas) (1.7.1)\n",
            "Requirement already satisfied: pyproj>=2.2.0 in /usr/local/lib/python3.6/dist-packages (from geopandas) (3.0.0.post1)\n",
            "Requirement already satisfied: pandas>=0.23.0 in /usr/local/lib/python3.6/dist-packages (from geopandas) (1.1.4)\n",
            "Requirement already satisfied: fiona in /usr/local/lib/python3.6/dist-packages (from geopandas) (1.8.18)\n",
            "Requirement already satisfied: certifi in /usr/local/lib/python3.6/dist-packages (from pyproj>=2.2.0->geopandas) (2020.11.8)\n",
            "Requirement already satisfied: python-dateutil>=2.7.3 in /usr/local/lib/python3.6/dist-packages (from pandas>=0.23.0->geopandas) (2.8.1)\n",
            "Requirement already satisfied: pytz>=2017.2 in /usr/local/lib/python3.6/dist-packages (from pandas>=0.23.0->geopandas) (2018.9)\n",
            "Requirement already satisfied: numpy>=1.15.4 in /usr/local/lib/python3.6/dist-packages (from pandas>=0.23.0->geopandas) (1.18.5)\n",
            "Requirement already satisfied: click-plugins>=1.0 in /usr/local/lib/python3.6/dist-packages (from fiona->geopandas) (1.1.1)\n",
            "Requirement already satisfied: six>=1.7 in /usr/local/lib/python3.6/dist-packages (from fiona->geopandas) (1.15.0)\n",
            "Requirement already satisfied: cligj>=0.5 in /usr/local/lib/python3.6/dist-packages (from fiona->geopandas) (0.7.1)\n",
            "Requirement already satisfied: munch in /usr/local/lib/python3.6/dist-packages (from fiona->geopandas) (2.5.0)\n",
            "Requirement already satisfied: attrs>=17 in /usr/local/lib/python3.6/dist-packages (from fiona->geopandas) (20.3.0)\n",
            "Requirement already satisfied: click<8,>=4.0 in /usr/local/lib/python3.6/dist-packages (from fiona->geopandas) (7.1.2)\n"
          ],
          "name": "stdout"
        }
      ]
    },
    {
      "cell_type": "markdown",
      "metadata": {
        "id": "7IUzCIBJt85p"
      },
      "source": [
        "### Задача:\n",
        "\n",
        "Прогноз продаж одной из популярных моделей [фичерфонов](https://ru.wikipedia.org/wiki/%D0%A4%D0%B8%D1%87%D0%B5%D1%80%D1%84%D0%BE%D0%BD) (на картинке ниже пример похожего устройства) в салонах МегаФона\n",
        "![](https://39.img.avito.st/640x480/8468720439.jpg)"
      ]
    },
    {
      "cell_type": "markdown",
      "metadata": {
        "id": "xAQfQgKBt85p"
      },
      "source": [
        "### Исходные данные:\n",
        "\n",
        "Датасет содержит следующие поля:\n",
        "\n",
        "1. `point_id` - Индентификатор салона\n",
        "2. `lon` - Долгота точки\n",
        "3. `lat` - Широта точки\n",
        "4. `target` - Значение таргета, усредненное за несколько месяцев и отнормированное"
      ]
    },
    {
      "cell_type": "markdown",
      "metadata": {
        "id": "agqFEfO_t85q"
      },
      "source": [
        "### Требования к решению и советы:\n",
        "\n",
        "Ниже приведен список из нескольких важных пунктов, необходимых для решения задания. Выполнение каждого из пунктов влияет на итоговую оценку. Вы можете выполнить каждый из пунктов разными способами, самым лучшим будет считаться вариант, когда всё получение и обработка данных будут реализованы на Питоне (пример: вы можете скачать данные из OSM через интерфейс на сайте overpass-turbo или с помощью библиотек `overpass`/`requests`. Оба варианта будут зачтены, но больше баллов можно заработать во втором случае)\n",
        "\n",
        "\n",
        "\n",
        "1. Салоны расположены в нескольких разных городах, вам необходимо **определить город для каждого салона** (это понадобится во многих частях задания). К этому есть разные подходы. Вы можете провести [обратное геокодирование](https://en.wikipedia.org/wiki/Reverse_geocoding) с помощью геокодера [Nominatim](https://nominatim.org/), доступного через библиотеку `geopy` примерно вот так:\n",
        "```python\n",
        "from geopy.geocoders import Nominatim\n",
        "geolocator = Nominatim(user_agent=\"specify_your_app_name_here\")\n",
        "location = geolocator.reverse(\"52.509669, 13.376294\")\n",
        "print(location.address)\n",
        "```\n",
        "В таком случае, вам придется обрабатывать полученную строку адреса, чтобы извлечь название города. Также вы можете скачать из OSM или найти в любом другом источнике границы административно территориальных границ России и пересечь с ними датасет с помощью `geopandas.sjoin` (этот вариант более надежный, но нужно будет разобраться с тем, как устроены границы АТД в OSM, обратите внимание на [этот тег](https://wiki.openstreetmap.org/wiki/Key:admin_level))"
      ]
    },
    {
      "cell_type": "markdown",
      "metadata": {
        "id": "s2ByeJ3ht85q"
      },
      "source": [
        "\n",
        "2. **Используйте данные OSM**: подумайте, какие объекты могут влиять на продажи фичерфонов. Гипотеза: такие телефоны покупают люди, приезжающие в город или страну ненадолго, чтобы вставить туда отдельную симкарту для роуминга. Можно попробовать использовать местоположения железнодорожных вокзалов (изучите [этот тег](https://wiki.openstreetmap.org/wiki/Tag:railway%3Dstation)). Необходимо использовать хотя бы 5 разных типов объектов из OSM. Скорее всего, вам придется качать данные OSM отдельно для разных городов (см. пример для Нью-Йорка из лекции)\n",
        "\n",
        "\n",
        "3. **Используйте разные способы генерации признаков**: описать положение салона МегаФона относительно станций метро можно разными способами - найти ***расстояние до ближайшей станции***, или же посчитать, сколько станций попадает в ***500 метровую буферную зону*** вокруг салона. Такие признаки будут нести разную информацию. Так же попробуйте поэкспериментировать с размерами буферных зон (представьте, что значат в реальности радиусы 100, 500, 1000 метров). Попробуйте посчитать расстояние до центра города, до других объектов."
      ]
    },
    {
      "cell_type": "markdown",
      "metadata": {
        "id": "PNENZI5lt85q"
      },
      "source": [
        "4. **Сделайте визуализации**: постройте 2-3 карты для какого нибудь из городов - как распределен в пространстве таргет, где находятся объекты, полученные вами из OSM. Можете использовать любой инструмент - обычный `plot()`, `folium`, `keplergl`. Если выберете Кеплер, обязательно сохраните в файл конфиг карты, чтобы ее можно было воспроизвести. Сделать это можно вот так:\n",
        "\n",
        "```python\n",
        "import json\n",
        "json_data = kepler_map.config\n",
        "with open('kepler_config.json', 'w') as outfile:\n",
        "    json.dump(json_data, outfile)\n",
        "```\n",
        "5. Задание не ограничено приведенными выше пунктами, попробуйте нагенерировать интересных признаков, найти в интернете дополнительные данные (в таком случае в комментарии к коду укажите ссылку на ресурс, откуда взяли данные)\n",
        "\n",
        "\n",
        "\n",
        "6. Это довольно сложная задача - датасет очень маленький, данные по своей природе довольно случайны. Поэтому место и скор на Kaggle не будут играть решающую роль в оценке, но позволят заработать дополнительные баллы"
      ]
    },
    {
      "cell_type": "markdown",
      "metadata": {
        "id": "nNSv2mT-t85q"
      },
      "source": [
        "### Read data"
      ]
    },
    {
      "cell_type": "code",
      "metadata": {
        "colab": {
          "base_uri": "https://localhost:8080/"
        },
        "id": "wn0PuyNgu915",
        "outputId": "8c13faee-67aa-4423-98fd-7c73ae691158"
      },
      "source": [
        "from google.colab import drive\n",
        "drive.mount('/content/drive')"
      ],
      "execution_count": null,
      "outputs": [
        {
          "output_type": "stream",
          "text": [
            "Drive already mounted at /content/drive; to attempt to forcibly remount, call drive.mount(\"/content/drive\", force_remount=True).\n"
          ],
          "name": "stdout"
        }
      ]
    },
    {
      "cell_type": "code",
      "metadata": {
        "id": "oslJHCmot85q"
      },
      "source": [
        "train = pd.read_csv('./drive/MyDrive/data/mf_geo_train.csv')\n",
        "test = pd.read_csv('./drive/MyDrive/data/mf_geo_test.csv')"
      ],
      "execution_count": null,
      "outputs": []
    },
    {
      "cell_type": "code",
      "metadata": {
        "colab": {
          "base_uri": "https://localhost:8080/",
          "height": 106
        },
        "id": "gX_iJla2t85r",
        "outputId": "93f7bc59-4c2e-4ffd-b6bf-bd63159ae5ab"
      },
      "source": [
        "train.head(2)"
      ],
      "execution_count": null,
      "outputs": [
        {
          "output_type": "execute_result",
          "data": {
            "text/html": [
              "<div>\n",
              "<style scoped>\n",
              "    .dataframe tbody tr th:only-of-type {\n",
              "        vertical-align: middle;\n",
              "    }\n",
              "\n",
              "    .dataframe tbody tr th {\n",
              "        vertical-align: top;\n",
              "    }\n",
              "\n",
              "    .dataframe thead th {\n",
              "        text-align: right;\n",
              "    }\n",
              "</style>\n",
              "<table border=\"1\" class=\"dataframe\">\n",
              "  <thead>\n",
              "    <tr style=\"text-align: right;\">\n",
              "      <th></th>\n",
              "      <th>point_id</th>\n",
              "      <th>lon</th>\n",
              "      <th>lat</th>\n",
              "      <th>target</th>\n",
              "    </tr>\n",
              "  </thead>\n",
              "  <tbody>\n",
              "    <tr>\n",
              "      <th>0</th>\n",
              "      <td>ommNZCUV</td>\n",
              "      <td>37.590776</td>\n",
              "      <td>55.848630</td>\n",
              "      <td>-0.348157</td>\n",
              "    </tr>\n",
              "    <tr>\n",
              "      <th>1</th>\n",
              "      <td>nMe2LHPb</td>\n",
              "      <td>37.784210</td>\n",
              "      <td>55.750271</td>\n",
              "      <td>1.294206</td>\n",
              "    </tr>\n",
              "  </tbody>\n",
              "</table>\n",
              "</div>"
            ],
            "text/plain": [
              "   point_id        lon        lat    target\n",
              "0  ommNZCUV  37.590776  55.848630 -0.348157\n",
              "1  nMe2LHPb  37.784210  55.750271  1.294206"
            ]
          },
          "metadata": {
            "tags": []
          },
          "execution_count": 124
        }
      ]
    },
    {
      "cell_type": "code",
      "metadata": {
        "colab": {
          "base_uri": "https://localhost:8080/",
          "height": 106
        },
        "id": "VQzrF7sht85u",
        "outputId": "fff02634-e19a-4d2a-9eb3-d607b313bf33"
      },
      "source": [
        "test.head(2)"
      ],
      "execution_count": null,
      "outputs": [
        {
          "output_type": "execute_result",
          "data": {
            "text/html": [
              "<div>\n",
              "<style scoped>\n",
              "    .dataframe tbody tr th:only-of-type {\n",
              "        vertical-align: middle;\n",
              "    }\n",
              "\n",
              "    .dataframe tbody tr th {\n",
              "        vertical-align: top;\n",
              "    }\n",
              "\n",
              "    .dataframe thead th {\n",
              "        text-align: right;\n",
              "    }\n",
              "</style>\n",
              "<table border=\"1\" class=\"dataframe\">\n",
              "  <thead>\n",
              "    <tr style=\"text-align: right;\">\n",
              "      <th></th>\n",
              "      <th>point_id</th>\n",
              "      <th>lon</th>\n",
              "      <th>lat</th>\n",
              "      <th>target</th>\n",
              "    </tr>\n",
              "  </thead>\n",
              "  <tbody>\n",
              "    <tr>\n",
              "      <th>0</th>\n",
              "      <td>F4lXR1cG</td>\n",
              "      <td>37.681242</td>\n",
              "      <td>55.74804</td>\n",
              "      <td>0.0091</td>\n",
              "    </tr>\n",
              "    <tr>\n",
              "      <th>1</th>\n",
              "      <td>4LJu4GTf</td>\n",
              "      <td>60.580910</td>\n",
              "      <td>56.79586</td>\n",
              "      <td>0.0091</td>\n",
              "    </tr>\n",
              "  </tbody>\n",
              "</table>\n",
              "</div>"
            ],
            "text/plain": [
              "   point_id        lon       lat  target\n",
              "0  F4lXR1cG  37.681242  55.74804  0.0091\n",
              "1  4LJu4GTf  60.580910  56.79586  0.0091"
            ]
          },
          "metadata": {
            "tags": []
          },
          "execution_count": 125
        }
      ]
    },
    {
      "cell_type": "code",
      "metadata": {
        "colab": {
          "base_uri": "https://localhost:8080/"
        },
        "id": "4O5awMnkFgFD",
        "outputId": "1081ccec-2bfd-4325-ac1c-b0145886542d"
      },
      "source": [
        "lats = train.lat\n",
        "lats"
      ],
      "execution_count": null,
      "outputs": [
        {
          "output_type": "execute_result",
          "data": {
            "text/plain": [
              "0      55.848630\n",
              "1      55.750271\n",
              "2      47.213330\n",
              "3      55.782020\n",
              "4      55.730188\n",
              "         ...    \n",
              "420    55.740664\n",
              "421    55.794233\n",
              "422    55.772910\n",
              "423    55.619640\n",
              "424    55.782950\n",
              "Name: lat, Length: 425, dtype: float64"
            ]
          },
          "metadata": {
            "tags": []
          },
          "execution_count": 126
        }
      ]
    },
    {
      "cell_type": "code",
      "metadata": {
        "colab": {
          "base_uri": "https://localhost:8080/"
        },
        "id": "qWnV5jKEFgH1",
        "outputId": "9814802e-3a8f-479f-b4d2-9b73c6319185"
      },
      "source": [
        "lons = train.lon\n",
        "lons"
      ],
      "execution_count": null,
      "outputs": [
        {
          "output_type": "execute_result",
          "data": {
            "text/plain": [
              "0      37.590776\n",
              "1      37.784210\n",
              "2      39.635721\n",
              "3      37.704570\n",
              "4      37.643983\n",
              "         ...    \n",
              "420    37.628765\n",
              "421    37.586825\n",
              "422    37.678790\n",
              "423    37.752130\n",
              "424    37.705770\n",
              "Name: lon, Length: 425, dtype: float64"
            ]
          },
          "metadata": {
            "tags": []
          },
          "execution_count": 127
        }
      ]
    },
    {
      "cell_type": "code",
      "metadata": {
        "colab": {
          "base_uri": "https://localhost:8080/",
          "height": 67,
          "referenced_widgets": [
            "16391a9b0d6d4cb690fd0c1ba6a91730",
            "7e802c394f314ecea53312accf0f88b6",
            "937d2861a94c413e993bb0111467c7f2",
            "8fbca884e6cb4156af2cbf80016b63f0",
            "db3f2f61846a44aa91eaeadea231e303",
            "6c0721a2823f40f0bd7e345b0f8b1b09",
            "29ff3f5765f245ab80d2e12fff87361a",
            "f121a3b49ec247e98f43c8cac6295f28"
          ]
        },
        "id": "Y97noeSPFgNS",
        "outputId": "bfadb81a-6b8b-4941-d23b-cc2e38e63059"
      },
      "source": [
        "cities = []\n",
        "for i in (tqdm.tqdm_notebook(range(lons.shape[0]))):\n",
        "  geolocator = Nominatim(user_agent=\"city\"+str(i),timeout=None)\n",
        "  location = geolocator.reverse(str(lats[i]) +','+ str(lons[i]))\n",
        "  cities.append(location.raw.get(\"address\").get('city'))"
      ],
      "execution_count": null,
      "outputs": [
        {
          "output_type": "display_data",
          "data": {
            "application/vnd.jupyter.widget-view+json": {
              "model_id": "16391a9b0d6d4cb690fd0c1ba6a91730",
              "version_minor": 0,
              "version_major": 2
            },
            "text/plain": [
              "HBox(children=(FloatProgress(value=0.0, max=425.0), HTML(value='')))"
            ]
          },
          "metadata": {
            "tags": []
          }
        },
        {
          "output_type": "stream",
          "text": [
            "\n"
          ],
          "name": "stdout"
        }
      ]
    },
    {
      "cell_type": "markdown",
      "metadata": {
        "id": "n9pZVp0vfj5E"
      },
      "source": [
        "## Мы можем заметить, что некоторые значения некорректны, поэтому рассмотрим их"
      ]
    },
    {
      "cell_type": "code",
      "metadata": {
        "colab": {
          "base_uri": "https://localhost:8080/"
        },
        "id": "rbUuAPqlFgSE",
        "outputId": "eeeb7951-a0d5-470e-b193-694b2532b473"
      },
      "source": [
        "brak = []\n",
        "brakObl = []\n",
        "for i in range(len(cities)):\n",
        "  if cities[i] == None:\n",
        "    brak.append(i)\n",
        "  elif \"район\" in cities[i]:\n",
        "    brak.append(i)\n",
        "  elif 'поселение' in cities[i]:\n",
        "    brak.append(i)\n",
        "  elif 'округ' in cities[i]:\n",
        "    brakObl.append(i)\n",
        "    print(i)\n",
        "  elif 'область' in cities[i]:\n",
        "    brakObl.append(i)"
      ],
      "execution_count": null,
      "outputs": [
        {
          "output_type": "stream",
          "text": [
            "13\n",
            "26\n",
            "44\n",
            "50\n",
            "59\n",
            "62\n",
            "65\n",
            "66\n",
            "81\n",
            "88\n",
            "92\n",
            "103\n",
            "118\n",
            "121\n",
            "122\n",
            "134\n",
            "137\n",
            "139\n",
            "141\n",
            "147\n",
            "148\n",
            "158\n",
            "169\n",
            "178\n",
            "185\n",
            "192\n",
            "197\n",
            "204\n",
            "217\n",
            "243\n",
            "261\n",
            "272\n",
            "286\n",
            "295\n",
            "297\n",
            "300\n",
            "316\n",
            "325\n",
            "334\n",
            "338\n",
            "343\n",
            "345\n",
            "361\n",
            "363\n",
            "372\n",
            "376\n",
            "382\n",
            "384\n",
            "389\n",
            "395\n",
            "404\n",
            "416\n"
          ],
          "name": "stdout"
        }
      ]
    },
    {
      "cell_type": "code",
      "metadata": {
        "colab": {
          "base_uri": "https://localhost:8080/"
        },
        "id": "U0e1lIDdFgUo",
        "outputId": "af8a4818-1aef-403e-a4fc-e9a51c65d6bd"
      },
      "source": [
        "geolocator = Nominatim(user_agent=\"city\"+str(i))\n",
        "location = geolocator.reverse(str(lats[brakObl[13]]) +','+ str(lons[brakObl[13]]))\n",
        "location.raw"
      ],
      "execution_count": null,
      "outputs": [
        {
          "output_type": "execute_result",
          "data": {
            "text/plain": [
              "{'address': {'city': 'городской округ Казань',\n",
              "  'city_district': 'Советский район',\n",
              "  'country': 'Россия',\n",
              "  'country_code': 'ru',\n",
              "  'house_number': '90',\n",
              "  'postcode': '420140',\n",
              "  'region': 'Приволжский федеральный округ',\n",
              "  'road': 'улица Юлиуса Фучика',\n",
              "  'shop': 'Дочки-сыночки',\n",
              "  'state': 'Татарстан',\n",
              "  'suburb': 'Азино-2'},\n",
              " 'boundingbox': ['55.763428', '55.763528', '49.233224', '49.233324'],\n",
              " 'display_name': 'Дочки-сыночки, 90, улица Юлиуса Фучика, Азино-2, Советский район, городской округ Казань, Татарстан, Приволжский федеральный округ, 420140, Россия',\n",
              " 'lat': '55.763478',\n",
              " 'licence': 'Data © OpenStreetMap contributors, ODbL 1.0. https://osm.org/copyright',\n",
              " 'lon': '49.233274',\n",
              " 'osm_id': 6924634106,\n",
              " 'osm_type': 'node',\n",
              " 'place_id': 75055446}"
            ]
          },
          "metadata": {
            "tags": []
          },
          "execution_count": 131
        }
      ]
    },
    {
      "cell_type": "code",
      "metadata": {
        "colab": {
          "base_uri": "https://localhost:8080/"
        },
        "id": "VvPUv4i2GwEU",
        "outputId": "d594def2-8d62-4c28-9b34-d1c97d749d26"
      },
      "source": [
        "cities"
      ],
      "execution_count": null,
      "outputs": [
        {
          "output_type": "execute_result",
          "data": {
            "text/plain": [
              "['Москва',\n",
              " 'Москва',\n",
              " 'Ростов-на-Дону',\n",
              " 'Москва',\n",
              " 'Москва',\n",
              " 'Красноярск',\n",
              " 'Санкт-Петербург',\n",
              " 'Москва',\n",
              " 'Красноярск',\n",
              " 'Ростов-на-Дону',\n",
              " 'Ростов-на-Дону',\n",
              " 'Москва',\n",
              " 'Уфа',\n",
              " 'городской округ Казань',\n",
              " 'Москва',\n",
              " 'Москва',\n",
              " 'Екатеринбург',\n",
              " 'Нижний Новгород',\n",
              " 'Красноярск',\n",
              " 'Москва',\n",
              " 'Колпино',\n",
              " 'Москва',\n",
              " 'Санкт-Петербург',\n",
              " 'Новосибирск',\n",
              " 'Красноярск',\n",
              " 'Ростов-на-Дону',\n",
              " 'городской округ Новосибирск',\n",
              " 'Москва',\n",
              " 'Москва',\n",
              " 'Москва',\n",
              " 'Москва',\n",
              " 'Москва',\n",
              " 'Москва',\n",
              " 'Москва',\n",
              " 'Москва',\n",
              " 'Москва',\n",
              " 'Москва',\n",
              " 'Москва',\n",
              " 'Москва',\n",
              " 'Москва',\n",
              " 'Нижний Новгород',\n",
              " 'Москва',\n",
              " 'Санкт-Петербург',\n",
              " 'Санкт-Петербург',\n",
              " 'городской округ Самара',\n",
              " 'Ростов-на-Дону',\n",
              " 'Нижний Новгород',\n",
              " 'Екатеринбург',\n",
              " 'Москва',\n",
              " None,\n",
              " 'городской округ Новосибирск',\n",
              " 'Москва',\n",
              " 'Москва',\n",
              " 'Санкт-Петербург',\n",
              " 'Москва',\n",
              " 'Москва',\n",
              " 'Москва',\n",
              " 'Санкт-Петербург',\n",
              " 'Уфа',\n",
              " 'городской округ Казань',\n",
              " 'Москва',\n",
              " 'Екатеринбург',\n",
              " 'городской округ Самара',\n",
              " 'Уфа',\n",
              " 'Санкт-Петербург',\n",
              " 'городской округ Казань',\n",
              " 'городской округ Казань',\n",
              " 'Самара',\n",
              " 'Красноярск',\n",
              " 'Казань',\n",
              " None,\n",
              " 'Санкт-Петербург',\n",
              " 'Москва',\n",
              " 'Москва',\n",
              " 'Москва',\n",
              " 'Санкт-Петербург',\n",
              " 'Москва',\n",
              " 'Москва',\n",
              " None,\n",
              " 'Москва',\n",
              " 'Екатеринбург',\n",
              " 'городской округ Самара',\n",
              " 'Красноярск',\n",
              " 'Екатеринбург',\n",
              " 'Санкт-Петербург',\n",
              " 'Екатеринбург',\n",
              " 'Москва',\n",
              " 'Москва',\n",
              " 'городской округ Казань',\n",
              " 'Москва',\n",
              " 'Казань',\n",
              " 'Москва',\n",
              " 'городской округ Казань',\n",
              " 'Ростов-на-Дону',\n",
              " 'Уфа',\n",
              " 'Москва',\n",
              " 'Санкт-Петербург',\n",
              " 'Москва',\n",
              " 'Санкт-Петербург',\n",
              " 'Москва',\n",
              " 'Новосибирск',\n",
              " 'Санкт-Петербург',\n",
              " 'Москва',\n",
              " 'городской округ Самара',\n",
              " 'Санкт-Петербург',\n",
              " 'Нижний Новгород',\n",
              " 'Москва',\n",
              " 'Красноярск',\n",
              " 'Москва',\n",
              " 'Санкт-Петербург',\n",
              " 'Москва',\n",
              " 'Москва',\n",
              " 'Ростов-на-Дону',\n",
              " 'Санкт-Петербург',\n",
              " 'Казань',\n",
              " 'Уфа',\n",
              " 'Санкт-Петербург',\n",
              " 'Москва',\n",
              " 'городской округ Самара',\n",
              " 'Москва',\n",
              " 'Санкт-Петербург',\n",
              " 'городской округ Казань',\n",
              " 'городской округ Новосибирск',\n",
              " 'Екатеринбург',\n",
              " 'Санкт-Петербург',\n",
              " 'Москва',\n",
              " 'Санкт-Петербург',\n",
              " 'Москва',\n",
              " 'Москва',\n",
              " None,\n",
              " 'Ростов-на-Дону',\n",
              " 'Санкт-Петербург',\n",
              " 'Нижний Новгород',\n",
              " 'Москва',\n",
              " 'городской округ Самара',\n",
              " 'Ростов-на-Дону',\n",
              " 'Новосибирск',\n",
              " 'городской округ Казань',\n",
              " 'Новосибирск',\n",
              " 'городской округ Самара',\n",
              " 'Москва',\n",
              " 'городской округ Новосибирск',\n",
              " 'Москва',\n",
              " 'Санкт-Петербург',\n",
              " 'Ростов-на-Дону',\n",
              " 'Санкт-Петербург',\n",
              " 'Санкт-Петербург',\n",
              " 'городской округ Новосибирск',\n",
              " 'городской округ Казань',\n",
              " 'Москва',\n",
              " 'Казань',\n",
              " 'Новосибирск',\n",
              " 'Санкт-Петербург',\n",
              " 'Москва',\n",
              " 'Красноярск',\n",
              " 'Уфа',\n",
              " 'Нижний Новгород',\n",
              " 'Москва',\n",
              " 'городской округ Самара',\n",
              " 'Красноярск',\n",
              " 'Москва',\n",
              " 'Санкт-Петербург',\n",
              " 'Нижний Новгород',\n",
              " 'Санкт-Петербург',\n",
              " 'Санкт-Петербург',\n",
              " 'Красноярск',\n",
              " 'Новосибирск',\n",
              " 'Санкт-Петербург',\n",
              " 'Москва',\n",
              " 'городской округ Самара',\n",
              " 'Красноярск',\n",
              " 'Москва',\n",
              " 'Нижний Новгород',\n",
              " 'Екатеринбург',\n",
              " 'Екатеринбург',\n",
              " 'Казань',\n",
              " 'Санкт-Петербург',\n",
              " 'Нижний Новгород',\n",
              " 'городской округ Самара',\n",
              " 'Уфа',\n",
              " 'Москва',\n",
              " 'Москва',\n",
              " 'Санкт-Петербург',\n",
              " 'Колпино',\n",
              " 'Красноярск',\n",
              " 'городской округ Казань',\n",
              " 'Москва',\n",
              " 'Москва',\n",
              " 'Екатеринбург',\n",
              " 'Нижний Новгород',\n",
              " 'Ростов-на-Дону',\n",
              " 'Москва',\n",
              " 'городской округ Новосибирск',\n",
              " 'Новосибирск',\n",
              " 'Санкт-Петербург',\n",
              " 'Красноярск',\n",
              " 'Казань',\n",
              " 'городской округ Самара',\n",
              " 'Зеленоград',\n",
              " 'Екатеринбург',\n",
              " 'Санкт-Петербург',\n",
              " 'Уфа',\n",
              " 'Санкт-Петербург',\n",
              " 'Уфа',\n",
              " 'городской округ Самара',\n",
              " 'Москва',\n",
              " 'Новосибирск',\n",
              " 'Санкт-Петербург',\n",
              " 'Колпино',\n",
              " 'Москва',\n",
              " 'Ростов-на-Дону',\n",
              " 'Москва',\n",
              " 'Самара',\n",
              " 'Москва',\n",
              " 'Самара',\n",
              " 'Москва',\n",
              " 'Москва',\n",
              " 'городской округ Казань',\n",
              " 'Уфа',\n",
              " 'Уфа',\n",
              " 'Красноярск',\n",
              " 'Москва',\n",
              " 'Москва',\n",
              " 'Екатеринбург',\n",
              " 'Москва',\n",
              " 'Москва',\n",
              " 'Москва',\n",
              " 'Москва',\n",
              " 'Москва',\n",
              " 'Санкт-Петербург',\n",
              " 'Санкт-Петербург',\n",
              " 'Ростов-на-Дону',\n",
              " None,\n",
              " 'Уфа',\n",
              " 'Москва',\n",
              " 'Екатеринбург',\n",
              " 'Москва',\n",
              " 'Москва',\n",
              " 'Москва',\n",
              " 'Санкт-Петербург',\n",
              " 'Москва',\n",
              " 'Москва',\n",
              " 'Москва',\n",
              " 'городской округ Самара',\n",
              " 'Красноярск',\n",
              " 'Уфа',\n",
              " 'Ростов-на-Дону',\n",
              " 'Москва',\n",
              " 'Нижний Новгород',\n",
              " 'Санкт-Петербург',\n",
              " 'Нижний Новгород',\n",
              " 'Екатеринбург',\n",
              " 'Уфа',\n",
              " 'Нижний Новгород',\n",
              " 'Казань',\n",
              " 'Уфа',\n",
              " 'Москва',\n",
              " 'Нижний Новгород',\n",
              " 'Санкт-Петербург',\n",
              " 'Уфа',\n",
              " 'Красноярск',\n",
              " 'городской округ Новосибирск',\n",
              " 'Санкт-Петербург',\n",
              " 'Москва',\n",
              " 'Красноярск',\n",
              " 'Москва',\n",
              " 'Москва',\n",
              " 'Москва',\n",
              " 'Москва',\n",
              " 'Нижний Новгород',\n",
              " 'Санкт-Петербург',\n",
              " 'Москва',\n",
              " 'городской округ Новосибирск',\n",
              " 'Новосибирск',\n",
              " 'Нижний Новгород',\n",
              " 'Санкт-Петербург',\n",
              " 'Санкт-Петербург',\n",
              " 'Москва',\n",
              " 'Нижний Новгород',\n",
              " 'Санкт-Петербург',\n",
              " 'Санкт-Петербург',\n",
              " 'Красноярск',\n",
              " 'Самара',\n",
              " 'Ростов-на-Дону',\n",
              " 'Санкт-Петербург',\n",
              " 'Москва',\n",
              " 'городской округ Самара',\n",
              " 'Москва',\n",
              " 'Нижний Новгород',\n",
              " 'Ростов-на-Дону',\n",
              " 'Москва',\n",
              " 'Нижний Новгород',\n",
              " 'Зеленоград',\n",
              " None,\n",
              " 'Москва',\n",
              " 'городской округ Казань',\n",
              " 'Москва',\n",
              " 'городской округ Новосибирск',\n",
              " 'Санкт-Петербург',\n",
              " 'Москва',\n",
              " 'городской округ Самара',\n",
              " 'Москва',\n",
              " 'Ростов-на-Дону',\n",
              " 'Екатеринбург',\n",
              " 'Санкт-Петербург',\n",
              " 'Санкт-Петербург',\n",
              " 'Санкт-Петербург',\n",
              " 'Санкт-Петербург',\n",
              " 'Уфа',\n",
              " 'Москва',\n",
              " 'Москва',\n",
              " 'Москва',\n",
              " 'Москва',\n",
              " 'Балашиха',\n",
              " 'Москва',\n",
              " 'Екатеринбург',\n",
              " 'городской округ Самара',\n",
              " 'Москва',\n",
              " 'Москва',\n",
              " 'Москва',\n",
              " None,\n",
              " 'Санкт-Петербург',\n",
              " 'Красноярск',\n",
              " 'Санкт-Петербург',\n",
              " 'Санкт-Петербург',\n",
              " 'городской округ Новосибирск',\n",
              " 'Санкт-Петербург',\n",
              " 'Москва',\n",
              " 'Новосибирск',\n",
              " 'Москва',\n",
              " 'Санкт-Петербург',\n",
              " 'Москва',\n",
              " 'Пушкин',\n",
              " 'Зеленоград',\n",
              " 'городской округ Самара',\n",
              " 'Екатеринбург',\n",
              " 'Москва',\n",
              " 'Москва',\n",
              " 'городской округ Казань',\n",
              " 'Нижний Новгород',\n",
              " None,\n",
              " 'Москва',\n",
              " 'Ростов-на-Дону',\n",
              " 'городской округ Новосибирск',\n",
              " 'Москва',\n",
              " 'городской округ Казань',\n",
              " 'Колпино',\n",
              " 'Ростов-на-Дону',\n",
              " 'Москва',\n",
              " 'Казань',\n",
              " 'Москва',\n",
              " 'Санкт-Петербург',\n",
              " 'Москва',\n",
              " 'Екатеринбург',\n",
              " 'Москва',\n",
              " 'Москва',\n",
              " 'Москва',\n",
              " 'Санкт-Петербург',\n",
              " 'Москва',\n",
              " 'Казань',\n",
              " 'Нижний Новгород',\n",
              " 'городской округ Новосибирск',\n",
              " 'Москва',\n",
              " 'городской округ Казань',\n",
              " 'Москва',\n",
              " 'Москва',\n",
              " 'Москва',\n",
              " 'Санкт-Петербург',\n",
              " 'Москва',\n",
              " 'Москва',\n",
              " 'Санкт-Петербург',\n",
              " 'Красноярск',\n",
              " 'городской округ Самара',\n",
              " 'Новосибирск',\n",
              " 'Санкт-Петербург',\n",
              " 'Москва',\n",
              " 'городской округ Новосибирск',\n",
              " 'Москва',\n",
              " 'Ростов-на-Дону',\n",
              " 'Уфа',\n",
              " 'Москва',\n",
              " 'Москва',\n",
              " 'городской округ Казань',\n",
              " 'Ростов-на-Дону',\n",
              " 'городской округ Самара',\n",
              " None,\n",
              " 'Санкт-Петербург',\n",
              " 'Самара',\n",
              " 'Санкт-Петербург',\n",
              " 'городской округ Самара',\n",
              " 'Москва',\n",
              " 'Санкт-Петербург',\n",
              " 'Уфа',\n",
              " 'Санкт-Петербург',\n",
              " 'Санкт-Петербург',\n",
              " 'городской округ Новосибирск',\n",
              " 'Москва',\n",
              " 'Москва',\n",
              " 'Екатеринбург',\n",
              " 'Москва',\n",
              " 'Москва',\n",
              " 'Москва',\n",
              " 'Екатеринбург',\n",
              " 'Екатеринбург',\n",
              " 'городской округ Самара',\n",
              " 'Москва',\n",
              " 'Москва',\n",
              " 'Санкт-Петербург',\n",
              " 'Москва',\n",
              " 'Санкт-Петербург',\n",
              " 'Москва',\n",
              " 'Санкт-Петербург',\n",
              " 'Санкт-Петербург',\n",
              " 'Санкт-Петербург',\n",
              " 'Москва',\n",
              " 'Екатеринбург',\n",
              " 'городской округ Самара',\n",
              " 'Москва',\n",
              " 'Новосибирск',\n",
              " 'Санкт-Петербург',\n",
              " 'Москва',\n",
              " 'Москва',\n",
              " 'Москва',\n",
              " 'Москва',\n",
              " 'Москва']"
            ]
          },
          "metadata": {
            "tags": []
          },
          "execution_count": 132
        }
      ]
    },
    {
      "cell_type": "markdown",
      "metadata": {
        "id": "JUsx8WspGZAJ"
      },
      "source": [
        "** В некоторых ячейках написано \"городской округ ...\" и тд, которые подразумевают сам город. Присвоим им их города:"
      ]
    },
    {
      "cell_type": "code",
      "metadata": {
        "colab": {
          "base_uri": "https://localhost:8080/"
        },
        "id": "5HVf_ODmIsnC",
        "outputId": "7b8ef275-e110-4d6c-b155-7144842f3c7f"
      },
      "source": [
        "brak = []\n",
        "for i in range(len(cities)):\n",
        "  if cities[i] == None:\n",
        "    brak.append(i)\n",
        "  elif \"район\" in cities[i]:\n",
        "    brak.append(i)\n",
        "  elif 'поселение' in cities[i]:\n",
        "    brak.append(i)\n",
        "  elif 'округ' in cities[i]:\n",
        "    if (\"Самара\" in cities[i]):\n",
        "      cities[i] = \"Самара\"\n",
        "    if (\"Новосибирск\" in cities[i]):\n",
        "      cities[i] = \"Новосибирск\"\n",
        "    if (\"Казань\" in cities[i]):\n",
        "      cities[i] = \"Казань\"\n",
        "  elif 'область' in cities[i]:\n",
        "    brakObl.append(i)\n",
        "    print(i)\n",
        "brak"
      ],
      "execution_count": null,
      "outputs": [
        {
          "output_type": "execute_result",
          "data": {
            "text/plain": [
              "[49, 70, 78, 129, 232, 293, 320, 340, 385]"
            ]
          },
          "metadata": {
            "tags": []
          },
          "execution_count": 133
        }
      ]
    },
    {
      "cell_type": "code",
      "metadata": {
        "colab": {
          "base_uri": "https://localhost:8080/"
        },
        "id": "fH0JQOTAJ2km",
        "outputId": "76b3aeb5-f226-4dea-83f0-31287b8fc607"
      },
      "source": [
        "geolocator = Nominatim(user_agent=\"city\"+str(i))\n",
        "location = geolocator.reverse(str(lats[brak[3]]) +','+ str(lons[brak[3]]))\n",
        "location.raw"
      ],
      "execution_count": null,
      "outputs": [
        {
          "output_type": "execute_result",
          "data": {
            "text/plain": [
              "{'address': {'country': 'Россия',\n",
              "  'country_code': 'ru',\n",
              "  'highway': 'Торговый центр',\n",
              "  'neighbourhood': 'микрорайон В',\n",
              "  'postcode': '142191',\n",
              "  'region': 'Центральный федеральный округ',\n",
              "  'road': 'Академическая площадь',\n",
              "  'state': 'Москва',\n",
              "  'town': 'городской округ Троицк'},\n",
              " 'boundingbox': ['55.4852899', '55.4853899', '37.3056093', '37.3057093'],\n",
              " 'display_name': 'Торговый центр, Академическая площадь, микрорайон В, городской округ Троицк, Москва, Центральный федеральный округ, 142191, Россия',\n",
              " 'lat': '55.4853399',\n",
              " 'licence': 'Data © OpenStreetMap contributors, ODbL 1.0. https://osm.org/copyright',\n",
              " 'lon': '37.3056593',\n",
              " 'osm_id': 2484610894,\n",
              " 'osm_type': 'node',\n",
              " 'place_id': 24142261}"
            ]
          },
          "metadata": {
            "tags": []
          },
          "execution_count": 134
        }
      ]
    },
    {
      "cell_type": "markdown",
      "metadata": {
        "id": "HLf0bUwJfvp1"
      },
      "source": [
        "## Как мы можем заметить, значение \"city\" не было задано поэтому нужно записывать через \"state\""
      ]
    },
    {
      "cell_type": "code",
      "metadata": {
        "colab": {
          "base_uri": "https://localhost:8080/",
          "height": 67,
          "referenced_widgets": [
            "c34feef37d54450aadb772238edfe100",
            "7eeb33deae484b61afa01150d8d78bd0",
            "8ca2f49cf18244cb88afe4e25ec4647f",
            "db38ce6960d6418fbadcbf6f7484b516",
            "f7df9535726c4edab741de3b20f9fd72",
            "1fd44390dcd94d8fbc55d6259d385d00",
            "4ce6f321680b450786db0aa1e06e362b",
            "f7ead790315340fcac92490b529eb838"
          ]
        },
        "id": "ELvuiEjugMl0",
        "outputId": "e898f0b7-a435-4d40-cd7f-1137b5cb36c1"
      },
      "source": [
        "for i in (tqdm.tqdm_notebook(brak)):\n",
        "  geolocator = Nominatim(user_agent=\"city\"+str(i),timeout=None)\n",
        "  location = geolocator.reverse(str(lats[i]) +','+ str(lons[i]))\n",
        "  cities[i] = location.raw.get(\"address\").get('state')"
      ],
      "execution_count": null,
      "outputs": [
        {
          "output_type": "display_data",
          "data": {
            "application/vnd.jupyter.widget-view+json": {
              "model_id": "c34feef37d54450aadb772238edfe100",
              "version_minor": 0,
              "version_major": 2
            },
            "text/plain": [
              "HBox(children=(FloatProgress(value=0.0, max=9.0), HTML(value='')))"
            ]
          },
          "metadata": {
            "tags": []
          }
        },
        {
          "output_type": "stream",
          "text": [
            "\n"
          ],
          "name": "stdout"
        }
      ]
    },
    {
      "cell_type": "code",
      "metadata": {
        "colab": {
          "base_uri": "https://localhost:8080/"
        },
        "id": "B7NlcyFcgZTH",
        "outputId": "82f8398c-9ef1-4cdf-bae7-d4d17ec0c851"
      },
      "source": [
        "cities"
      ],
      "execution_count": null,
      "outputs": [
        {
          "output_type": "execute_result",
          "data": {
            "text/plain": [
              "['Москва',\n",
              " 'Москва',\n",
              " 'Ростов-на-Дону',\n",
              " 'Москва',\n",
              " 'Москва',\n",
              " 'Красноярск',\n",
              " 'Санкт-Петербург',\n",
              " 'Москва',\n",
              " 'Красноярск',\n",
              " 'Ростов-на-Дону',\n",
              " 'Ростов-на-Дону',\n",
              " 'Москва',\n",
              " 'Уфа',\n",
              " 'Казань',\n",
              " 'Москва',\n",
              " 'Москва',\n",
              " 'Екатеринбург',\n",
              " 'Нижний Новгород',\n",
              " 'Красноярск',\n",
              " 'Москва',\n",
              " 'Колпино',\n",
              " 'Москва',\n",
              " 'Санкт-Петербург',\n",
              " 'Новосибирск',\n",
              " 'Красноярск',\n",
              " 'Ростов-на-Дону',\n",
              " 'Новосибирск',\n",
              " 'Москва',\n",
              " 'Москва',\n",
              " 'Москва',\n",
              " 'Москва',\n",
              " 'Москва',\n",
              " 'Москва',\n",
              " 'Москва',\n",
              " 'Москва',\n",
              " 'Москва',\n",
              " 'Москва',\n",
              " 'Москва',\n",
              " 'Москва',\n",
              " 'Москва',\n",
              " 'Нижний Новгород',\n",
              " 'Москва',\n",
              " 'Санкт-Петербург',\n",
              " 'Санкт-Петербург',\n",
              " 'Самара',\n",
              " 'Ростов-на-Дону',\n",
              " 'Нижний Новгород',\n",
              " 'Екатеринбург',\n",
              " 'Москва',\n",
              " 'Санкт-Петербург',\n",
              " 'Новосибирск',\n",
              " 'Москва',\n",
              " 'Москва',\n",
              " 'Санкт-Петербург',\n",
              " 'Москва',\n",
              " 'Москва',\n",
              " 'Москва',\n",
              " 'Санкт-Петербург',\n",
              " 'Уфа',\n",
              " 'Казань',\n",
              " 'Москва',\n",
              " 'Екатеринбург',\n",
              " 'Самара',\n",
              " 'Уфа',\n",
              " 'Санкт-Петербург',\n",
              " 'Казань',\n",
              " 'Казань',\n",
              " 'Самара',\n",
              " 'Красноярск',\n",
              " 'Казань',\n",
              " 'Санкт-Петербург',\n",
              " 'Санкт-Петербург',\n",
              " 'Москва',\n",
              " 'Москва',\n",
              " 'Москва',\n",
              " 'Санкт-Петербург',\n",
              " 'Москва',\n",
              " 'Москва',\n",
              " 'Санкт-Петербург',\n",
              " 'Москва',\n",
              " 'Екатеринбург',\n",
              " 'Самара',\n",
              " 'Красноярск',\n",
              " 'Екатеринбург',\n",
              " 'Санкт-Петербург',\n",
              " 'Екатеринбург',\n",
              " 'Москва',\n",
              " 'Москва',\n",
              " 'Казань',\n",
              " 'Москва',\n",
              " 'Казань',\n",
              " 'Москва',\n",
              " 'Казань',\n",
              " 'Ростов-на-Дону',\n",
              " 'Уфа',\n",
              " 'Москва',\n",
              " 'Санкт-Петербург',\n",
              " 'Москва',\n",
              " 'Санкт-Петербург',\n",
              " 'Москва',\n",
              " 'Новосибирск',\n",
              " 'Санкт-Петербург',\n",
              " 'Москва',\n",
              " 'Самара',\n",
              " 'Санкт-Петербург',\n",
              " 'Нижний Новгород',\n",
              " 'Москва',\n",
              " 'Красноярск',\n",
              " 'Москва',\n",
              " 'Санкт-Петербург',\n",
              " 'Москва',\n",
              " 'Москва',\n",
              " 'Ростов-на-Дону',\n",
              " 'Санкт-Петербург',\n",
              " 'Казань',\n",
              " 'Уфа',\n",
              " 'Санкт-Петербург',\n",
              " 'Москва',\n",
              " 'Самара',\n",
              " 'Москва',\n",
              " 'Санкт-Петербург',\n",
              " 'Казань',\n",
              " 'Новосибирск',\n",
              " 'Екатеринбург',\n",
              " 'Санкт-Петербург',\n",
              " 'Москва',\n",
              " 'Санкт-Петербург',\n",
              " 'Москва',\n",
              " 'Москва',\n",
              " 'Москва',\n",
              " 'Ростов-на-Дону',\n",
              " 'Санкт-Петербург',\n",
              " 'Нижний Новгород',\n",
              " 'Москва',\n",
              " 'Самара',\n",
              " 'Ростов-на-Дону',\n",
              " 'Новосибирск',\n",
              " 'Казань',\n",
              " 'Новосибирск',\n",
              " 'Самара',\n",
              " 'Москва',\n",
              " 'Новосибирск',\n",
              " 'Москва',\n",
              " 'Санкт-Петербург',\n",
              " 'Ростов-на-Дону',\n",
              " 'Санкт-Петербург',\n",
              " 'Санкт-Петербург',\n",
              " 'Новосибирск',\n",
              " 'Казань',\n",
              " 'Москва',\n",
              " 'Казань',\n",
              " 'Новосибирск',\n",
              " 'Санкт-Петербург',\n",
              " 'Москва',\n",
              " 'Красноярск',\n",
              " 'Уфа',\n",
              " 'Нижний Новгород',\n",
              " 'Москва',\n",
              " 'Самара',\n",
              " 'Красноярск',\n",
              " 'Москва',\n",
              " 'Санкт-Петербург',\n",
              " 'Нижний Новгород',\n",
              " 'Санкт-Петербург',\n",
              " 'Санкт-Петербург',\n",
              " 'Красноярск',\n",
              " 'Новосибирск',\n",
              " 'Санкт-Петербург',\n",
              " 'Москва',\n",
              " 'Самара',\n",
              " 'Красноярск',\n",
              " 'Москва',\n",
              " 'Нижний Новгород',\n",
              " 'Екатеринбург',\n",
              " 'Екатеринбург',\n",
              " 'Казань',\n",
              " 'Санкт-Петербург',\n",
              " 'Нижний Новгород',\n",
              " 'Самара',\n",
              " 'Уфа',\n",
              " 'Москва',\n",
              " 'Москва',\n",
              " 'Санкт-Петербург',\n",
              " 'Колпино',\n",
              " 'Красноярск',\n",
              " 'Казань',\n",
              " 'Москва',\n",
              " 'Москва',\n",
              " 'Екатеринбург',\n",
              " 'Нижний Новгород',\n",
              " 'Ростов-на-Дону',\n",
              " 'Москва',\n",
              " 'Новосибирск',\n",
              " 'Новосибирск',\n",
              " 'Санкт-Петербург',\n",
              " 'Красноярск',\n",
              " 'Казань',\n",
              " 'Самара',\n",
              " 'Зеленоград',\n",
              " 'Екатеринбург',\n",
              " 'Санкт-Петербург',\n",
              " 'Уфа',\n",
              " 'Санкт-Петербург',\n",
              " 'Уфа',\n",
              " 'Самара',\n",
              " 'Москва',\n",
              " 'Новосибирск',\n",
              " 'Санкт-Петербург',\n",
              " 'Колпино',\n",
              " 'Москва',\n",
              " 'Ростов-на-Дону',\n",
              " 'Москва',\n",
              " 'Самара',\n",
              " 'Москва',\n",
              " 'Самара',\n",
              " 'Москва',\n",
              " 'Москва',\n",
              " 'Казань',\n",
              " 'Уфа',\n",
              " 'Уфа',\n",
              " 'Красноярск',\n",
              " 'Москва',\n",
              " 'Москва',\n",
              " 'Екатеринбург',\n",
              " 'Москва',\n",
              " 'Москва',\n",
              " 'Москва',\n",
              " 'Москва',\n",
              " 'Москва',\n",
              " 'Санкт-Петербург',\n",
              " 'Санкт-Петербург',\n",
              " 'Ростов-на-Дону',\n",
              " 'Москва',\n",
              " 'Уфа',\n",
              " 'Москва',\n",
              " 'Екатеринбург',\n",
              " 'Москва',\n",
              " 'Москва',\n",
              " 'Москва',\n",
              " 'Санкт-Петербург',\n",
              " 'Москва',\n",
              " 'Москва',\n",
              " 'Москва',\n",
              " 'Самара',\n",
              " 'Красноярск',\n",
              " 'Уфа',\n",
              " 'Ростов-на-Дону',\n",
              " 'Москва',\n",
              " 'Нижний Новгород',\n",
              " 'Санкт-Петербург',\n",
              " 'Нижний Новгород',\n",
              " 'Екатеринбург',\n",
              " 'Уфа',\n",
              " 'Нижний Новгород',\n",
              " 'Казань',\n",
              " 'Уфа',\n",
              " 'Москва',\n",
              " 'Нижний Новгород',\n",
              " 'Санкт-Петербург',\n",
              " 'Уфа',\n",
              " 'Красноярск',\n",
              " 'Новосибирск',\n",
              " 'Санкт-Петербург',\n",
              " 'Москва',\n",
              " 'Красноярск',\n",
              " 'Москва',\n",
              " 'Москва',\n",
              " 'Москва',\n",
              " 'Москва',\n",
              " 'Нижний Новгород',\n",
              " 'Санкт-Петербург',\n",
              " 'Москва',\n",
              " 'Новосибирск',\n",
              " 'Новосибирск',\n",
              " 'Нижний Новгород',\n",
              " 'Санкт-Петербург',\n",
              " 'Санкт-Петербург',\n",
              " 'Москва',\n",
              " 'Нижний Новгород',\n",
              " 'Санкт-Петербург',\n",
              " 'Санкт-Петербург',\n",
              " 'Красноярск',\n",
              " 'Самара',\n",
              " 'Ростов-на-Дону',\n",
              " 'Санкт-Петербург',\n",
              " 'Москва',\n",
              " 'Самара',\n",
              " 'Москва',\n",
              " 'Нижний Новгород',\n",
              " 'Ростов-на-Дону',\n",
              " 'Москва',\n",
              " 'Нижний Новгород',\n",
              " 'Зеленоград',\n",
              " 'Москва',\n",
              " 'Москва',\n",
              " 'Казань',\n",
              " 'Москва',\n",
              " 'Новосибирск',\n",
              " 'Санкт-Петербург',\n",
              " 'Москва',\n",
              " 'Самара',\n",
              " 'Москва',\n",
              " 'Ростов-на-Дону',\n",
              " 'Екатеринбург',\n",
              " 'Санкт-Петербург',\n",
              " 'Санкт-Петербург',\n",
              " 'Санкт-Петербург',\n",
              " 'Санкт-Петербург',\n",
              " 'Уфа',\n",
              " 'Москва',\n",
              " 'Москва',\n",
              " 'Москва',\n",
              " 'Москва',\n",
              " 'Балашиха',\n",
              " 'Москва',\n",
              " 'Екатеринбург',\n",
              " 'Самара',\n",
              " 'Москва',\n",
              " 'Москва',\n",
              " 'Москва',\n",
              " 'Москва',\n",
              " 'Санкт-Петербург',\n",
              " 'Красноярск',\n",
              " 'Санкт-Петербург',\n",
              " 'Санкт-Петербург',\n",
              " 'Новосибирск',\n",
              " 'Санкт-Петербург',\n",
              " 'Москва',\n",
              " 'Новосибирск',\n",
              " 'Москва',\n",
              " 'Санкт-Петербург',\n",
              " 'Москва',\n",
              " 'Пушкин',\n",
              " 'Зеленоград',\n",
              " 'Самара',\n",
              " 'Екатеринбург',\n",
              " 'Москва',\n",
              " 'Москва',\n",
              " 'Казань',\n",
              " 'Нижний Новгород',\n",
              " 'Санкт-Петербург',\n",
              " 'Москва',\n",
              " 'Ростов-на-Дону',\n",
              " 'Новосибирск',\n",
              " 'Москва',\n",
              " 'Казань',\n",
              " 'Колпино',\n",
              " 'Ростов-на-Дону',\n",
              " 'Москва',\n",
              " 'Казань',\n",
              " 'Москва',\n",
              " 'Санкт-Петербург',\n",
              " 'Москва',\n",
              " 'Екатеринбург',\n",
              " 'Москва',\n",
              " 'Москва',\n",
              " 'Москва',\n",
              " 'Санкт-Петербург',\n",
              " 'Москва',\n",
              " 'Казань',\n",
              " 'Нижний Новгород',\n",
              " 'Новосибирск',\n",
              " 'Москва',\n",
              " 'Казань',\n",
              " 'Москва',\n",
              " 'Москва',\n",
              " 'Москва',\n",
              " 'Санкт-Петербург',\n",
              " 'Москва',\n",
              " 'Москва',\n",
              " 'Санкт-Петербург',\n",
              " 'Красноярск',\n",
              " 'Самара',\n",
              " 'Новосибирск',\n",
              " 'Санкт-Петербург',\n",
              " 'Москва',\n",
              " 'Новосибирск',\n",
              " 'Москва',\n",
              " 'Ростов-на-Дону',\n",
              " 'Уфа',\n",
              " 'Москва',\n",
              " 'Москва',\n",
              " 'Казань',\n",
              " 'Ростов-на-Дону',\n",
              " 'Самара',\n",
              " 'Санкт-Петербург',\n",
              " 'Санкт-Петербург',\n",
              " 'Самара',\n",
              " 'Санкт-Петербург',\n",
              " 'Самара',\n",
              " 'Москва',\n",
              " 'Санкт-Петербург',\n",
              " 'Уфа',\n",
              " 'Санкт-Петербург',\n",
              " 'Санкт-Петербург',\n",
              " 'Новосибирск',\n",
              " 'Москва',\n",
              " 'Москва',\n",
              " 'Екатеринбург',\n",
              " 'Москва',\n",
              " 'Москва',\n",
              " 'Москва',\n",
              " 'Екатеринбург',\n",
              " 'Екатеринбург',\n",
              " 'Самара',\n",
              " 'Москва',\n",
              " 'Москва',\n",
              " 'Санкт-Петербург',\n",
              " 'Москва',\n",
              " 'Санкт-Петербург',\n",
              " 'Москва',\n",
              " 'Санкт-Петербург',\n",
              " 'Санкт-Петербург',\n",
              " 'Санкт-Петербург',\n",
              " 'Москва',\n",
              " 'Екатеринбург',\n",
              " 'Самара',\n",
              " 'Москва',\n",
              " 'Новосибирск',\n",
              " 'Санкт-Петербург',\n",
              " 'Москва',\n",
              " 'Москва',\n",
              " 'Москва',\n",
              " 'Москва',\n",
              " 'Москва']"
            ]
          },
          "metadata": {
            "tags": []
          },
          "execution_count": 137
        }
      ]
    },
    {
      "cell_type": "markdown",
      "metadata": {
        "id": "9BhU5N4fh14_"
      },
      "source": [
        "## Вот теперь все замечательно) добавляем эти данные в датафрейм и сделаем аналогичное для тестовых данных"
      ]
    },
    {
      "cell_type": "code",
      "metadata": {
        "colab": {
          "base_uri": "https://localhost:8080/",
          "height": 399
        },
        "id": "F3G6itTfjWK5",
        "outputId": "0912996e-8b9b-4444-fb2b-e4cf063b78e0"
      },
      "source": [
        "train['cities'] = cities\n",
        "train"
      ],
      "execution_count": null,
      "outputs": [
        {
          "output_type": "execute_result",
          "data": {
            "text/html": [
              "<div>\n",
              "<style scoped>\n",
              "    .dataframe tbody tr th:only-of-type {\n",
              "        vertical-align: middle;\n",
              "    }\n",
              "\n",
              "    .dataframe tbody tr th {\n",
              "        vertical-align: top;\n",
              "    }\n",
              "\n",
              "    .dataframe thead th {\n",
              "        text-align: right;\n",
              "    }\n",
              "</style>\n",
              "<table border=\"1\" class=\"dataframe\">\n",
              "  <thead>\n",
              "    <tr style=\"text-align: right;\">\n",
              "      <th></th>\n",
              "      <th>point_id</th>\n",
              "      <th>lon</th>\n",
              "      <th>lat</th>\n",
              "      <th>target</th>\n",
              "      <th>cities</th>\n",
              "    </tr>\n",
              "  </thead>\n",
              "  <tbody>\n",
              "    <tr>\n",
              "      <th>0</th>\n",
              "      <td>ommNZCUV</td>\n",
              "      <td>37.590776</td>\n",
              "      <td>55.848630</td>\n",
              "      <td>-0.348157</td>\n",
              "      <td>Москва</td>\n",
              "    </tr>\n",
              "    <tr>\n",
              "      <th>1</th>\n",
              "      <td>nMe2LHPb</td>\n",
              "      <td>37.784210</td>\n",
              "      <td>55.750271</td>\n",
              "      <td>1.294206</td>\n",
              "      <td>Москва</td>\n",
              "    </tr>\n",
              "    <tr>\n",
              "      <th>2</th>\n",
              "      <td>ZgodVRqB</td>\n",
              "      <td>39.635721</td>\n",
              "      <td>47.213330</td>\n",
              "      <td>-1.039679</td>\n",
              "      <td>Ростов-на-Дону</td>\n",
              "    </tr>\n",
              "    <tr>\n",
              "      <th>3</th>\n",
              "      <td>0t2jNYdz</td>\n",
              "      <td>37.704570</td>\n",
              "      <td>55.782020</td>\n",
              "      <td>-1.169339</td>\n",
              "      <td>Москва</td>\n",
              "    </tr>\n",
              "    <tr>\n",
              "      <th>4</th>\n",
              "      <td>U27W4QJ7</td>\n",
              "      <td>37.643983</td>\n",
              "      <td>55.730188</td>\n",
              "      <td>-0.088837</td>\n",
              "      <td>Москва</td>\n",
              "    </tr>\n",
              "    <tr>\n",
              "      <th>...</th>\n",
              "      <td>...</td>\n",
              "      <td>...</td>\n",
              "      <td>...</td>\n",
              "      <td>...</td>\n",
              "      <td>...</td>\n",
              "    </tr>\n",
              "    <tr>\n",
              "      <th>420</th>\n",
              "      <td>AA8hN7bJ</td>\n",
              "      <td>37.628765</td>\n",
              "      <td>55.740664</td>\n",
              "      <td>0.213704</td>\n",
              "      <td>Москва</td>\n",
              "    </tr>\n",
              "    <tr>\n",
              "      <th>421</th>\n",
              "      <td>uNw6t6xk</td>\n",
              "      <td>37.586825</td>\n",
              "      <td>55.794233</td>\n",
              "      <td>-0.002397</td>\n",
              "      <td>Москва</td>\n",
              "    </tr>\n",
              "    <tr>\n",
              "      <th>422</th>\n",
              "      <td>Ap42ei8k</td>\n",
              "      <td>37.678790</td>\n",
              "      <td>55.772910</td>\n",
              "      <td>-0.910019</td>\n",
              "      <td>Москва</td>\n",
              "    </tr>\n",
              "    <tr>\n",
              "      <th>423</th>\n",
              "      <td>rn9A8r62</td>\n",
              "      <td>37.752130</td>\n",
              "      <td>55.619640</td>\n",
              "      <td>-0.326547</td>\n",
              "      <td>Москва</td>\n",
              "    </tr>\n",
              "    <tr>\n",
              "      <th>424</th>\n",
              "      <td>960M6jye</td>\n",
              "      <td>37.705770</td>\n",
              "      <td>55.782950</td>\n",
              "      <td>-1.234169</td>\n",
              "      <td>Москва</td>\n",
              "    </tr>\n",
              "  </tbody>\n",
              "</table>\n",
              "<p>425 rows × 5 columns</p>\n",
              "</div>"
            ],
            "text/plain": [
              "     point_id        lon        lat    target          cities\n",
              "0    ommNZCUV  37.590776  55.848630 -0.348157          Москва\n",
              "1    nMe2LHPb  37.784210  55.750271  1.294206          Москва\n",
              "2    ZgodVRqB  39.635721  47.213330 -1.039679  Ростов-на-Дону\n",
              "3    0t2jNYdz  37.704570  55.782020 -1.169339          Москва\n",
              "4    U27W4QJ7  37.643983  55.730188 -0.088837          Москва\n",
              "..        ...        ...        ...       ...             ...\n",
              "420  AA8hN7bJ  37.628765  55.740664  0.213704          Москва\n",
              "421  uNw6t6xk  37.586825  55.794233 -0.002397          Москва\n",
              "422  Ap42ei8k  37.678790  55.772910 -0.910019          Москва\n",
              "423  rn9A8r62  37.752130  55.619640 -0.326547          Москва\n",
              "424  960M6jye  37.705770  55.782950 -1.234169          Москва\n",
              "\n",
              "[425 rows x 5 columns]"
            ]
          },
          "metadata": {
            "tags": []
          },
          "execution_count": 138
        }
      ]
    },
    {
      "cell_type": "code",
      "metadata": {
        "id": "BpIrDaHIh1I_"
      },
      "source": [
        "latsT = test.lat\n",
        "lonsT = test.lon"
      ],
      "execution_count": null,
      "outputs": []
    },
    {
      "cell_type": "code",
      "metadata": {
        "colab": {
          "base_uri": "https://localhost:8080/",
          "height": 67,
          "referenced_widgets": [
            "ee4a52c9b56a457cb20485c88a69c263",
            "80ce132370de4566b77a55cd086d5313",
            "5097b62caec149809678d4a1f2fb1122",
            "182aa34ec5964fda9f79a282fb39f977",
            "9681c4642797488f81c75106aa0ac96c",
            "f9c8846065014d50a04f0f630843ae8a",
            "d9bbb8cb43334be38055b32b9de6588e",
            "0b45f07800214a9fb845cb99232d1c24"
          ]
        },
        "id": "PKSGVBoPh1Gt",
        "outputId": "c9afd626-e693-435e-c0b6-2c750a387853"
      },
      "source": [
        "citiesT = []\n",
        "for i in (tqdm.tqdm_notebook(range(lonsT.shape[0]))):\n",
        "  geolocator = Nominatim(user_agent=\"city\"+str(i))\n",
        "  location = geolocator.reverse(str(latsT[i]) +','+ str(lonsT[i]))\n",
        "  citiesT.append(location.raw.get(\"address\").get('city'))"
      ],
      "execution_count": null,
      "outputs": [
        {
          "output_type": "display_data",
          "data": {
            "application/vnd.jupyter.widget-view+json": {
              "model_id": "ee4a52c9b56a457cb20485c88a69c263",
              "version_minor": 0,
              "version_major": 2
            },
            "text/plain": [
              "HBox(children=(FloatProgress(value=0.0, max=107.0), HTML(value='')))"
            ]
          },
          "metadata": {
            "tags": []
          }
        },
        {
          "output_type": "stream",
          "text": [
            "\n"
          ],
          "name": "stdout"
        }
      ]
    },
    {
      "cell_type": "code",
      "metadata": {
        "id": "9UbltjdCh1DQ",
        "colab": {
          "base_uri": "https://localhost:8080/"
        },
        "outputId": "cbd89bb8-9419-4194-fbbb-f2211268869d"
      },
      "source": [
        "brakT = []\n",
        "for i in range(len(citiesT)):\n",
        "  if citiesT[i] == None:\n",
        "    brakT.append(i)\n",
        "  elif \"район\" in citiesT[i]:\n",
        "    brakT.append(i)\n",
        "  elif 'поселение' in citiesT[i]:\n",
        "    brakT.append(i)\n",
        "  elif 'округ' in citiesT[i]:\n",
        "    if (\"Самара\" in citiesT[i]):\n",
        "      citiesT[i] = \"Самара\"\n",
        "    if (\"Новосибирск\" in citiesT[i]):\n",
        "      citiesT[i] = \"Новосибирск\"\n",
        "    if (\"Казань\" in citiesT[i]):\n",
        "      citiesT[i] = \"Казань\"\n",
        "  elif 'область' in citiesT[i]:\n",
        "    print(i)\n",
        "brakT"
      ],
      "execution_count": null,
      "outputs": [
        {
          "output_type": "execute_result",
          "data": {
            "text/plain": [
              "[98]"
            ]
          },
          "metadata": {
            "tags": []
          },
          "execution_count": 141
        }
      ]
    },
    {
      "cell_type": "code",
      "metadata": {
        "colab": {
          "base_uri": "https://localhost:8080/",
          "height": 67,
          "referenced_widgets": [
            "eb429b6b179a4c6eb4a1bba85da1cf19",
            "536fe16a15a74528a9c9c74d3592ca5f",
            "63b9302da49b4d46a461d615e4644300",
            "0ffbfddbcff246de8573f02658ec28bc",
            "fa6562e7a9004f7a8fae23e78c8590aa",
            "70f42ee0fc56489eb77784c6241366d6",
            "cc1b5ee9d2f64e8883e3234a4c34dd54",
            "90369e3751c94123a32e8975eae301c6"
          ]
        },
        "id": "E8URCEafh1As",
        "outputId": "c626f05c-7212-4dbf-af36-111b739d1c42"
      },
      "source": [
        "for i in (tqdm.tqdm_notebook(brakT)):\n",
        "  geolocator = Nominatim(user_agent=\"city\"+str(i))\n",
        "  location = geolocator.reverse(str(latsT[i]) +','+ str(lonsT[i]))\n",
        "  citiesT[i] = location.raw.get(\"address\").get('state')"
      ],
      "execution_count": null,
      "outputs": [
        {
          "output_type": "display_data",
          "data": {
            "application/vnd.jupyter.widget-view+json": {
              "model_id": "eb429b6b179a4c6eb4a1bba85da1cf19",
              "version_minor": 0,
              "version_major": 2
            },
            "text/plain": [
              "HBox(children=(FloatProgress(value=0.0, max=1.0), HTML(value='')))"
            ]
          },
          "metadata": {
            "tags": []
          }
        },
        {
          "output_type": "stream",
          "text": [
            "\n"
          ],
          "name": "stdout"
        }
      ]
    },
    {
      "cell_type": "code",
      "metadata": {
        "colab": {
          "base_uri": "https://localhost:8080/"
        },
        "id": "xEpp5pi-h0-T",
        "outputId": "84b4a257-8d28-428b-c263-ce72cf69b2a0"
      },
      "source": [
        "citiesT"
      ],
      "execution_count": null,
      "outputs": [
        {
          "output_type": "execute_result",
          "data": {
            "text/plain": [
              "['Москва',\n",
              " 'Екатеринбург',\n",
              " 'Москва',\n",
              " 'Москва',\n",
              " 'Казань',\n",
              " 'Москва',\n",
              " 'Казань',\n",
              " 'Москва',\n",
              " 'Санкт-Петербург',\n",
              " 'Санкт-Петербург',\n",
              " 'Казань',\n",
              " 'Екатеринбург',\n",
              " 'Москва',\n",
              " 'Москва',\n",
              " 'Самара',\n",
              " 'Санкт-Петербург',\n",
              " 'Москва',\n",
              " 'Москва',\n",
              " 'Новосибирск',\n",
              " 'Москва',\n",
              " 'Москва',\n",
              " 'Нижний Новгород',\n",
              " 'Москва',\n",
              " 'Новосибирск',\n",
              " 'Москва',\n",
              " 'Самара',\n",
              " 'Нижний Новгород',\n",
              " 'Москва',\n",
              " 'Ростов-на-Дону',\n",
              " 'Нижний Новгород',\n",
              " 'Санкт-Петербург',\n",
              " 'Москва',\n",
              " 'Санкт-Петербург',\n",
              " 'Самара',\n",
              " 'Новосибирск',\n",
              " 'Ростов-на-Дону',\n",
              " 'Москва',\n",
              " 'Уфа',\n",
              " 'Казань',\n",
              " 'Красноярск',\n",
              " 'Екатеринбург',\n",
              " 'Уфа',\n",
              " 'Москва',\n",
              " 'Москва',\n",
              " 'Ростов-на-Дону',\n",
              " 'Уфа',\n",
              " 'Екатеринбург',\n",
              " 'Москва',\n",
              " 'Москва',\n",
              " 'Санкт-Петербург',\n",
              " 'Екатеринбург',\n",
              " 'Санкт-Петербург',\n",
              " 'Санкт-Петербург',\n",
              " 'Самара',\n",
              " 'Уфа',\n",
              " 'Нижний Новгород',\n",
              " 'Москва',\n",
              " 'Санкт-Петербург',\n",
              " 'Москва',\n",
              " 'Самара',\n",
              " 'Новосибирск',\n",
              " 'Ростов-на-Дону',\n",
              " 'Москва',\n",
              " 'Москва',\n",
              " 'Санкт-Петербург',\n",
              " 'Москва',\n",
              " 'Москва',\n",
              " 'Новосибирск',\n",
              " 'Казань',\n",
              " 'Новосибирск',\n",
              " 'Казань',\n",
              " 'Москва',\n",
              " 'Красноярск',\n",
              " 'Москва',\n",
              " 'Москва',\n",
              " 'Казань',\n",
              " 'Ростов-на-Дону',\n",
              " 'Москва',\n",
              " 'Самара',\n",
              " 'Нижний Новгород',\n",
              " 'Москва',\n",
              " 'Санкт-Петербург',\n",
              " 'Москва',\n",
              " 'Санкт-Петербург',\n",
              " 'Санкт-Петербург',\n",
              " 'Санкт-Петербург',\n",
              " 'Москва',\n",
              " 'Москва',\n",
              " 'Москва',\n",
              " 'Зеленоград',\n",
              " 'Санкт-Петербург',\n",
              " 'Новосибирск',\n",
              " 'Самара',\n",
              " 'Москва',\n",
              " 'Москва',\n",
              " 'Красноярск',\n",
              " 'Санкт-Петербург',\n",
              " 'Санкт-Петербург',\n",
              " 'Санкт-Петербург',\n",
              " 'Уфа',\n",
              " 'Москва',\n",
              " 'Москва',\n",
              " 'Санкт-Петербург',\n",
              " 'Красноярск',\n",
              " 'Красноярск',\n",
              " 'Санкт-Петербург',\n",
              " 'Санкт-Петербург']"
            ]
          },
          "metadata": {
            "tags": []
          },
          "execution_count": 143
        }
      ]
    },
    {
      "cell_type": "markdown",
      "metadata": {
        "id": "nsg-UAInka_K"
      },
      "source": [
        "## Все замечательно, добавляем в датафрейм теста)"
      ]
    },
    {
      "cell_type": "code",
      "metadata": {
        "colab": {
          "base_uri": "https://localhost:8080/",
          "height": 399
        },
        "id": "HVhxhxYokgp6",
        "outputId": "21b21ddb-ac31-4f30-ce55-a8aa6f59ec87"
      },
      "source": [
        "test['cities'] = citiesT\n",
        "test"
      ],
      "execution_count": null,
      "outputs": [
        {
          "output_type": "execute_result",
          "data": {
            "text/html": [
              "<div>\n",
              "<style scoped>\n",
              "    .dataframe tbody tr th:only-of-type {\n",
              "        vertical-align: middle;\n",
              "    }\n",
              "\n",
              "    .dataframe tbody tr th {\n",
              "        vertical-align: top;\n",
              "    }\n",
              "\n",
              "    .dataframe thead th {\n",
              "        text-align: right;\n",
              "    }\n",
              "</style>\n",
              "<table border=\"1\" class=\"dataframe\">\n",
              "  <thead>\n",
              "    <tr style=\"text-align: right;\">\n",
              "      <th></th>\n",
              "      <th>point_id</th>\n",
              "      <th>lon</th>\n",
              "      <th>lat</th>\n",
              "      <th>target</th>\n",
              "      <th>cities</th>\n",
              "    </tr>\n",
              "  </thead>\n",
              "  <tbody>\n",
              "    <tr>\n",
              "      <th>0</th>\n",
              "      <td>F4lXR1cG</td>\n",
              "      <td>37.681242</td>\n",
              "      <td>55.748040</td>\n",
              "      <td>0.0091</td>\n",
              "      <td>Москва</td>\n",
              "    </tr>\n",
              "    <tr>\n",
              "      <th>1</th>\n",
              "      <td>4LJu4GTf</td>\n",
              "      <td>60.580910</td>\n",
              "      <td>56.795860</td>\n",
              "      <td>0.0091</td>\n",
              "      <td>Екатеринбург</td>\n",
              "    </tr>\n",
              "    <tr>\n",
              "      <th>2</th>\n",
              "      <td>kLuAAN3s</td>\n",
              "      <td>37.598614</td>\n",
              "      <td>55.781357</td>\n",
              "      <td>0.0091</td>\n",
              "      <td>Москва</td>\n",
              "    </tr>\n",
              "    <tr>\n",
              "      <th>3</th>\n",
              "      <td>OxQHvaNu</td>\n",
              "      <td>37.794051</td>\n",
              "      <td>55.717468</td>\n",
              "      <td>0.0091</td>\n",
              "      <td>Москва</td>\n",
              "    </tr>\n",
              "    <tr>\n",
              "      <th>4</th>\n",
              "      <td>paQsTa1K</td>\n",
              "      <td>49.213026</td>\n",
              "      <td>55.748290</td>\n",
              "      <td>0.0091</td>\n",
              "      <td>Казань</td>\n",
              "    </tr>\n",
              "    <tr>\n",
              "      <th>...</th>\n",
              "      <td>...</td>\n",
              "      <td>...</td>\n",
              "      <td>...</td>\n",
              "      <td>...</td>\n",
              "      <td>...</td>\n",
              "    </tr>\n",
              "    <tr>\n",
              "      <th>102</th>\n",
              "      <td>y8oQuX5v</td>\n",
              "      <td>30.353777</td>\n",
              "      <td>60.049792</td>\n",
              "      <td>0.0091</td>\n",
              "      <td>Санкт-Петербург</td>\n",
              "    </tr>\n",
              "    <tr>\n",
              "      <th>103</th>\n",
              "      <td>4nmfqUw0</td>\n",
              "      <td>92.928927</td>\n",
              "      <td>56.116262</td>\n",
              "      <td>0.0091</td>\n",
              "      <td>Красноярск</td>\n",
              "    </tr>\n",
              "    <tr>\n",
              "      <th>104</th>\n",
              "      <td>N9O45mAh</td>\n",
              "      <td>93.015993</td>\n",
              "      <td>56.023697</td>\n",
              "      <td>0.0091</td>\n",
              "      <td>Красноярск</td>\n",
              "    </tr>\n",
              "    <tr>\n",
              "      <th>105</th>\n",
              "      <td>h2InCLKa</td>\n",
              "      <td>30.381172</td>\n",
              "      <td>59.871149</td>\n",
              "      <td>0.0091</td>\n",
              "      <td>Санкт-Петербург</td>\n",
              "    </tr>\n",
              "    <tr>\n",
              "      <th>106</th>\n",
              "      <td>TQKiIgFt</td>\n",
              "      <td>30.279244</td>\n",
              "      <td>59.942110</td>\n",
              "      <td>0.0091</td>\n",
              "      <td>Санкт-Петербург</td>\n",
              "    </tr>\n",
              "  </tbody>\n",
              "</table>\n",
              "<p>107 rows × 5 columns</p>\n",
              "</div>"
            ],
            "text/plain": [
              "     point_id        lon        lat  target           cities\n",
              "0    F4lXR1cG  37.681242  55.748040  0.0091           Москва\n",
              "1    4LJu4GTf  60.580910  56.795860  0.0091     Екатеринбург\n",
              "2    kLuAAN3s  37.598614  55.781357  0.0091           Москва\n",
              "3    OxQHvaNu  37.794051  55.717468  0.0091           Москва\n",
              "4    paQsTa1K  49.213026  55.748290  0.0091           Казань\n",
              "..        ...        ...        ...     ...              ...\n",
              "102  y8oQuX5v  30.353777  60.049792  0.0091  Санкт-Петербург\n",
              "103  4nmfqUw0  92.928927  56.116262  0.0091       Красноярск\n",
              "104  N9O45mAh  93.015993  56.023697  0.0091       Красноярск\n",
              "105  h2InCLKa  30.381172  59.871149  0.0091  Санкт-Петербург\n",
              "106  TQKiIgFt  30.279244  59.942110  0.0091  Санкт-Петербург\n",
              "\n",
              "[107 rows x 5 columns]"
            ]
          },
          "metadata": {
            "tags": []
          },
          "execution_count": 144
        }
      ]
    },
    {
      "cell_type": "markdown",
      "metadata": {
        "id": "gK7SPPXNzeVk"
      },
      "source": [
        "2. **Используйте данные OSM**: подумайте, какие объекты могут влиять на продажи фичерфонов. Гипотеза: такие телефоны покупают люди, приезжающие в город или страну ненадолго, чтобы вставить туда отдельную симкарту для роуминга. Можно попробовать использовать местоположения железнодорожных вокзалов (изучите [этот тег](https://wiki.openstreetmap.org/wiki/Tag:railway%3Dstation)). Необходимо использовать хотя бы 5 разных типов объектов из OSM. Скорее всего, вам придется качать данные OSM отдельно для разных городов (см. пример для Нью-Йорка из лекции)"
      ]
    },
    {
      "cell_type": "code",
      "metadata": {
        "colab": {
          "base_uri": "https://localhost:8080/"
        },
        "id": "6rILR8-suE6M",
        "outputId": "50d475f4-35be-46f3-c5ff-7e49546ad40c"
      },
      "source": [
        "train.cities.unique()"
      ],
      "execution_count": null,
      "outputs": [
        {
          "output_type": "execute_result",
          "data": {
            "text/plain": [
              "array(['Москва', 'Ростов-на-Дону', 'Красноярск', 'Санкт-Петербург', 'Уфа',\n",
              "       'Казань', 'Екатеринбург', 'Нижний Новгород', 'Колпино',\n",
              "       'Новосибирск', 'Самара', 'Зеленоград', 'Балашиха', 'Пушкин'],\n",
              "      dtype=object)"
            ]
          },
          "metadata": {
            "tags": []
          },
          "execution_count": 145
        }
      ]
    },
    {
      "cell_type": "code",
      "metadata": {
        "colab": {
          "base_uri": "https://localhost:8080/"
        },
        "id": "bVkseWCUkgnf",
        "outputId": "4b5bd689-5232-4bb2-ae9c-b47d6796be52"
      },
      "source": [
        "test.cities.unique()"
      ],
      "execution_count": null,
      "outputs": [
        {
          "output_type": "execute_result",
          "data": {
            "text/plain": [
              "array(['Москва', 'Екатеринбург', 'Казань', 'Санкт-Петербург', 'Самара',\n",
              "       'Новосибирск', 'Нижний Новгород', 'Ростов-на-Дону', 'Уфа',\n",
              "       'Красноярск', 'Зеленоград'], dtype=object)"
            ]
          },
          "metadata": {
            "tags": []
          },
          "execution_count": 146
        }
      ]
    },
    {
      "cell_type": "code",
      "metadata": {
        "colab": {
          "base_uri": "https://localhost:8080/"
        },
        "id": "3MEqMqehuZWC",
        "outputId": "742eb639-2a3d-4122-9224-0b40bf8d0c2a"
      },
      "source": [
        "for i in range(len(train.cities.unique())):\n",
        "  if not train.cities.unique()[i] in test.cities.unique():\n",
        "    print(train.cities.unique()[i])"
      ],
      "execution_count": null,
      "outputs": [
        {
          "output_type": "stream",
          "text": [
            "Колпино\n",
            "Балашиха\n",
            "Пушкин\n"
          ],
          "name": "stdout"
        }
      ]
    },
    {
      "cell_type": "code",
      "metadata": {
        "colab": {
          "base_uri": "https://localhost:8080/",
          "height": 164
        },
        "id": "e4t2nCD_vK9p",
        "outputId": "ada28459-d48f-4b39-c009-9cbaf15897c3"
      },
      "source": [
        "train[train['cities']== \"Колпино\"]"
      ],
      "execution_count": null,
      "outputs": [
        {
          "output_type": "execute_result",
          "data": {
            "text/html": [
              "<div>\n",
              "<style scoped>\n",
              "    .dataframe tbody tr th:only-of-type {\n",
              "        vertical-align: middle;\n",
              "    }\n",
              "\n",
              "    .dataframe tbody tr th {\n",
              "        vertical-align: top;\n",
              "    }\n",
              "\n",
              "    .dataframe thead th {\n",
              "        text-align: right;\n",
              "    }\n",
              "</style>\n",
              "<table border=\"1\" class=\"dataframe\">\n",
              "  <thead>\n",
              "    <tr style=\"text-align: right;\">\n",
              "      <th></th>\n",
              "      <th>point_id</th>\n",
              "      <th>lon</th>\n",
              "      <th>lat</th>\n",
              "      <th>target</th>\n",
              "      <th>cities</th>\n",
              "    </tr>\n",
              "  </thead>\n",
              "  <tbody>\n",
              "    <tr>\n",
              "      <th>20</th>\n",
              "      <td>wQOQvE03</td>\n",
              "      <td>30.579832</td>\n",
              "      <td>59.735526</td>\n",
              "      <td>-1.126119</td>\n",
              "      <td>Колпино</td>\n",
              "    </tr>\n",
              "    <tr>\n",
              "      <th>183</th>\n",
              "      <td>rkhUhnnc</td>\n",
              "      <td>30.622015</td>\n",
              "      <td>59.738771</td>\n",
              "      <td>-0.650698</td>\n",
              "      <td>Колпино</td>\n",
              "    </tr>\n",
              "    <tr>\n",
              "      <th>208</th>\n",
              "      <td>DvEZb53r</td>\n",
              "      <td>30.610533</td>\n",
              "      <td>59.740710</td>\n",
              "      <td>-1.212559</td>\n",
              "      <td>Колпино</td>\n",
              "    </tr>\n",
              "    <tr>\n",
              "      <th>346</th>\n",
              "      <td>2kUlAO0h</td>\n",
              "      <td>30.582934</td>\n",
              "      <td>59.740388</td>\n",
              "      <td>-1.039679</td>\n",
              "      <td>Колпино</td>\n",
              "    </tr>\n",
              "  </tbody>\n",
              "</table>\n",
              "</div>"
            ],
            "text/plain": [
              "     point_id        lon        lat    target   cities\n",
              "20   wQOQvE03  30.579832  59.735526 -1.126119  Колпино\n",
              "183  rkhUhnnc  30.622015  59.738771 -0.650698  Колпино\n",
              "208  DvEZb53r  30.610533  59.740710 -1.212559  Колпино\n",
              "346  2kUlAO0h  30.582934  59.740388 -1.039679  Колпино"
            ]
          },
          "metadata": {
            "tags": []
          },
          "execution_count": 148
        }
      ]
    },
    {
      "cell_type": "code",
      "metadata": {
        "id": "53lsXpdfut3W"
      },
      "source": [
        "lon_min = 30.515822\n",
        "lat_min = 59.725585\n",
        "lon_max = 30.640604\n",
        "lat_max = 59.775199\n",
        "\n",
        "KOLP_bbox = lat_min,lon_min,lat_max,lon_max"
      ],
      "execution_count": null,
      "outputs": []
    },
    {
      "cell_type": "code",
      "metadata": {
        "id": "8pBBO2unuttT"
      },
      "source": [
        "lon_min = 37.822795\n",
        "lat_min = 55.710486\n",
        "lon_max = 38.144775\n",
        "lat_max = 55.861965\n",
        "\n",
        "BAL_bbox = lat_min,lon_min,lat_max,lon_max"
      ],
      "execution_count": null,
      "outputs": []
    },
    {
      "cell_type": "code",
      "metadata": {
        "id": "exrDT_WHutdR"
      },
      "source": [
        "lon_min = 30.344974\n",
        "lat_min = 59.694042\n",
        "lon_max = 30.502278\n",
        "lat_max = 59.746164\n",
        "\n",
        "PUSH_bbox = lat_min,lon_min,lat_max,lon_max"
      ],
      "execution_count": null,
      "outputs": []
    },
    {
      "cell_type": "code",
      "metadata": {
        "id": "0Ib7Mt1gkglK"
      },
      "source": [
        "lon_min = 37.2256\n",
        "lat_min = 55.4935\n",
        "lon_max = 37.917\n",
        "lat_max = 55.9883\n",
        "\n",
        "MOS_bbox = lat_min,lon_min,lat_max,lon_max"
      ],
      "execution_count": null,
      "outputs": []
    },
    {
      "cell_type": "code",
      "metadata": {
        "id": "U4_5dSc9kgiB"
      },
      "source": [
        "lon_min = 30.0034\n",
        "lat_min = 59.792\n",
        "lon_max = 30.6253\n",
        "lat_max = 60.1133\n",
        "\n",
        "SPB_bbox = lat_min,lon_min,lat_max,lon_max"
      ],
      "execution_count": null,
      "outputs": []
    },
    {
      "cell_type": "code",
      "metadata": {
        "id": "TeG9Ro0SkgfP"
      },
      "source": [
        "lon_min = 48.913497\n",
        "lat_min = 55.7276\n",
        "lon_max = 49.361739\n",
        "lat_max = 55.923432\n",
        "\n",
        "KZ_bbox = lat_min,lon_min,lat_max,lon_max"
      ],
      "execution_count": null,
      "outputs": []
    },
    {
      "cell_type": "code",
      "metadata": {
        "id": "XTPw-BxAkgcx"
      },
      "source": [
        "lon_min = 37.144162\n",
        "lat_min = 55.97148\n",
        "lon_max = 37.278927\n",
        "lat_max = 56.024317\n",
        "\n",
        "ZEL_bbox = lat_min,lon_min,lat_max,lon_max"
      ],
      "execution_count": null,
      "outputs": []
    },
    {
      "cell_type": "code",
      "metadata": {
        "id": "LRbGh8tHV3U4"
      },
      "source": [
        "lon_min = 60.422119\n",
        "lat_min = 56.718689\n",
        "lon_max = 60.795654\n",
        "lat_max = 56.91951\n",
        "\n",
        "EKB_bbox = lat_min,lon_min,lat_max,lon_max"
      ],
      "execution_count": null,
      "outputs": []
    },
    {
      "cell_type": "code",
      "metadata": {
        "id": "b025vGYfV3Sn"
      },
      "source": [
        "lon_min = 49.746151\n",
        "lat_min = 53.091673\n",
        "lon_max = 50.390389\n",
        "lat_max = 53.550744\n",
        "\n",
        "SAM_bbox = lat_min,lon_min,lat_max,lon_max"
      ],
      "execution_count": null,
      "outputs": []
    },
    {
      "cell_type": "code",
      "metadata": {
        "id": "Sumsa22JV3QO"
      },
      "source": [
        "lon_min = 55.891083\n",
        "lat_min = 54.680911\n",
        "lon_max = 56.140839\n",
        "lat_max = 54.847823\n",
        "\n",
        "UFA_bbox = lat_min,lon_min,lat_max,lon_max"
      ],
      "execution_count": null,
      "outputs": []
    },
    {
      "cell_type": "code",
      "metadata": {
        "id": "FiZzDchyV3OX"
      },
      "source": [
        "lon_min = 82.6603\n",
        "lat_min = 54.7893\n",
        "lon_max = 83.5274\n",
        "lat_max = 55.2447\n",
        "\n",
        "NOVS_bbox = lat_min,lon_min,lat_max,lon_max"
      ],
      "execution_count": null,
      "outputs": []
    },
    {
      "cell_type": "code",
      "metadata": {
        "id": "zTTJVarsV3L3"
      },
      "source": [
        "lon_min = 43.727046\n",
        "lat_min = 56.187653\n",
        "lon_max = 44.111958\n",
        "lat_max = 56.401982\n",
        "\n",
        "NIJN_bbox = lat_min,lon_min,lat_max,lon_max"
      ],
      "execution_count": null,
      "outputs": []
    },
    {
      "cell_type": "code",
      "metadata": {
        "id": "ak_L8q7rV3Jr"
      },
      "source": [
        "lon_min = 39.404731\n",
        "lat_min = 47.153377\n",
        "lon_max = 39.85139\n",
        "lat_max = 47.368733\n",
        "\n",
        "RND_bbox = lat_min,lon_min,lat_max,lon_max"
      ],
      "execution_count": null,
      "outputs": []
    },
    {
      "cell_type": "code",
      "metadata": {
        "id": "uu_pT1HhV3HW"
      },
      "source": [
        "lon_min = 92.627132\n",
        "lat_min = 55.91184\n",
        "lon_max = 93.168561\n",
        "lat_max = 56.133796\n",
        "\n",
        "KRSN_bbox = lat_min,lon_min,lat_max,lon_max"
      ],
      "execution_count": null,
      "outputs": []
    },
    {
      "cell_type": "markdown",
      "metadata": {
        "id": "FY_zpvqLd5EK"
      },
      "source": [
        "## Теперь найдем все теги в наших городах"
      ]
    },
    {
      "cell_type": "code",
      "metadata": {
        "colab": {
          "base_uri": "https://localhost:8080/",
          "height": 399
        },
        "id": "PTDvJXNvV3Cd",
        "outputId": "aabfa94a-484f-4b93-e4e0-7d67b4ebf810"
      },
      "source": [
        "import requests\n",
        "overpass_url = \"http://overpass-api.de/api/interpreter\"\n",
        "\n",
        "overpass_query = '''\n",
        "[out:json];\n",
        "(node[\"amenity\"]({},{},{},{});\n",
        ");\n",
        "out center;\n",
        "'''.format(*KRSN_bbox)\n",
        "\n",
        "response = requests.get(overpass_url, \n",
        "                        params={'data': overpass_query})\n",
        "amenity = response.json()\n",
        "KRSNamenity_osm = pd.DataFrame(amenity['elements'])\n",
        "KRSNamenity_osm = KRSNamenity_osm.join(\n",
        "    pd.DataFrame([x.get(\"tags\").get(\"amenity\") for x in amenity['elements']])).drop('tags', axis=1)\n",
        "KRSNamenity_osm = KRSNamenity_osm.loc[(KRSNamenity_osm[0] == \"bus_station\") | (KRSNamenity_osm[0] == \"post_office\") | (KRSNamenity_osm[0] == \"atm\") | (KRSNamenity_osm[0] == \"bank\") | (KRSNamenity_osm[0] == \"payment_terminal\")]\n",
        "KRSNamenity_osm=KRSNamenity_osm.reset_index(drop = True)\n",
        "KRSNamenity_osm"
      ],
      "execution_count": null,
      "outputs": [
        {
          "output_type": "execute_result",
          "data": {
            "text/html": [
              "<div>\n",
              "<style scoped>\n",
              "    .dataframe tbody tr th:only-of-type {\n",
              "        vertical-align: middle;\n",
              "    }\n",
              "\n",
              "    .dataframe tbody tr th {\n",
              "        vertical-align: top;\n",
              "    }\n",
              "\n",
              "    .dataframe thead th {\n",
              "        text-align: right;\n",
              "    }\n",
              "</style>\n",
              "<table border=\"1\" class=\"dataframe\">\n",
              "  <thead>\n",
              "    <tr style=\"text-align: right;\">\n",
              "      <th></th>\n",
              "      <th>type</th>\n",
              "      <th>id</th>\n",
              "      <th>lat</th>\n",
              "      <th>lon</th>\n",
              "      <th>0</th>\n",
              "    </tr>\n",
              "  </thead>\n",
              "  <tbody>\n",
              "    <tr>\n",
              "      <th>0</th>\n",
              "      <td>node</td>\n",
              "      <td>458720623</td>\n",
              "      <td>55.998769</td>\n",
              "      <td>93.032561</td>\n",
              "      <td>post_office</td>\n",
              "    </tr>\n",
              "    <tr>\n",
              "      <th>1</th>\n",
              "      <td>node</td>\n",
              "      <td>687173017</td>\n",
              "      <td>55.982707</td>\n",
              "      <td>92.859034</td>\n",
              "      <td>post_office</td>\n",
              "    </tr>\n",
              "    <tr>\n",
              "      <th>2</th>\n",
              "      <td>node</td>\n",
              "      <td>707935288</td>\n",
              "      <td>55.997011</td>\n",
              "      <td>92.791477</td>\n",
              "      <td>post_office</td>\n",
              "    </tr>\n",
              "    <tr>\n",
              "      <th>3</th>\n",
              "      <td>node</td>\n",
              "      <td>708811095</td>\n",
              "      <td>55.996700</td>\n",
              "      <td>92.791010</td>\n",
              "      <td>atm</td>\n",
              "    </tr>\n",
              "    <tr>\n",
              "      <th>4</th>\n",
              "      <td>node</td>\n",
              "      <td>728621303</td>\n",
              "      <td>56.005401</td>\n",
              "      <td>92.800838</td>\n",
              "      <td>atm</td>\n",
              "    </tr>\n",
              "    <tr>\n",
              "      <th>...</th>\n",
              "      <td>...</td>\n",
              "      <td>...</td>\n",
              "      <td>...</td>\n",
              "      <td>...</td>\n",
              "      <td>...</td>\n",
              "    </tr>\n",
              "    <tr>\n",
              "      <th>314</th>\n",
              "      <td>node</td>\n",
              "      <td>7837018017</td>\n",
              "      <td>56.006259</td>\n",
              "      <td>92.945000</td>\n",
              "      <td>bank</td>\n",
              "    </tr>\n",
              "    <tr>\n",
              "      <th>315</th>\n",
              "      <td>node</td>\n",
              "      <td>7837024409</td>\n",
              "      <td>56.006147</td>\n",
              "      <td>92.947231</td>\n",
              "      <td>post_office</td>\n",
              "    </tr>\n",
              "    <tr>\n",
              "      <th>316</th>\n",
              "      <td>node</td>\n",
              "      <td>7837050572</td>\n",
              "      <td>56.007602</td>\n",
              "      <td>92.950609</td>\n",
              "      <td>bank</td>\n",
              "    </tr>\n",
              "    <tr>\n",
              "      <th>317</th>\n",
              "      <td>node</td>\n",
              "      <td>7897266485</td>\n",
              "      <td>55.949092</td>\n",
              "      <td>92.758642</td>\n",
              "      <td>bus_station</td>\n",
              "    </tr>\n",
              "    <tr>\n",
              "      <th>318</th>\n",
              "      <td>node</td>\n",
              "      <td>8006907804</td>\n",
              "      <td>55.991775</td>\n",
              "      <td>92.909929</td>\n",
              "      <td>atm</td>\n",
              "    </tr>\n",
              "  </tbody>\n",
              "</table>\n",
              "<p>319 rows × 5 columns</p>\n",
              "</div>"
            ],
            "text/plain": [
              "     type          id        lat        lon            0\n",
              "0    node   458720623  55.998769  93.032561  post_office\n",
              "1    node   687173017  55.982707  92.859034  post_office\n",
              "2    node   707935288  55.997011  92.791477  post_office\n",
              "3    node   708811095  55.996700  92.791010          atm\n",
              "4    node   728621303  56.005401  92.800838          atm\n",
              "..    ...         ...        ...        ...          ...\n",
              "314  node  7837018017  56.006259  92.945000         bank\n",
              "315  node  7837024409  56.006147  92.947231  post_office\n",
              "316  node  7837050572  56.007602  92.950609         bank\n",
              "317  node  7897266485  55.949092  92.758642  bus_station\n",
              "318  node  8006907804  55.991775  92.909929          atm\n",
              "\n",
              "[319 rows x 5 columns]"
            ]
          },
          "metadata": {
            "tags": []
          },
          "execution_count": 163
        }
      ]
    },
    {
      "cell_type": "code",
      "metadata": {
        "colab": {
          "base_uri": "https://localhost:8080/",
          "height": 399
        },
        "id": "BdAs08PyV295",
        "outputId": "f729c4d7-55cd-4f57-df88-adcab1166392"
      },
      "source": [
        "overpass_url = \"http://overpass-api.de/api/interpreter\"\n",
        "\n",
        "overpass_query = '''\n",
        "[out:json];\n",
        "(node[\"amenity\"]({},{},{},{});\n",
        ");\n",
        "out center;\n",
        "'''.format(*MOS_bbox)\n",
        "\n",
        "response = requests.get(overpass_url, \n",
        "                        params={'data': overpass_query})\n",
        "amenity = response.json()\n",
        "\n",
        "MOSamenity_osm = pd.DataFrame(amenity['elements'])\n",
        "MOSamenity_osm = MOSamenity_osm.join(\n",
        "    pd.DataFrame([x.get(\"tags\").get(\"amenity\") for x in amenity['elements']])).drop('tags', axis=1)\n",
        "MOSamenity_osm = MOSamenity_osm.loc[(MOSamenity_osm[0] == \"bus_station\") | (MOSamenity_osm[0] == \"post_office\") | (MOSamenity_osm[0] == \"atm\") | (MOSamenity_osm[0] == \"bank\") | (MOSamenity_osm[0] == \"payment_terminal\")]\n",
        "MOSamenity_osm=MOSamenity_osm.reset_index(drop = True)\n",
        "MOSamenity_osm"
      ],
      "execution_count": null,
      "outputs": [
        {
          "output_type": "execute_result",
          "data": {
            "text/html": [
              "<div>\n",
              "<style scoped>\n",
              "    .dataframe tbody tr th:only-of-type {\n",
              "        vertical-align: middle;\n",
              "    }\n",
              "\n",
              "    .dataframe tbody tr th {\n",
              "        vertical-align: top;\n",
              "    }\n",
              "\n",
              "    .dataframe thead th {\n",
              "        text-align: right;\n",
              "    }\n",
              "</style>\n",
              "<table border=\"1\" class=\"dataframe\">\n",
              "  <thead>\n",
              "    <tr style=\"text-align: right;\">\n",
              "      <th></th>\n",
              "      <th>type</th>\n",
              "      <th>id</th>\n",
              "      <th>lat</th>\n",
              "      <th>lon</th>\n",
              "      <th>0</th>\n",
              "    </tr>\n",
              "  </thead>\n",
              "  <tbody>\n",
              "    <tr>\n",
              "      <th>0</th>\n",
              "      <td>node</td>\n",
              "      <td>249456860</td>\n",
              "      <td>55.638916</td>\n",
              "      <td>37.771037</td>\n",
              "      <td>post_office</td>\n",
              "    </tr>\n",
              "    <tr>\n",
              "      <th>1</th>\n",
              "      <td>node</td>\n",
              "      <td>249457136</td>\n",
              "      <td>55.636290</td>\n",
              "      <td>37.755819</td>\n",
              "      <td>post_office</td>\n",
              "    </tr>\n",
              "    <tr>\n",
              "      <th>2</th>\n",
              "      <td>node</td>\n",
              "      <td>253509402</td>\n",
              "      <td>55.728762</td>\n",
              "      <td>37.663464</td>\n",
              "      <td>bank</td>\n",
              "    </tr>\n",
              "    <tr>\n",
              "      <th>3</th>\n",
              "      <td>node</td>\n",
              "      <td>253510386</td>\n",
              "      <td>55.709113</td>\n",
              "      <td>37.660628</td>\n",
              "      <td>bank</td>\n",
              "    </tr>\n",
              "    <tr>\n",
              "      <th>4</th>\n",
              "      <td>node</td>\n",
              "      <td>253510456</td>\n",
              "      <td>55.708279</td>\n",
              "      <td>37.661688</td>\n",
              "      <td>bank</td>\n",
              "    </tr>\n",
              "    <tr>\n",
              "      <th>...</th>\n",
              "      <td>...</td>\n",
              "      <td>...</td>\n",
              "      <td>...</td>\n",
              "      <td>...</td>\n",
              "      <td>...</td>\n",
              "    </tr>\n",
              "    <tr>\n",
              "      <th>5592</th>\n",
              "      <td>node</td>\n",
              "      <td>8177456692</td>\n",
              "      <td>55.743121</td>\n",
              "      <td>37.525645</td>\n",
              "      <td>payment_terminal</td>\n",
              "    </tr>\n",
              "    <tr>\n",
              "      <th>5593</th>\n",
              "      <td>node</td>\n",
              "      <td>8191912939</td>\n",
              "      <td>55.817231</td>\n",
              "      <td>37.500135</td>\n",
              "      <td>bank</td>\n",
              "    </tr>\n",
              "    <tr>\n",
              "      <th>5594</th>\n",
              "      <td>node</td>\n",
              "      <td>8195853694</td>\n",
              "      <td>55.821425</td>\n",
              "      <td>37.497881</td>\n",
              "      <td>bank</td>\n",
              "    </tr>\n",
              "    <tr>\n",
              "      <th>5595</th>\n",
              "      <td>node</td>\n",
              "      <td>8196051109</td>\n",
              "      <td>55.723600</td>\n",
              "      <td>37.779957</td>\n",
              "      <td>bank</td>\n",
              "    </tr>\n",
              "    <tr>\n",
              "      <th>5596</th>\n",
              "      <td>node</td>\n",
              "      <td>8198518793</td>\n",
              "      <td>55.754351</td>\n",
              "      <td>37.624668</td>\n",
              "      <td>atm</td>\n",
              "    </tr>\n",
              "  </tbody>\n",
              "</table>\n",
              "<p>5597 rows × 5 columns</p>\n",
              "</div>"
            ],
            "text/plain": [
              "      type          id        lat        lon                 0\n",
              "0     node   249456860  55.638916  37.771037       post_office\n",
              "1     node   249457136  55.636290  37.755819       post_office\n",
              "2     node   253509402  55.728762  37.663464              bank\n",
              "3     node   253510386  55.709113  37.660628              bank\n",
              "4     node   253510456  55.708279  37.661688              bank\n",
              "...    ...         ...        ...        ...               ...\n",
              "5592  node  8177456692  55.743121  37.525645  payment_terminal\n",
              "5593  node  8191912939  55.817231  37.500135              bank\n",
              "5594  node  8195853694  55.821425  37.497881              bank\n",
              "5595  node  8196051109  55.723600  37.779957              bank\n",
              "5596  node  8198518793  55.754351  37.624668               atm\n",
              "\n",
              "[5597 rows x 5 columns]"
            ]
          },
          "metadata": {
            "tags": []
          },
          "execution_count": 164
        }
      ]
    },
    {
      "cell_type": "code",
      "metadata": {
        "colab": {
          "base_uri": "https://localhost:8080/",
          "height": 1000
        },
        "id": "retDwT7wsfo1",
        "outputId": "d64af2d6-0daa-4c6b-a1e4-d9e0c1c02e17"
      },
      "source": [
        "overpass_url = \"http://overpass-api.de/api/interpreter\"\n",
        "\n",
        "overpass_query = '''\n",
        "[out:json];\n",
        "(node[\"amenity\"]({},{},{},{});\n",
        ");\n",
        "out center;\n",
        "'''.format(*KOLP_bbox)\n",
        "\n",
        "response = requests.get(overpass_url, \n",
        "                        params={'data': overpass_query})\n",
        "amenity = response.json()\n",
        "\n",
        "KOLPamenity_osm = pd.DataFrame(amenity['elements'])\n",
        "KOLPamenity_osm = KOLPamenity_osm.join(\n",
        "    pd.DataFrame([x.get(\"tags\").get(\"amenity\") for x in amenity['elements']])).drop('tags', axis=1)\n",
        "KOLPamenity_osm = KOLPamenity_osm.loc[(KOLPamenity_osm[0] == \"bus_station\") | (KOLPamenity_osm[0] == \"post_office\") | (KOLPamenity_osm[0] == \"atm\") | (KOLPamenity_osm[0] == \"bank\") | (KOLPamenity_osm[0] == \"payment_terminal\")]\n",
        "KOLPamenity_osm=KOLPamenity_osm.reset_index(drop = True)\n",
        "KOLPamenity_osm"
      ],
      "execution_count": null,
      "outputs": [
        {
          "output_type": "execute_result",
          "data": {
            "text/html": [
              "<div>\n",
              "<style scoped>\n",
              "    .dataframe tbody tr th:only-of-type {\n",
              "        vertical-align: middle;\n",
              "    }\n",
              "\n",
              "    .dataframe tbody tr th {\n",
              "        vertical-align: top;\n",
              "    }\n",
              "\n",
              "    .dataframe thead th {\n",
              "        text-align: right;\n",
              "    }\n",
              "</style>\n",
              "<table border=\"1\" class=\"dataframe\">\n",
              "  <thead>\n",
              "    <tr style=\"text-align: right;\">\n",
              "      <th></th>\n",
              "      <th>type</th>\n",
              "      <th>id</th>\n",
              "      <th>lat</th>\n",
              "      <th>lon</th>\n",
              "      <th>0</th>\n",
              "    </tr>\n",
              "  </thead>\n",
              "  <tbody>\n",
              "    <tr>\n",
              "      <th>0</th>\n",
              "      <td>node</td>\n",
              "      <td>649277295</td>\n",
              "      <td>59.747332</td>\n",
              "      <td>30.581278</td>\n",
              "      <td>atm</td>\n",
              "    </tr>\n",
              "    <tr>\n",
              "      <th>1</th>\n",
              "      <td>node</td>\n",
              "      <td>649308453</td>\n",
              "      <td>59.735772</td>\n",
              "      <td>30.614572</td>\n",
              "      <td>atm</td>\n",
              "    </tr>\n",
              "    <tr>\n",
              "      <th>2</th>\n",
              "      <td>node</td>\n",
              "      <td>649402639</td>\n",
              "      <td>59.742630</td>\n",
              "      <td>30.582101</td>\n",
              "      <td>bank</td>\n",
              "    </tr>\n",
              "    <tr>\n",
              "      <th>3</th>\n",
              "      <td>node</td>\n",
              "      <td>656480087</td>\n",
              "      <td>59.735363</td>\n",
              "      <td>30.582929</td>\n",
              "      <td>atm</td>\n",
              "    </tr>\n",
              "    <tr>\n",
              "      <th>4</th>\n",
              "      <td>node</td>\n",
              "      <td>795228148</td>\n",
              "      <td>59.734167</td>\n",
              "      <td>30.582518</td>\n",
              "      <td>bank</td>\n",
              "    </tr>\n",
              "    <tr>\n",
              "      <th>5</th>\n",
              "      <td>node</td>\n",
              "      <td>867591111</td>\n",
              "      <td>59.740666</td>\n",
              "      <td>30.611057</td>\n",
              "      <td>atm</td>\n",
              "    </tr>\n",
              "    <tr>\n",
              "      <th>6</th>\n",
              "      <td>node</td>\n",
              "      <td>882066427</td>\n",
              "      <td>59.740664</td>\n",
              "      <td>30.610988</td>\n",
              "      <td>atm</td>\n",
              "    </tr>\n",
              "    <tr>\n",
              "      <th>7</th>\n",
              "      <td>node</td>\n",
              "      <td>893437522</td>\n",
              "      <td>59.751445</td>\n",
              "      <td>30.579216</td>\n",
              "      <td>atm</td>\n",
              "    </tr>\n",
              "    <tr>\n",
              "      <th>8</th>\n",
              "      <td>node</td>\n",
              "      <td>893437524</td>\n",
              "      <td>59.741549</td>\n",
              "      <td>30.564659</td>\n",
              "      <td>atm</td>\n",
              "    </tr>\n",
              "    <tr>\n",
              "      <th>9</th>\n",
              "      <td>node</td>\n",
              "      <td>1003279933</td>\n",
              "      <td>59.750856</td>\n",
              "      <td>30.577120</td>\n",
              "      <td>bank</td>\n",
              "    </tr>\n",
              "    <tr>\n",
              "      <th>10</th>\n",
              "      <td>node</td>\n",
              "      <td>1017672477</td>\n",
              "      <td>59.749673</td>\n",
              "      <td>30.587270</td>\n",
              "      <td>bank</td>\n",
              "    </tr>\n",
              "    <tr>\n",
              "      <th>11</th>\n",
              "      <td>node</td>\n",
              "      <td>1032440171</td>\n",
              "      <td>59.754017</td>\n",
              "      <td>30.562706</td>\n",
              "      <td>atm</td>\n",
              "    </tr>\n",
              "    <tr>\n",
              "      <th>12</th>\n",
              "      <td>node</td>\n",
              "      <td>1178854165</td>\n",
              "      <td>59.773613</td>\n",
              "      <td>30.595411</td>\n",
              "      <td>post_office</td>\n",
              "    </tr>\n",
              "    <tr>\n",
              "      <th>13</th>\n",
              "      <td>node</td>\n",
              "      <td>1327342478</td>\n",
              "      <td>59.741295</td>\n",
              "      <td>30.563747</td>\n",
              "      <td>bank</td>\n",
              "    </tr>\n",
              "    <tr>\n",
              "      <th>14</th>\n",
              "      <td>node</td>\n",
              "      <td>1456548366</td>\n",
              "      <td>59.750374</td>\n",
              "      <td>30.585670</td>\n",
              "      <td>bank</td>\n",
              "    </tr>\n",
              "    <tr>\n",
              "      <th>15</th>\n",
              "      <td>node</td>\n",
              "      <td>1456548372</td>\n",
              "      <td>59.749534</td>\n",
              "      <td>30.585192</td>\n",
              "      <td>bank</td>\n",
              "    </tr>\n",
              "    <tr>\n",
              "      <th>16</th>\n",
              "      <td>node</td>\n",
              "      <td>1456548376</td>\n",
              "      <td>59.749623</td>\n",
              "      <td>30.587774</td>\n",
              "      <td>bank</td>\n",
              "    </tr>\n",
              "    <tr>\n",
              "      <th>17</th>\n",
              "      <td>node</td>\n",
              "      <td>1859834820</td>\n",
              "      <td>59.767568</td>\n",
              "      <td>30.600149</td>\n",
              "      <td>atm</td>\n",
              "    </tr>\n",
              "    <tr>\n",
              "      <th>18</th>\n",
              "      <td>node</td>\n",
              "      <td>1861837381</td>\n",
              "      <td>59.735048</td>\n",
              "      <td>30.612080</td>\n",
              "      <td>atm</td>\n",
              "    </tr>\n",
              "    <tr>\n",
              "      <th>19</th>\n",
              "      <td>node</td>\n",
              "      <td>1983026288</td>\n",
              "      <td>59.743115</td>\n",
              "      <td>30.582335</td>\n",
              "      <td>post_office</td>\n",
              "    </tr>\n",
              "    <tr>\n",
              "      <th>20</th>\n",
              "      <td>node</td>\n",
              "      <td>1983028226</td>\n",
              "      <td>59.748766</td>\n",
              "      <td>30.608255</td>\n",
              "      <td>post_office</td>\n",
              "    </tr>\n",
              "    <tr>\n",
              "      <th>21</th>\n",
              "      <td>node</td>\n",
              "      <td>1983030416</td>\n",
              "      <td>59.745912</td>\n",
              "      <td>30.609205</td>\n",
              "      <td>post_office</td>\n",
              "    </tr>\n",
              "    <tr>\n",
              "      <th>22</th>\n",
              "      <td>node</td>\n",
              "      <td>1991021831</td>\n",
              "      <td>59.749334</td>\n",
              "      <td>30.595752</td>\n",
              "      <td>post_office</td>\n",
              "    </tr>\n",
              "    <tr>\n",
              "      <th>23</th>\n",
              "      <td>node</td>\n",
              "      <td>2118687746</td>\n",
              "      <td>59.741773</td>\n",
              "      <td>30.613719</td>\n",
              "      <td>bank</td>\n",
              "    </tr>\n",
              "    <tr>\n",
              "      <th>24</th>\n",
              "      <td>node</td>\n",
              "      <td>2118687747</td>\n",
              "      <td>59.741748</td>\n",
              "      <td>30.613728</td>\n",
              "      <td>atm</td>\n",
              "    </tr>\n",
              "    <tr>\n",
              "      <th>25</th>\n",
              "      <td>node</td>\n",
              "      <td>2630828589</td>\n",
              "      <td>59.753636</td>\n",
              "      <td>30.537564</td>\n",
              "      <td>atm</td>\n",
              "    </tr>\n",
              "    <tr>\n",
              "      <th>26</th>\n",
              "      <td>node</td>\n",
              "      <td>2671027506</td>\n",
              "      <td>59.753232</td>\n",
              "      <td>30.580068</td>\n",
              "      <td>atm</td>\n",
              "    </tr>\n",
              "    <tr>\n",
              "      <th>27</th>\n",
              "      <td>node</td>\n",
              "      <td>4058510320</td>\n",
              "      <td>59.748873</td>\n",
              "      <td>30.606291</td>\n",
              "      <td>bank</td>\n",
              "    </tr>\n",
              "    <tr>\n",
              "      <th>28</th>\n",
              "      <td>node</td>\n",
              "      <td>6096063868</td>\n",
              "      <td>59.740601</td>\n",
              "      <td>30.610972</td>\n",
              "      <td>atm</td>\n",
              "    </tr>\n",
              "    <tr>\n",
              "      <th>29</th>\n",
              "      <td>node</td>\n",
              "      <td>6096084522</td>\n",
              "      <td>59.741693</td>\n",
              "      <td>30.612916</td>\n",
              "      <td>atm</td>\n",
              "    </tr>\n",
              "    <tr>\n",
              "      <th>30</th>\n",
              "      <td>node</td>\n",
              "      <td>6096084523</td>\n",
              "      <td>59.730400</td>\n",
              "      <td>30.615159</td>\n",
              "      <td>atm</td>\n",
              "    </tr>\n",
              "    <tr>\n",
              "      <th>31</th>\n",
              "      <td>node</td>\n",
              "      <td>6240545632</td>\n",
              "      <td>59.735756</td>\n",
              "      <td>30.614572</td>\n",
              "      <td>bank</td>\n",
              "    </tr>\n",
              "    <tr>\n",
              "      <th>32</th>\n",
              "      <td>node</td>\n",
              "      <td>6240545633</td>\n",
              "      <td>59.745701</td>\n",
              "      <td>30.609135</td>\n",
              "      <td>bank</td>\n",
              "    </tr>\n",
              "    <tr>\n",
              "      <th>33</th>\n",
              "      <td>node</td>\n",
              "      <td>6240545634</td>\n",
              "      <td>59.750718</td>\n",
              "      <td>30.574514</td>\n",
              "      <td>bank</td>\n",
              "    </tr>\n",
              "    <tr>\n",
              "      <th>34</th>\n",
              "      <td>node</td>\n",
              "      <td>6376133153</td>\n",
              "      <td>59.738525</td>\n",
              "      <td>30.622714</td>\n",
              "      <td>bank</td>\n",
              "    </tr>\n",
              "    <tr>\n",
              "      <th>35</th>\n",
              "      <td>node</td>\n",
              "      <td>7832468403</td>\n",
              "      <td>59.748950</td>\n",
              "      <td>30.605258</td>\n",
              "      <td>atm</td>\n",
              "    </tr>\n",
              "    <tr>\n",
              "      <th>36</th>\n",
              "      <td>node</td>\n",
              "      <td>7832468419</td>\n",
              "      <td>59.735466</td>\n",
              "      <td>30.583186</td>\n",
              "      <td>atm</td>\n",
              "    </tr>\n",
              "    <tr>\n",
              "      <th>37</th>\n",
              "      <td>node</td>\n",
              "      <td>7832468421</td>\n",
              "      <td>59.736326</td>\n",
              "      <td>30.617735</td>\n",
              "      <td>atm</td>\n",
              "    </tr>\n",
              "    <tr>\n",
              "      <th>38</th>\n",
              "      <td>node</td>\n",
              "      <td>7832468427</td>\n",
              "      <td>59.740397</td>\n",
              "      <td>30.611574</td>\n",
              "      <td>atm</td>\n",
              "    </tr>\n",
              "    <tr>\n",
              "      <th>39</th>\n",
              "      <td>node</td>\n",
              "      <td>7832468428</td>\n",
              "      <td>59.748026</td>\n",
              "      <td>30.567774</td>\n",
              "      <td>atm</td>\n",
              "    </tr>\n",
              "    <tr>\n",
              "      <th>40</th>\n",
              "      <td>node</td>\n",
              "      <td>7832468478</td>\n",
              "      <td>59.740696</td>\n",
              "      <td>30.584693</td>\n",
              "      <td>atm</td>\n",
              "    </tr>\n",
              "    <tr>\n",
              "      <th>41</th>\n",
              "      <td>node</td>\n",
              "      <td>7832469490</td>\n",
              "      <td>59.730027</td>\n",
              "      <td>30.615284</td>\n",
              "      <td>atm</td>\n",
              "    </tr>\n",
              "    <tr>\n",
              "      <th>42</th>\n",
              "      <td>node</td>\n",
              "      <td>7832469491</td>\n",
              "      <td>59.738541</td>\n",
              "      <td>30.622973</td>\n",
              "      <td>atm</td>\n",
              "    </tr>\n",
              "    <tr>\n",
              "      <th>43</th>\n",
              "      <td>node</td>\n",
              "      <td>7832469492</td>\n",
              "      <td>59.737426</td>\n",
              "      <td>30.571802</td>\n",
              "      <td>atm</td>\n",
              "    </tr>\n",
              "    <tr>\n",
              "      <th>44</th>\n",
              "      <td>node</td>\n",
              "      <td>7832489072</td>\n",
              "      <td>59.738720</td>\n",
              "      <td>30.560612</td>\n",
              "      <td>atm</td>\n",
              "    </tr>\n",
              "    <tr>\n",
              "      <th>45</th>\n",
              "      <td>node</td>\n",
              "      <td>7832507830</td>\n",
              "      <td>59.741247</td>\n",
              "      <td>30.588110</td>\n",
              "      <td>atm</td>\n",
              "    </tr>\n",
              "    <tr>\n",
              "      <th>46</th>\n",
              "      <td>node</td>\n",
              "      <td>8027477586</td>\n",
              "      <td>59.741267</td>\n",
              "      <td>30.588000</td>\n",
              "      <td>bank</td>\n",
              "    </tr>\n",
              "  </tbody>\n",
              "</table>\n",
              "</div>"
            ],
            "text/plain": [
              "    type          id        lat        lon            0\n",
              "0   node   649277295  59.747332  30.581278          atm\n",
              "1   node   649308453  59.735772  30.614572          atm\n",
              "2   node   649402639  59.742630  30.582101         bank\n",
              "3   node   656480087  59.735363  30.582929          atm\n",
              "4   node   795228148  59.734167  30.582518         bank\n",
              "5   node   867591111  59.740666  30.611057          atm\n",
              "6   node   882066427  59.740664  30.610988          atm\n",
              "7   node   893437522  59.751445  30.579216          atm\n",
              "8   node   893437524  59.741549  30.564659          atm\n",
              "9   node  1003279933  59.750856  30.577120         bank\n",
              "10  node  1017672477  59.749673  30.587270         bank\n",
              "11  node  1032440171  59.754017  30.562706          atm\n",
              "12  node  1178854165  59.773613  30.595411  post_office\n",
              "13  node  1327342478  59.741295  30.563747         bank\n",
              "14  node  1456548366  59.750374  30.585670         bank\n",
              "15  node  1456548372  59.749534  30.585192         bank\n",
              "16  node  1456548376  59.749623  30.587774         bank\n",
              "17  node  1859834820  59.767568  30.600149          atm\n",
              "18  node  1861837381  59.735048  30.612080          atm\n",
              "19  node  1983026288  59.743115  30.582335  post_office\n",
              "20  node  1983028226  59.748766  30.608255  post_office\n",
              "21  node  1983030416  59.745912  30.609205  post_office\n",
              "22  node  1991021831  59.749334  30.595752  post_office\n",
              "23  node  2118687746  59.741773  30.613719         bank\n",
              "24  node  2118687747  59.741748  30.613728          atm\n",
              "25  node  2630828589  59.753636  30.537564          atm\n",
              "26  node  2671027506  59.753232  30.580068          atm\n",
              "27  node  4058510320  59.748873  30.606291         bank\n",
              "28  node  6096063868  59.740601  30.610972          atm\n",
              "29  node  6096084522  59.741693  30.612916          atm\n",
              "30  node  6096084523  59.730400  30.615159          atm\n",
              "31  node  6240545632  59.735756  30.614572         bank\n",
              "32  node  6240545633  59.745701  30.609135         bank\n",
              "33  node  6240545634  59.750718  30.574514         bank\n",
              "34  node  6376133153  59.738525  30.622714         bank\n",
              "35  node  7832468403  59.748950  30.605258          atm\n",
              "36  node  7832468419  59.735466  30.583186          atm\n",
              "37  node  7832468421  59.736326  30.617735          atm\n",
              "38  node  7832468427  59.740397  30.611574          atm\n",
              "39  node  7832468428  59.748026  30.567774          atm\n",
              "40  node  7832468478  59.740696  30.584693          atm\n",
              "41  node  7832469490  59.730027  30.615284          atm\n",
              "42  node  7832469491  59.738541  30.622973          atm\n",
              "43  node  7832469492  59.737426  30.571802          atm\n",
              "44  node  7832489072  59.738720  30.560612          atm\n",
              "45  node  7832507830  59.741247  30.588110          atm\n",
              "46  node  8027477586  59.741267  30.588000         bank"
            ]
          },
          "metadata": {
            "tags": []
          },
          "execution_count": 165
        }
      ]
    },
    {
      "cell_type": "code",
      "metadata": {
        "colab": {
          "base_uri": "https://localhost:8080/",
          "height": 370
        },
        "id": "HeEQuGHusfb5",
        "outputId": "a72d0af6-ac33-4213-ace8-3e0a395b53f7"
      },
      "source": [
        "overpass_url = \"http://overpass-api.de/api/interpreter\"\n",
        "\n",
        "overpass_query = '''\n",
        "[out:json];\n",
        "(node[\"amenity\"]({},{},{},{});\n",
        ");\n",
        "out center;\n",
        "'''.format(*BAL_bbox)\n",
        "\n",
        "response = requests.get(overpass_url, \n",
        "                        params={'data': overpass_query})\n",
        "amenity = response.json()\n",
        "\n",
        "BALamenity_osm = pd.DataFrame(amenity['elements'])\n",
        "BALamenity_osm = BALamenity_osm.join(\n",
        "    pd.DataFrame([x.get(\"tags\").get(\"amenity\") for x in amenity['elements']])).drop('tags', axis=1)\n",
        "BALamenity_osm = BALamenity_osm.loc[(BALamenity_osm[0] == \"bus_station\") | (BALamenity_osm[0] == \"post_office\") | (BALamenity_osm[0] == \"atm\") | (BALamenity_osm[0] == \"bank\") | (BALamenity_osm[0] == \"payment_terminal\")]\n",
        "BALamenity_osm=BALamenity_osm.reset_index(drop = True)\n",
        "BALamenity_osm"
      ],
      "execution_count": null,
      "outputs": [
        {
          "output_type": "error",
          "ename": "JSONDecodeError",
          "evalue": "ignored",
          "traceback": [
            "\u001b[0;31m---------------------------------------------------------------------------\u001b[0m",
            "\u001b[0;31mJSONDecodeError\u001b[0m                           Traceback (most recent call last)",
            "\u001b[0;32m<ipython-input-166-a7cda19131d3>\u001b[0m in \u001b[0;36m<module>\u001b[0;34m()\u001b[0m\n\u001b[1;32m     10\u001b[0m response = requests.get(overpass_url, \n\u001b[1;32m     11\u001b[0m                         params={'data': overpass_query})\n\u001b[0;32m---> 12\u001b[0;31m \u001b[0mamenity\u001b[0m \u001b[0;34m=\u001b[0m \u001b[0mresponse\u001b[0m\u001b[0;34m.\u001b[0m\u001b[0mjson\u001b[0m\u001b[0;34m(\u001b[0m\u001b[0;34m)\u001b[0m\u001b[0;34m\u001b[0m\u001b[0;34m\u001b[0m\u001b[0m\n\u001b[0m\u001b[1;32m     13\u001b[0m \u001b[0;34m\u001b[0m\u001b[0m\n\u001b[1;32m     14\u001b[0m \u001b[0mBALamenity_osm\u001b[0m \u001b[0;34m=\u001b[0m \u001b[0mpd\u001b[0m\u001b[0;34m.\u001b[0m\u001b[0mDataFrame\u001b[0m\u001b[0;34m(\u001b[0m\u001b[0mamenity\u001b[0m\u001b[0;34m[\u001b[0m\u001b[0;34m'elements'\u001b[0m\u001b[0;34m]\u001b[0m\u001b[0;34m)\u001b[0m\u001b[0;34m\u001b[0m\u001b[0;34m\u001b[0m\u001b[0m\n",
            "\u001b[0;32m/usr/local/lib/python3.6/dist-packages/requests/models.py\u001b[0m in \u001b[0;36mjson\u001b[0;34m(self, **kwargs)\u001b[0m\n\u001b[1;32m    896\u001b[0m                     \u001b[0;31m# used.\u001b[0m\u001b[0;34m\u001b[0m\u001b[0;34m\u001b[0m\u001b[0;34m\u001b[0m\u001b[0m\n\u001b[1;32m    897\u001b[0m                     \u001b[0;32mpass\u001b[0m\u001b[0;34m\u001b[0m\u001b[0;34m\u001b[0m\u001b[0m\n\u001b[0;32m--> 898\u001b[0;31m         \u001b[0;32mreturn\u001b[0m \u001b[0mcomplexjson\u001b[0m\u001b[0;34m.\u001b[0m\u001b[0mloads\u001b[0m\u001b[0;34m(\u001b[0m\u001b[0mself\u001b[0m\u001b[0;34m.\u001b[0m\u001b[0mtext\u001b[0m\u001b[0;34m,\u001b[0m \u001b[0;34m**\u001b[0m\u001b[0mkwargs\u001b[0m\u001b[0;34m)\u001b[0m\u001b[0;34m\u001b[0m\u001b[0;34m\u001b[0m\u001b[0m\n\u001b[0m\u001b[1;32m    899\u001b[0m \u001b[0;34m\u001b[0m\u001b[0m\n\u001b[1;32m    900\u001b[0m     \u001b[0;34m@\u001b[0m\u001b[0mproperty\u001b[0m\u001b[0;34m\u001b[0m\u001b[0;34m\u001b[0m\u001b[0m\n",
            "\u001b[0;32m/usr/lib/python3.6/json/__init__.py\u001b[0m in \u001b[0;36mloads\u001b[0;34m(s, encoding, cls, object_hook, parse_float, parse_int, parse_constant, object_pairs_hook, **kw)\u001b[0m\n\u001b[1;32m    352\u001b[0m             \u001b[0mparse_int\u001b[0m \u001b[0;32mis\u001b[0m \u001b[0;32mNone\u001b[0m \u001b[0;32mand\u001b[0m \u001b[0mparse_float\u001b[0m \u001b[0;32mis\u001b[0m \u001b[0;32mNone\u001b[0m \u001b[0;32mand\u001b[0m\u001b[0;34m\u001b[0m\u001b[0;34m\u001b[0m\u001b[0m\n\u001b[1;32m    353\u001b[0m             parse_constant is None and object_pairs_hook is None and not kw):\n\u001b[0;32m--> 354\u001b[0;31m         \u001b[0;32mreturn\u001b[0m \u001b[0m_default_decoder\u001b[0m\u001b[0;34m.\u001b[0m\u001b[0mdecode\u001b[0m\u001b[0;34m(\u001b[0m\u001b[0ms\u001b[0m\u001b[0;34m)\u001b[0m\u001b[0;34m\u001b[0m\u001b[0;34m\u001b[0m\u001b[0m\n\u001b[0m\u001b[1;32m    355\u001b[0m     \u001b[0;32mif\u001b[0m \u001b[0mcls\u001b[0m \u001b[0;32mis\u001b[0m \u001b[0;32mNone\u001b[0m\u001b[0;34m:\u001b[0m\u001b[0;34m\u001b[0m\u001b[0;34m\u001b[0m\u001b[0m\n\u001b[1;32m    356\u001b[0m         \u001b[0mcls\u001b[0m \u001b[0;34m=\u001b[0m \u001b[0mJSONDecoder\u001b[0m\u001b[0;34m\u001b[0m\u001b[0;34m\u001b[0m\u001b[0m\n",
            "\u001b[0;32m/usr/lib/python3.6/json/decoder.py\u001b[0m in \u001b[0;36mdecode\u001b[0;34m(self, s, _w)\u001b[0m\n\u001b[1;32m    337\u001b[0m \u001b[0;34m\u001b[0m\u001b[0m\n\u001b[1;32m    338\u001b[0m         \"\"\"\n\u001b[0;32m--> 339\u001b[0;31m         \u001b[0mobj\u001b[0m\u001b[0;34m,\u001b[0m \u001b[0mend\u001b[0m \u001b[0;34m=\u001b[0m \u001b[0mself\u001b[0m\u001b[0;34m.\u001b[0m\u001b[0mraw_decode\u001b[0m\u001b[0;34m(\u001b[0m\u001b[0ms\u001b[0m\u001b[0;34m,\u001b[0m \u001b[0midx\u001b[0m\u001b[0;34m=\u001b[0m\u001b[0m_w\u001b[0m\u001b[0;34m(\u001b[0m\u001b[0ms\u001b[0m\u001b[0;34m,\u001b[0m \u001b[0;36m0\u001b[0m\u001b[0;34m)\u001b[0m\u001b[0;34m.\u001b[0m\u001b[0mend\u001b[0m\u001b[0;34m(\u001b[0m\u001b[0;34m)\u001b[0m\u001b[0;34m)\u001b[0m\u001b[0;34m\u001b[0m\u001b[0;34m\u001b[0m\u001b[0m\n\u001b[0m\u001b[1;32m    340\u001b[0m         \u001b[0mend\u001b[0m \u001b[0;34m=\u001b[0m \u001b[0m_w\u001b[0m\u001b[0;34m(\u001b[0m\u001b[0ms\u001b[0m\u001b[0;34m,\u001b[0m \u001b[0mend\u001b[0m\u001b[0;34m)\u001b[0m\u001b[0;34m.\u001b[0m\u001b[0mend\u001b[0m\u001b[0;34m(\u001b[0m\u001b[0;34m)\u001b[0m\u001b[0;34m\u001b[0m\u001b[0;34m\u001b[0m\u001b[0m\n\u001b[1;32m    341\u001b[0m         \u001b[0;32mif\u001b[0m \u001b[0mend\u001b[0m \u001b[0;34m!=\u001b[0m \u001b[0mlen\u001b[0m\u001b[0;34m(\u001b[0m\u001b[0ms\u001b[0m\u001b[0;34m)\u001b[0m\u001b[0;34m:\u001b[0m\u001b[0;34m\u001b[0m\u001b[0;34m\u001b[0m\u001b[0m\n",
            "\u001b[0;32m/usr/lib/python3.6/json/decoder.py\u001b[0m in \u001b[0;36mraw_decode\u001b[0;34m(self, s, idx)\u001b[0m\n\u001b[1;32m    355\u001b[0m             \u001b[0mobj\u001b[0m\u001b[0;34m,\u001b[0m \u001b[0mend\u001b[0m \u001b[0;34m=\u001b[0m \u001b[0mself\u001b[0m\u001b[0;34m.\u001b[0m\u001b[0mscan_once\u001b[0m\u001b[0;34m(\u001b[0m\u001b[0ms\u001b[0m\u001b[0;34m,\u001b[0m \u001b[0midx\u001b[0m\u001b[0;34m)\u001b[0m\u001b[0;34m\u001b[0m\u001b[0;34m\u001b[0m\u001b[0m\n\u001b[1;32m    356\u001b[0m         \u001b[0;32mexcept\u001b[0m \u001b[0mStopIteration\u001b[0m \u001b[0;32mas\u001b[0m \u001b[0merr\u001b[0m\u001b[0;34m:\u001b[0m\u001b[0;34m\u001b[0m\u001b[0;34m\u001b[0m\u001b[0m\n\u001b[0;32m--> 357\u001b[0;31m             \u001b[0;32mraise\u001b[0m \u001b[0mJSONDecodeError\u001b[0m\u001b[0;34m(\u001b[0m\u001b[0;34m\"Expecting value\"\u001b[0m\u001b[0;34m,\u001b[0m \u001b[0ms\u001b[0m\u001b[0;34m,\u001b[0m \u001b[0merr\u001b[0m\u001b[0;34m.\u001b[0m\u001b[0mvalue\u001b[0m\u001b[0;34m)\u001b[0m \u001b[0;32mfrom\u001b[0m \u001b[0;32mNone\u001b[0m\u001b[0;34m\u001b[0m\u001b[0;34m\u001b[0m\u001b[0m\n\u001b[0m\u001b[1;32m    358\u001b[0m         \u001b[0;32mreturn\u001b[0m \u001b[0mobj\u001b[0m\u001b[0;34m,\u001b[0m \u001b[0mend\u001b[0m\u001b[0;34m\u001b[0m\u001b[0;34m\u001b[0m\u001b[0m\n",
            "\u001b[0;31mJSONDecodeError\u001b[0m: Expecting value: line 1 column 1 (char 0)"
          ]
        }
      ]
    },
    {
      "cell_type": "code",
      "metadata": {
        "id": "4J9Zp5JVsfT6"
      },
      "source": [
        "overpass_url = \"http://overpass-api.de/api/interpreter\"\n",
        "\n",
        "overpass_query = '''\n",
        "[out:json];\n",
        "(node[\"amenity\"]({},{},{},{});\n",
        ");\n",
        "out center;\n",
        "'''.format(*PUSH_bbox)\n",
        "\n",
        "response = requests.get(overpass_url, \n",
        "                        params={'data': overpass_query})\n",
        "amenity = response.json()\n",
        "\n",
        "PUSHamenity_osm = pd.DataFrame(amenity['elements'])\n",
        "PUSHamenity_osm = PUSHamenity_osm.join(\n",
        "    pd.DataFrame([x.get(\"tags\").get(\"amenity\") for x in amenity['elements']])).drop('tags', axis=1)\n",
        "PUSHamenity_osm = PUSHamenity_osm.loc[(PUSHamenity_osm[0] == \"bus_station\") | (PUSHamenity_osm[0] == \"post_office\") | (PUSHamenity_osm[0] == \"atm\") | (PUSHamenity_osm[0] == \"bank\") | (PUSHamenity_osm[0] == \"payment_terminal\")]\n",
        "PUSHamenity_osm=PUSHamenity_osm.reset_index(drop = True)\n",
        "PUSHamenity_osm"
      ],
      "execution_count": null,
      "outputs": []
    },
    {
      "cell_type": "code",
      "metadata": {
        "id": "-JbSCKvCsfLc"
      },
      "source": [
        "overpass_url = \"http://overpass-api.de/api/interpreter\"\n",
        "\n",
        "overpass_query = '''\n",
        "[out:json];\n",
        "(node[\"amenity\"]({},{},{},{});\n",
        ");\n",
        "out center;\n",
        "'''.format(*RND_bbox)\n",
        "\n",
        "response = requests.get(overpass_url, \n",
        "                        params={'data': overpass_query})\n",
        "amenity = response.json()\n",
        "\n",
        "RNDamenity_osm = pd.DataFrame(amenity['elements'])\n",
        "RNDamenity_osm = RNDamenity_osm.join(\n",
        "    pd.DataFrame([x.get(\"tags\").get(\"amenity\") for x in amenity['elements']])).drop('tags', axis=1)\n",
        "RNDamenity_osm = RNDamenity_osm.loc[(RNDamenity_osm[0] == \"bus_station\") | (RNDamenity_osm[0] == \"post_office\") | (RNDamenity_osm[0] == \"atm\") | (RNDamenity_osm[0] == \"bank\") | (RNDamenity_osm[0] == \"payment_terminal\")]\n",
        "RNDamenity_osm=RNDamenity_osm.reset_index(drop = True)\n",
        "RNDamenity_osm"
      ],
      "execution_count": null,
      "outputs": []
    },
    {
      "cell_type": "code",
      "metadata": {
        "id": "bHEbe3GXsfDB"
      },
      "source": [
        "overpass_url = \"http://overpass-api.de/api/interpreter\"\n",
        "\n",
        "overpass_query = '''\n",
        "[out:json];\n",
        "(node[\"amenity\"]({},{},{},{});\n",
        ");\n",
        "out center;\n",
        "'''.format(*NIJN_bbox)\n",
        "\n",
        "response = requests.get(overpass_url, \n",
        "                        params={'data': overpass_query})\n",
        "amenity = response.json()\n",
        "\n",
        "NIJNamenity_osm = pd.DataFrame(amenity['elements'])\n",
        "NIJNamenity_osm = NIJNamenity_osm.join(\n",
        "    pd.DataFrame([x.get(\"tags\").get(\"amenity\") for x in amenity['elements']])).drop('tags', axis=1)\n",
        "NIJNamenity_osm = NIJNamenity_osm.loc[(NIJNamenity_osm[0] == \"bus_station\") | (NIJNamenity_osm[0] == \"post_office\") | (NIJNamenity_osm[0] == \"atm\") | (NIJNamenity_osm[0] == \"bank\") | (NIJNamenity_osm[0] == \"payment_terminal\")]\n",
        "NIJNamenity_osm=NIJNamenity_osm.reset_index(drop = True)\n",
        "NIJNamenity_osm"
      ],
      "execution_count": null,
      "outputs": []
    },
    {
      "cell_type": "code",
      "metadata": {
        "id": "p0D5EHmhse52"
      },
      "source": [
        "overpass_url = \"http://overpass-api.de/api/interpreter\"\n",
        "\n",
        "overpass_query = '''\n",
        "[out:json];\n",
        "(node[\"amenity\"]({},{},{},{});\n",
        ");\n",
        "out center;\n",
        "'''.format(*NOVS_bbox)\n",
        "\n",
        "response = requests.get(overpass_url, \n",
        "                        params={'data': overpass_query})\n",
        "amenity = response.json()\n",
        "\n",
        "NOVSamenity_osm = pd.DataFrame(amenity['elements'])\n",
        "NOVSamenity_osm = NOVSamenity_osm.join(\n",
        "    pd.DataFrame([x.get(\"tags\").get(\"amenity\") for x in amenity['elements']])).drop('tags', axis=1)\n",
        "NOVSamenity_osm = NOVSamenity_osm.loc[(NOVSamenity_osm[0] == \"bus_station\") | (NOVSamenity_osm[0] == \"post_office\") | (NOVSamenity_osm[0] == \"atm\") | (NOVSamenity_osm[0] == \"bank\") | (NOVSamenity_osm[0] == \"payment_terminal\")]\n",
        "NOVSamenity_osm=NOVSamenity_osm.reset_index(drop = True)\n",
        "NOVSamenity_osm"
      ],
      "execution_count": null,
      "outputs": []
    },
    {
      "cell_type": "code",
      "metadata": {
        "id": "ddgWEUDTsewx"
      },
      "source": [
        "overpass_url = \"http://overpass-api.de/api/interpreter\"\n",
        "\n",
        "overpass_query = '''\n",
        "[out:json];\n",
        "(node[\"amenity\"]({},{},{},{});\n",
        ");\n",
        "out center;\n",
        "'''.format(*UFA_bbox)\n",
        "\n",
        "response = requests.get(overpass_url, \n",
        "                        params={'data': overpass_query})\n",
        "amenity = response.json()\n",
        "\n",
        "UFAamenity_osm = pd.DataFrame(amenity['elements'])\n",
        "UFAamenity_osm = UFAamenity_osm.join(\n",
        "    pd.DataFrame([x.get(\"tags\").get(\"amenity\") for x in amenity['elements']])).drop('tags', axis=1)\n",
        "UFAamenity_osm = UFAamenity_osm.loc[(UFAamenity_osm[0] == \"bus_station\") | (UFAamenity_osm[0] == \"post_office\") | (UFAamenity_osm[0] == \"atm\") | (UFAamenity_osm[0] == \"bank\") | (UFAamenity_osm[0] == \"payment_terminal\")]\n",
        "UFAamenity_osm=UFAamenity_osm.reset_index(drop = True)\n",
        "UFAamenity_osm"
      ],
      "execution_count": null,
      "outputs": []
    },
    {
      "cell_type": "code",
      "metadata": {
        "id": "imFfdxri8s3r"
      },
      "source": [
        "overpass_url = \"http://overpass-api.de/api/interpreter\"\n",
        "\n",
        "overpass_query = '''\n",
        "[out:json];\n",
        "(node[\"amenity\"]({},{},{},{});\n",
        ");\n",
        "out center;\n",
        "'''.format(*SAM_bbox)\n",
        "\n",
        "response = requests.get(overpass_url, \n",
        "                        params={'data': overpass_query})\n",
        "amenity = response.json()\n",
        "\n",
        "SAMamenity_osm = pd.DataFrame(amenity['elements'])\n",
        "SAMamenity_osm = SAMamenity_osm.join(\n",
        "    pd.DataFrame([x.get(\"tags\").get(\"amenity\") for x in amenity['elements']])).drop('tags', axis=1)\n",
        "SAMamenity_osm = SAMamenity_osm.loc[(SAMamenity_osm[0] == \"bus_station\") | (SAMamenity_osm[0] == \"post_office\") | (SAMamenity_osm[0] == \"atm\") | (SAMamenity_osm[0] == \"bank\") | (SAMamenity_osm[0] == \"payment_terminal\")]\n",
        "SAMamenity_osm=SAMamenity_osm.reset_index(drop = True)\n",
        "SAMamenity_osm"
      ],
      "execution_count": null,
      "outputs": []
    },
    {
      "cell_type": "code",
      "metadata": {
        "id": "jps4OId48siu"
      },
      "source": [
        "overpass_url = \"http://overpass-api.de/api/interpreter\"\n",
        "\n",
        "overpass_query = '''\n",
        "[out:json];\n",
        "(node[\"amenity\"]({},{},{},{});\n",
        ");\n",
        "out center;\n",
        "'''.format(*EKB_bbox)\n",
        "\n",
        "response = requests.get(overpass_url, \n",
        "                        params={'data': overpass_query})\n",
        "amenity = response.json()\n",
        "\n",
        "EKBamenity_osm = pd.DataFrame(amenity['elements'])\n",
        "EKBamenity_osm = EKBamenity_osm.join(\n",
        "    pd.DataFrame([x.get(\"tags\").get(\"amenity\") for x in amenity['elements']])).drop('tags', axis=1)\n",
        "EKBamenity_osm = EKBamenity_osm.loc[(EKBamenity_osm[0] == \"bus_station\") | (EKBamenity_osm[0] == \"post_office\") | (EKBamenity_osm[0] == \"atm\") | (EKBamenity_osm[0] == \"bank\") | (EKBamenity_osm[0] == \"payment_terminal\")]\n",
        "EKBamenity_osm=EKBamenity_osm.reset_index(drop = True)\n",
        "EKBamenity_osm"
      ],
      "execution_count": null,
      "outputs": []
    },
    {
      "cell_type": "code",
      "metadata": {
        "id": "cqwBFe4X8sVl"
      },
      "source": [
        "overpass_url = \"http://overpass-api.de/api/interpreter\"\n",
        "\n",
        "overpass_query = '''\n",
        "[out:json];\n",
        "(node[\"amenity\"]({},{},{},{});\n",
        ");\n",
        "out center;\n",
        "'''.format(*ZEL_bbox)\n",
        "\n",
        "response = requests.get(overpass_url, \n",
        "                        params={'data': overpass_query})\n",
        "amenity = response.json()\n",
        "\n",
        "ZELamenity_osm = pd.DataFrame(amenity['elements'])\n",
        "ZELamenity_osm = ZELamenity_osm.join(\n",
        "    pd.DataFrame([x.get(\"tags\").get(\"amenity\") for x in amenity['elements']])).drop('tags', axis=1)\n",
        "ZELamenity_osm = ZELamenity_osm.loc[(ZELamenity_osm[0] == \"bus_station\") | (ZELamenity_osm[0] == \"post_office\") | (ZELamenity_osm[0] == \"atm\") | (ZELamenity_osm[0] == \"bank\") | (ZELamenity_osm[0] == \"payment_terminal\")]\n",
        "ZELamenity_osm=ZELamenity_osm.reset_index(drop = True)\n",
        "ZELamenity_osm"
      ],
      "execution_count": null,
      "outputs": []
    },
    {
      "cell_type": "code",
      "metadata": {
        "id": "XBkVMtVAkgaS"
      },
      "source": [
        "overpass_url = \"http://overpass-api.de/api/interpreter\"\n",
        "\n",
        "overpass_query = '''\n",
        "[out:json];\n",
        "(node[\"amenity\"]({},{},{},{});\n",
        ");\n",
        "out center;\n",
        "'''.format(*SPB_bbox)\n",
        "\n",
        "response = requests.get(overpass_url, \n",
        "                        params={'data': overpass_query})\n",
        "amenity = response.json()\n",
        "\n",
        "SPBamenity_osm = pd.DataFrame(amenity['elements'])\n",
        "SPBamenity_osm = SPBamenity_osm.join(\n",
        "    pd.DataFrame([x.get(\"tags\").get(\"amenity\") for x in amenity['elements']])).drop('tags', axis=1)\n",
        "SPBamenity_osm = SPBamenity_osm.loc[(SPBamenity_osm[0] == \"bus_station\") | (SPBamenity_osm[0] == \"post_office\") | (SPBamenity_osm[0] == \"atm\") | (SPBamenity_osm[0] == \"bank\") | (SPBamenity_osm[0] == \"payment_terminal\")]\n",
        "SPBamenity_osm=SPBamenity_osm.reset_index(drop = True)\n",
        "SPBamenity_osm"
      ],
      "execution_count": null,
      "outputs": []
    },
    {
      "cell_type": "code",
      "metadata": {
        "id": "xTTBDzY_9S1k"
      },
      "source": [
        "overpass_url = \"http://overpass-api.de/api/interpreter\"\n",
        "\n",
        "overpass_query = '''\n",
        "[out:json];\n",
        "(node[\"amenity\"]({},{},{},{});\n",
        ");\n",
        "out center;\n",
        "'''.format(*KZ_bbox)\n",
        "\n",
        "response = requests.get(overpass_url, \n",
        "                        params={'data': overpass_query})\n",
        "amenity = response.json()\n",
        "\n",
        "KZamenity_osm = pd.DataFrame(amenity['elements'])\n",
        "KZamenity_osm = KZamenity_osm.join(\n",
        "    pd.DataFrame([x.get(\"tags\").get(\"amenity\") for x in amenity['elements']])).drop('tags', axis=1)\n",
        "KZamenity_osm = KZamenity_osm.loc[(KZamenity_osm[0] == \"bus_station\") | (KZamenity_osm[0] == \"post_office\") | (KZamenity_osm[0] == \"atm\") | (KZamenity_osm[0] == \"bank\") | (KZamenity_osm[0] == \"payment_terminal\")]\n",
        "KZamenity_osm=KZamenity_osm.reset_index(drop = True)\n",
        "KZamenity_osm"
      ],
      "execution_count": null,
      "outputs": []
    },
    {
      "cell_type": "markdown",
      "metadata": {
        "id": "-EwANX3GHW8Q"
      },
      "source": [
        "3. **Используйте разные способы генерации признаков:** описать положение салона МегаФона относительно станций метро можно разными способами - найти расстояние до ближайшей станции, или же посчитать, сколько станций попадает в 500 метровую буферную зону вокруг салона. Такие признаки будут нести разную информацию. Так же попробуйте поэкспериментировать с размерами буферных зон (представьте, что значат в реальности радиусы 100, 500, 1000 метров). Попробуйте посчитать расстояние до центра города, до других объектов."
      ]
    },
    {
      "cell_type": "code",
      "metadata": {
        "id": "uabRy-TQHYOs"
      },
      "source": [
        "train.shape"
      ],
      "execution_count": null,
      "outputs": []
    },
    {
      "cell_type": "code",
      "metadata": {
        "id": "H5r_HMEOHYLC"
      },
      "source": [
        "(KZamenity_osm.loc[713,0])"
      ],
      "execution_count": null,
      "outputs": []
    },
    {
      "cell_type": "code",
      "metadata": {
        "colab": {
          "base_uri": "https://localhost:8080/",
          "height": 399
        },
        "id": "wKPC-Rg0vXJ5",
        "outputId": "dc26e937-8603-4990-f627-d6af1980eb4a"
      },
      "source": [
        "train"
      ],
      "execution_count": null,
      "outputs": [
        {
          "output_type": "execute_result",
          "data": {
            "text/html": [
              "<div>\n",
              "<style scoped>\n",
              "    .dataframe tbody tr th:only-of-type {\n",
              "        vertical-align: middle;\n",
              "    }\n",
              "\n",
              "    .dataframe tbody tr th {\n",
              "        vertical-align: top;\n",
              "    }\n",
              "\n",
              "    .dataframe thead th {\n",
              "        text-align: right;\n",
              "    }\n",
              "</style>\n",
              "<table border=\"1\" class=\"dataframe\">\n",
              "  <thead>\n",
              "    <tr style=\"text-align: right;\">\n",
              "      <th></th>\n",
              "      <th>point_id</th>\n",
              "      <th>lon</th>\n",
              "      <th>lat</th>\n",
              "      <th>target</th>\n",
              "      <th>cities</th>\n",
              "    </tr>\n",
              "  </thead>\n",
              "  <tbody>\n",
              "    <tr>\n",
              "      <th>0</th>\n",
              "      <td>ommNZCUV</td>\n",
              "      <td>37.590776</td>\n",
              "      <td>55.848630</td>\n",
              "      <td>-0.348157</td>\n",
              "      <td>Москва</td>\n",
              "    </tr>\n",
              "    <tr>\n",
              "      <th>1</th>\n",
              "      <td>nMe2LHPb</td>\n",
              "      <td>37.784210</td>\n",
              "      <td>55.750271</td>\n",
              "      <td>1.294206</td>\n",
              "      <td>Москва</td>\n",
              "    </tr>\n",
              "    <tr>\n",
              "      <th>2</th>\n",
              "      <td>ZgodVRqB</td>\n",
              "      <td>39.635721</td>\n",
              "      <td>47.213330</td>\n",
              "      <td>-1.039679</td>\n",
              "      <td>Ростов-на-Дону</td>\n",
              "    </tr>\n",
              "    <tr>\n",
              "      <th>3</th>\n",
              "      <td>0t2jNYdz</td>\n",
              "      <td>37.704570</td>\n",
              "      <td>55.782020</td>\n",
              "      <td>-1.169339</td>\n",
              "      <td>Москва</td>\n",
              "    </tr>\n",
              "    <tr>\n",
              "      <th>4</th>\n",
              "      <td>U27W4QJ7</td>\n",
              "      <td>37.643983</td>\n",
              "      <td>55.730188</td>\n",
              "      <td>-0.088837</td>\n",
              "      <td>Москва</td>\n",
              "    </tr>\n",
              "    <tr>\n",
              "      <th>...</th>\n",
              "      <td>...</td>\n",
              "      <td>...</td>\n",
              "      <td>...</td>\n",
              "      <td>...</td>\n",
              "      <td>...</td>\n",
              "    </tr>\n",
              "    <tr>\n",
              "      <th>420</th>\n",
              "      <td>AA8hN7bJ</td>\n",
              "      <td>37.628765</td>\n",
              "      <td>55.740664</td>\n",
              "      <td>0.213704</td>\n",
              "      <td>Москва</td>\n",
              "    </tr>\n",
              "    <tr>\n",
              "      <th>421</th>\n",
              "      <td>uNw6t6xk</td>\n",
              "      <td>37.586825</td>\n",
              "      <td>55.794233</td>\n",
              "      <td>-0.002397</td>\n",
              "      <td>Москва</td>\n",
              "    </tr>\n",
              "    <tr>\n",
              "      <th>422</th>\n",
              "      <td>Ap42ei8k</td>\n",
              "      <td>37.678790</td>\n",
              "      <td>55.772910</td>\n",
              "      <td>-0.910019</td>\n",
              "      <td>Москва</td>\n",
              "    </tr>\n",
              "    <tr>\n",
              "      <th>423</th>\n",
              "      <td>rn9A8r62</td>\n",
              "      <td>37.752130</td>\n",
              "      <td>55.619640</td>\n",
              "      <td>-0.326547</td>\n",
              "      <td>Москва</td>\n",
              "    </tr>\n",
              "    <tr>\n",
              "      <th>424</th>\n",
              "      <td>960M6jye</td>\n",
              "      <td>37.705770</td>\n",
              "      <td>55.782950</td>\n",
              "      <td>-1.234169</td>\n",
              "      <td>Москва</td>\n",
              "    </tr>\n",
              "  </tbody>\n",
              "</table>\n",
              "<p>425 rows × 5 columns</p>\n",
              "</div>"
            ],
            "text/plain": [
              "     point_id        lon        lat    target          cities\n",
              "0    ommNZCUV  37.590776  55.848630 -0.348157          Москва\n",
              "1    nMe2LHPb  37.784210  55.750271  1.294206          Москва\n",
              "2    ZgodVRqB  39.635721  47.213330 -1.039679  Ростов-на-Дону\n",
              "3    0t2jNYdz  37.704570  55.782020 -1.169339          Москва\n",
              "4    U27W4QJ7  37.643983  55.730188 -0.088837          Москва\n",
              "..        ...        ...        ...       ...             ...\n",
              "420  AA8hN7bJ  37.628765  55.740664  0.213704          Москва\n",
              "421  uNw6t6xk  37.586825  55.794233 -0.002397          Москва\n",
              "422  Ap42ei8k  37.678790  55.772910 -0.910019          Москва\n",
              "423  rn9A8r62  37.752130  55.619640 -0.326547          Москва\n",
              "424  960M6jye  37.705770  55.782950 -1.234169          Москва\n",
              "\n",
              "[425 rows x 5 columns]"
            ]
          },
          "metadata": {
            "tags": []
          },
          "execution_count": 167
        }
      ]
    },
    {
      "cell_type": "code",
      "metadata": {
        "id": "l2uCjRPivM5g"
      },
      "source": [
        "train['nearestNode'] = np.empty((train.shape[0],1),dtype=str)"
      ],
      "execution_count": null,
      "outputs": []
    },
    {
      "cell_type": "markdown",
      "metadata": {
        "id": "OW9Sb9RxbJeH"
      },
      "source": [
        "## я понимаю, что это не расстояние между точками, а просто разность между их широтой и долготой, но я не понимаю, как еще это можно сделать("
      ]
    },
    {
      "cell_type": "code",
      "metadata": {
        "id": "kl33imE4ZMOo"
      },
      "source": [
        "def findNear(lon,lat,city):\n",
        "  delta = 1000000\n",
        "  idx = 0\n",
        "  if city == \"Москва\":\n",
        "    bbCity = MOSamenity_osm\n",
        "  if city == \"Санкт-Петербург\":\n",
        "    bbCity = SPBamenity_osm\n",
        "  if city == \"Казань\":\n",
        "    bbCity = KZamenity_osm\n",
        "  if city == \"Зеленоград\":\n",
        "    bbCity = ZELamenity_osm\n",
        "  if city == \"Екатеринбург\":\n",
        "    bbCity = EKBamenity_osm\n",
        "  if city == \"Самара\":\n",
        "    bbCity = SAMamenity_osm\n",
        "  if city == \"Уфа\":\n",
        "    bbCity = UFAamenity_osm\n",
        "  if city == \"Новосибирск\":\n",
        "    bbCity = NOVSamenity_osm\n",
        "  if city == \"Нижний Новгород\":\n",
        "    bbCity = NIJNamenity_osm\n",
        "  if city == \"Ростов-на-Дону\":\n",
        "    bbCity = RNDamenity_osm\n",
        "  if city == \"Красноярск\":\n",
        "    bbCity = KRSNamenity_osm\n",
        "  if city == \"Колпино\":\n",
        "    bbCity = KOLPamenity_osm\n",
        "  if city == \"Балашиха\":\n",
        "    bbCity = BALamenity_osm\n",
        "  if city == \"Пушкин\":\n",
        "    bbCity = PUSHamenity_osm\n",
        "  for i in range(bbCity.shape[0]):\n",
        "    if (abs(bbCity.lon[i] - lon) + abs(bbCity.lat[i] - lat) < delta):\n",
        "      delta = (abs(bbCity.lon[i] - lon) + abs(bbCity.lat[i] - lat))\n",
        "      idx = i\n",
        "  return (bbCity.loc[idx,0])"
      ],
      "execution_count": null,
      "outputs": []
    },
    {
      "cell_type": "code",
      "metadata": {
        "colab": {
          "base_uri": "https://localhost:8080/",
          "height": 36
        },
        "id": "m3lq8oxR90cT",
        "outputId": "5dae0beb-218e-4cda-e904-adb4a50e866d"
      },
      "source": [
        "train.loc[13].cities"
      ],
      "execution_count": null,
      "outputs": [
        {
          "output_type": "execute_result",
          "data": {
            "application/vnd.google.colaboratory.intrinsic+json": {
              "type": "string"
            },
            "text/plain": [
              "'Казань'"
            ]
          },
          "metadata": {
            "tags": []
          },
          "execution_count": 170
        }
      ]
    },
    {
      "cell_type": "code",
      "metadata": {
        "colab": {
          "base_uri": "https://localhost:8080/",
          "height": 399
        },
        "id": "9hpxBxPM-zAN",
        "outputId": "074971a8-f216-4d76-e0f4-a31ccd77f05d"
      },
      "source": [
        "train"
      ],
      "execution_count": null,
      "outputs": [
        {
          "output_type": "execute_result",
          "data": {
            "text/html": [
              "<div>\n",
              "<style scoped>\n",
              "    .dataframe tbody tr th:only-of-type {\n",
              "        vertical-align: middle;\n",
              "    }\n",
              "\n",
              "    .dataframe tbody tr th {\n",
              "        vertical-align: top;\n",
              "    }\n",
              "\n",
              "    .dataframe thead th {\n",
              "        text-align: right;\n",
              "    }\n",
              "</style>\n",
              "<table border=\"1\" class=\"dataframe\">\n",
              "  <thead>\n",
              "    <tr style=\"text-align: right;\">\n",
              "      <th></th>\n",
              "      <th>point_id</th>\n",
              "      <th>lon</th>\n",
              "      <th>lat</th>\n",
              "      <th>target</th>\n",
              "      <th>cities</th>\n",
              "      <th>nearestNode</th>\n",
              "    </tr>\n",
              "  </thead>\n",
              "  <tbody>\n",
              "    <tr>\n",
              "      <th>0</th>\n",
              "      <td>ommNZCUV</td>\n",
              "      <td>37.590776</td>\n",
              "      <td>55.848630</td>\n",
              "      <td>-0.348157</td>\n",
              "      <td>Москва</td>\n",
              "      <td></td>\n",
              "    </tr>\n",
              "    <tr>\n",
              "      <th>1</th>\n",
              "      <td>nMe2LHPb</td>\n",
              "      <td>37.784210</td>\n",
              "      <td>55.750271</td>\n",
              "      <td>1.294206</td>\n",
              "      <td>Москва</td>\n",
              "      <td></td>\n",
              "    </tr>\n",
              "    <tr>\n",
              "      <th>2</th>\n",
              "      <td>ZgodVRqB</td>\n",
              "      <td>39.635721</td>\n",
              "      <td>47.213330</td>\n",
              "      <td>-1.039679</td>\n",
              "      <td>Ростов-на-Дону</td>\n",
              "      <td></td>\n",
              "    </tr>\n",
              "    <tr>\n",
              "      <th>3</th>\n",
              "      <td>0t2jNYdz</td>\n",
              "      <td>37.704570</td>\n",
              "      <td>55.782020</td>\n",
              "      <td>-1.169339</td>\n",
              "      <td>Москва</td>\n",
              "      <td></td>\n",
              "    </tr>\n",
              "    <tr>\n",
              "      <th>4</th>\n",
              "      <td>U27W4QJ7</td>\n",
              "      <td>37.643983</td>\n",
              "      <td>55.730188</td>\n",
              "      <td>-0.088837</td>\n",
              "      <td>Москва</td>\n",
              "      <td></td>\n",
              "    </tr>\n",
              "    <tr>\n",
              "      <th>...</th>\n",
              "      <td>...</td>\n",
              "      <td>...</td>\n",
              "      <td>...</td>\n",
              "      <td>...</td>\n",
              "      <td>...</td>\n",
              "      <td>...</td>\n",
              "    </tr>\n",
              "    <tr>\n",
              "      <th>420</th>\n",
              "      <td>AA8hN7bJ</td>\n",
              "      <td>37.628765</td>\n",
              "      <td>55.740664</td>\n",
              "      <td>0.213704</td>\n",
              "      <td>Москва</td>\n",
              "      <td></td>\n",
              "    </tr>\n",
              "    <tr>\n",
              "      <th>421</th>\n",
              "      <td>uNw6t6xk</td>\n",
              "      <td>37.586825</td>\n",
              "      <td>55.794233</td>\n",
              "      <td>-0.002397</td>\n",
              "      <td>Москва</td>\n",
              "      <td></td>\n",
              "    </tr>\n",
              "    <tr>\n",
              "      <th>422</th>\n",
              "      <td>Ap42ei8k</td>\n",
              "      <td>37.678790</td>\n",
              "      <td>55.772910</td>\n",
              "      <td>-0.910019</td>\n",
              "      <td>Москва</td>\n",
              "      <td></td>\n",
              "    </tr>\n",
              "    <tr>\n",
              "      <th>423</th>\n",
              "      <td>rn9A8r62</td>\n",
              "      <td>37.752130</td>\n",
              "      <td>55.619640</td>\n",
              "      <td>-0.326547</td>\n",
              "      <td>Москва</td>\n",
              "      <td></td>\n",
              "    </tr>\n",
              "    <tr>\n",
              "      <th>424</th>\n",
              "      <td>960M6jye</td>\n",
              "      <td>37.705770</td>\n",
              "      <td>55.782950</td>\n",
              "      <td>-1.234169</td>\n",
              "      <td>Москва</td>\n",
              "      <td></td>\n",
              "    </tr>\n",
              "  </tbody>\n",
              "</table>\n",
              "<p>425 rows × 6 columns</p>\n",
              "</div>"
            ],
            "text/plain": [
              "     point_id        lon        lat    target          cities nearestNode\n",
              "0    ommNZCUV  37.590776  55.848630 -0.348157          Москва            \n",
              "1    nMe2LHPb  37.784210  55.750271  1.294206          Москва            \n",
              "2    ZgodVRqB  39.635721  47.213330 -1.039679  Ростов-на-Дону            \n",
              "3    0t2jNYdz  37.704570  55.782020 -1.169339          Москва            \n",
              "4    U27W4QJ7  37.643983  55.730188 -0.088837          Москва            \n",
              "..        ...        ...        ...       ...             ...         ...\n",
              "420  AA8hN7bJ  37.628765  55.740664  0.213704          Москва            \n",
              "421  uNw6t6xk  37.586825  55.794233 -0.002397          Москва            \n",
              "422  Ap42ei8k  37.678790  55.772910 -0.910019          Москва            \n",
              "423  rn9A8r62  37.752130  55.619640 -0.326547          Москва            \n",
              "424  960M6jye  37.705770  55.782950 -1.234169          Москва            \n",
              "\n",
              "[425 rows x 6 columns]"
            ]
          },
          "metadata": {
            "tags": []
          },
          "execution_count": 171
        }
      ]
    },
    {
      "cell_type": "code",
      "metadata": {
        "colab": {
          "base_uri": "https://localhost:8080/",
          "height": 67,
          "referenced_widgets": [
            "cd4b7830d62a404aa5eedff07d6bf33c",
            "9634dacd5fe943129e9a729c38595e3f",
            "acaa1dbe155c4d13b42860794a3895da",
            "3c239599f206410598570286adfa91e6",
            "be075d8d761e4b069539d77d1aedd0a1",
            "89c5655bb0124628b224d836615d53db",
            "fc695c13efd145dd91d76cf1aa4b0410",
            "46acaffde0394fd4a8dca309faa76073"
          ]
        },
        "id": "4BmC6Q6x-Usw",
        "outputId": "9aaeedbc-0919-468d-8acf-847a73dcf1f9"
      },
      "source": [
        "for i in (tqdm.tqdm_notebook(range(train.shape[0]))):\n",
        "  train.loc[i,\"nearestNode\"] = findNear(train.loc[i].lon,train.loc[i].lat,train.loc[i].cities)"
      ],
      "execution_count": null,
      "outputs": [
        {
          "output_type": "display_data",
          "data": {
            "application/vnd.jupyter.widget-view+json": {
              "model_id": "cd4b7830d62a404aa5eedff07d6bf33c",
              "version_minor": 0,
              "version_major": 2
            },
            "text/plain": [
              "HBox(children=(FloatProgress(value=0.0, max=425.0), HTML(value='')))"
            ]
          },
          "metadata": {
            "tags": []
          }
        },
        {
          "output_type": "stream",
          "text": [
            "\n"
          ],
          "name": "stdout"
        }
      ]
    },
    {
      "cell_type": "markdown",
      "metadata": {
        "id": "o81hNUNySGPH"
      },
      "source": [
        "## Итого мы добавили ближайшие узлы, которые могут повлиять на покупку фичерфона"
      ]
    },
    {
      "cell_type": "code",
      "metadata": {
        "id": "tD3ffnzrZMHd",
        "colab": {
          "base_uri": "https://localhost:8080/",
          "height": 399
        },
        "outputId": "aa427247-a542-4dc8-a805-051cb8406d6a"
      },
      "source": [
        "train"
      ],
      "execution_count": null,
      "outputs": [
        {
          "output_type": "execute_result",
          "data": {
            "text/html": [
              "<div>\n",
              "<style scoped>\n",
              "    .dataframe tbody tr th:only-of-type {\n",
              "        vertical-align: middle;\n",
              "    }\n",
              "\n",
              "    .dataframe tbody tr th {\n",
              "        vertical-align: top;\n",
              "    }\n",
              "\n",
              "    .dataframe thead th {\n",
              "        text-align: right;\n",
              "    }\n",
              "</style>\n",
              "<table border=\"1\" class=\"dataframe\">\n",
              "  <thead>\n",
              "    <tr style=\"text-align: right;\">\n",
              "      <th></th>\n",
              "      <th>point_id</th>\n",
              "      <th>lon</th>\n",
              "      <th>lat</th>\n",
              "      <th>target</th>\n",
              "      <th>cities</th>\n",
              "      <th>nearestNode</th>\n",
              "    </tr>\n",
              "  </thead>\n",
              "  <tbody>\n",
              "    <tr>\n",
              "      <th>0</th>\n",
              "      <td>ommNZCUV</td>\n",
              "      <td>37.590776</td>\n",
              "      <td>55.848630</td>\n",
              "      <td>-0.348157</td>\n",
              "      <td>Москва</td>\n",
              "      <td>bank</td>\n",
              "    </tr>\n",
              "    <tr>\n",
              "      <th>1</th>\n",
              "      <td>nMe2LHPb</td>\n",
              "      <td>37.784210</td>\n",
              "      <td>55.750271</td>\n",
              "      <td>1.294206</td>\n",
              "      <td>Москва</td>\n",
              "      <td>bank</td>\n",
              "    </tr>\n",
              "    <tr>\n",
              "      <th>2</th>\n",
              "      <td>ZgodVRqB</td>\n",
              "      <td>39.635721</td>\n",
              "      <td>47.213330</td>\n",
              "      <td>-1.039679</td>\n",
              "      <td>Ростов-на-Дону</td>\n",
              "      <td>post_office</td>\n",
              "    </tr>\n",
              "    <tr>\n",
              "      <th>3</th>\n",
              "      <td>0t2jNYdz</td>\n",
              "      <td>37.704570</td>\n",
              "      <td>55.782020</td>\n",
              "      <td>-1.169339</td>\n",
              "      <td>Москва</td>\n",
              "      <td>atm</td>\n",
              "    </tr>\n",
              "    <tr>\n",
              "      <th>4</th>\n",
              "      <td>U27W4QJ7</td>\n",
              "      <td>37.643983</td>\n",
              "      <td>55.730188</td>\n",
              "      <td>-0.088837</td>\n",
              "      <td>Москва</td>\n",
              "      <td>atm</td>\n",
              "    </tr>\n",
              "    <tr>\n",
              "      <th>...</th>\n",
              "      <td>...</td>\n",
              "      <td>...</td>\n",
              "      <td>...</td>\n",
              "      <td>...</td>\n",
              "      <td>...</td>\n",
              "      <td>...</td>\n",
              "    </tr>\n",
              "    <tr>\n",
              "      <th>420</th>\n",
              "      <td>AA8hN7bJ</td>\n",
              "      <td>37.628765</td>\n",
              "      <td>55.740664</td>\n",
              "      <td>0.213704</td>\n",
              "      <td>Москва</td>\n",
              "      <td>bank</td>\n",
              "    </tr>\n",
              "    <tr>\n",
              "      <th>421</th>\n",
              "      <td>uNw6t6xk</td>\n",
              "      <td>37.586825</td>\n",
              "      <td>55.794233</td>\n",
              "      <td>-0.002397</td>\n",
              "      <td>Москва</td>\n",
              "      <td>atm</td>\n",
              "    </tr>\n",
              "    <tr>\n",
              "      <th>422</th>\n",
              "      <td>Ap42ei8k</td>\n",
              "      <td>37.678790</td>\n",
              "      <td>55.772910</td>\n",
              "      <td>-0.910019</td>\n",
              "      <td>Москва</td>\n",
              "      <td>atm</td>\n",
              "    </tr>\n",
              "    <tr>\n",
              "      <th>423</th>\n",
              "      <td>rn9A8r62</td>\n",
              "      <td>37.752130</td>\n",
              "      <td>55.619640</td>\n",
              "      <td>-0.326547</td>\n",
              "      <td>Москва</td>\n",
              "      <td>atm</td>\n",
              "    </tr>\n",
              "    <tr>\n",
              "      <th>424</th>\n",
              "      <td>960M6jye</td>\n",
              "      <td>37.705770</td>\n",
              "      <td>55.782950</td>\n",
              "      <td>-1.234169</td>\n",
              "      <td>Москва</td>\n",
              "      <td>atm</td>\n",
              "    </tr>\n",
              "  </tbody>\n",
              "</table>\n",
              "<p>425 rows × 6 columns</p>\n",
              "</div>"
            ],
            "text/plain": [
              "     point_id        lon        lat    target          cities  nearestNode\n",
              "0    ommNZCUV  37.590776  55.848630 -0.348157          Москва         bank\n",
              "1    nMe2LHPb  37.784210  55.750271  1.294206          Москва         bank\n",
              "2    ZgodVRqB  39.635721  47.213330 -1.039679  Ростов-на-Дону  post_office\n",
              "3    0t2jNYdz  37.704570  55.782020 -1.169339          Москва          atm\n",
              "4    U27W4QJ7  37.643983  55.730188 -0.088837          Москва          atm\n",
              "..        ...        ...        ...       ...             ...          ...\n",
              "420  AA8hN7bJ  37.628765  55.740664  0.213704          Москва         bank\n",
              "421  uNw6t6xk  37.586825  55.794233 -0.002397          Москва          atm\n",
              "422  Ap42ei8k  37.678790  55.772910 -0.910019          Москва          atm\n",
              "423  rn9A8r62  37.752130  55.619640 -0.326547          Москва          atm\n",
              "424  960M6jye  37.705770  55.782950 -1.234169          Москва          atm\n",
              "\n",
              "[425 rows x 6 columns]"
            ]
          },
          "metadata": {
            "tags": []
          },
          "execution_count": 173
        }
      ]
    },
    {
      "cell_type": "code",
      "metadata": {
        "id": "mYEreJYlSW8W"
      },
      "source": [
        "test['nearestNode'] = np.empty((test.shape[0],1),dtype=str)"
      ],
      "execution_count": null,
      "outputs": []
    },
    {
      "cell_type": "code",
      "metadata": {
        "colab": {
          "base_uri": "https://localhost:8080/",
          "height": 399
        },
        "id": "udsopUA9SrqB",
        "outputId": "9cd68fb0-b7da-432b-d381-fefc36a1a661"
      },
      "source": [
        "test"
      ],
      "execution_count": null,
      "outputs": [
        {
          "output_type": "execute_result",
          "data": {
            "text/html": [
              "<div>\n",
              "<style scoped>\n",
              "    .dataframe tbody tr th:only-of-type {\n",
              "        vertical-align: middle;\n",
              "    }\n",
              "\n",
              "    .dataframe tbody tr th {\n",
              "        vertical-align: top;\n",
              "    }\n",
              "\n",
              "    .dataframe thead th {\n",
              "        text-align: right;\n",
              "    }\n",
              "</style>\n",
              "<table border=\"1\" class=\"dataframe\">\n",
              "  <thead>\n",
              "    <tr style=\"text-align: right;\">\n",
              "      <th></th>\n",
              "      <th>point_id</th>\n",
              "      <th>lon</th>\n",
              "      <th>lat</th>\n",
              "      <th>target</th>\n",
              "      <th>cities</th>\n",
              "      <th>nearestNode</th>\n",
              "    </tr>\n",
              "  </thead>\n",
              "  <tbody>\n",
              "    <tr>\n",
              "      <th>0</th>\n",
              "      <td>F4lXR1cG</td>\n",
              "      <td>37.681242</td>\n",
              "      <td>55.748040</td>\n",
              "      <td>0.0091</td>\n",
              "      <td>Москва</td>\n",
              "      <td></td>\n",
              "    </tr>\n",
              "    <tr>\n",
              "      <th>1</th>\n",
              "      <td>4LJu4GTf</td>\n",
              "      <td>60.580910</td>\n",
              "      <td>56.795860</td>\n",
              "      <td>0.0091</td>\n",
              "      <td>Екатеринбург</td>\n",
              "      <td></td>\n",
              "    </tr>\n",
              "    <tr>\n",
              "      <th>2</th>\n",
              "      <td>kLuAAN3s</td>\n",
              "      <td>37.598614</td>\n",
              "      <td>55.781357</td>\n",
              "      <td>0.0091</td>\n",
              "      <td>Москва</td>\n",
              "      <td></td>\n",
              "    </tr>\n",
              "    <tr>\n",
              "      <th>3</th>\n",
              "      <td>OxQHvaNu</td>\n",
              "      <td>37.794051</td>\n",
              "      <td>55.717468</td>\n",
              "      <td>0.0091</td>\n",
              "      <td>Москва</td>\n",
              "      <td></td>\n",
              "    </tr>\n",
              "    <tr>\n",
              "      <th>4</th>\n",
              "      <td>paQsTa1K</td>\n",
              "      <td>49.213026</td>\n",
              "      <td>55.748290</td>\n",
              "      <td>0.0091</td>\n",
              "      <td>Казань</td>\n",
              "      <td></td>\n",
              "    </tr>\n",
              "    <tr>\n",
              "      <th>...</th>\n",
              "      <td>...</td>\n",
              "      <td>...</td>\n",
              "      <td>...</td>\n",
              "      <td>...</td>\n",
              "      <td>...</td>\n",
              "      <td>...</td>\n",
              "    </tr>\n",
              "    <tr>\n",
              "      <th>102</th>\n",
              "      <td>y8oQuX5v</td>\n",
              "      <td>30.353777</td>\n",
              "      <td>60.049792</td>\n",
              "      <td>0.0091</td>\n",
              "      <td>Санкт-Петербург</td>\n",
              "      <td></td>\n",
              "    </tr>\n",
              "    <tr>\n",
              "      <th>103</th>\n",
              "      <td>4nmfqUw0</td>\n",
              "      <td>92.928927</td>\n",
              "      <td>56.116262</td>\n",
              "      <td>0.0091</td>\n",
              "      <td>Красноярск</td>\n",
              "      <td></td>\n",
              "    </tr>\n",
              "    <tr>\n",
              "      <th>104</th>\n",
              "      <td>N9O45mAh</td>\n",
              "      <td>93.015993</td>\n",
              "      <td>56.023697</td>\n",
              "      <td>0.0091</td>\n",
              "      <td>Красноярск</td>\n",
              "      <td></td>\n",
              "    </tr>\n",
              "    <tr>\n",
              "      <th>105</th>\n",
              "      <td>h2InCLKa</td>\n",
              "      <td>30.381172</td>\n",
              "      <td>59.871149</td>\n",
              "      <td>0.0091</td>\n",
              "      <td>Санкт-Петербург</td>\n",
              "      <td></td>\n",
              "    </tr>\n",
              "    <tr>\n",
              "      <th>106</th>\n",
              "      <td>TQKiIgFt</td>\n",
              "      <td>30.279244</td>\n",
              "      <td>59.942110</td>\n",
              "      <td>0.0091</td>\n",
              "      <td>Санкт-Петербург</td>\n",
              "      <td></td>\n",
              "    </tr>\n",
              "  </tbody>\n",
              "</table>\n",
              "<p>107 rows × 6 columns</p>\n",
              "</div>"
            ],
            "text/plain": [
              "     point_id        lon        lat  target           cities nearestNode\n",
              "0    F4lXR1cG  37.681242  55.748040  0.0091           Москва            \n",
              "1    4LJu4GTf  60.580910  56.795860  0.0091     Екатеринбург            \n",
              "2    kLuAAN3s  37.598614  55.781357  0.0091           Москва            \n",
              "3    OxQHvaNu  37.794051  55.717468  0.0091           Москва            \n",
              "4    paQsTa1K  49.213026  55.748290  0.0091           Казань            \n",
              "..        ...        ...        ...     ...              ...         ...\n",
              "102  y8oQuX5v  30.353777  60.049792  0.0091  Санкт-Петербург            \n",
              "103  4nmfqUw0  92.928927  56.116262  0.0091       Красноярск            \n",
              "104  N9O45mAh  93.015993  56.023697  0.0091       Красноярск            \n",
              "105  h2InCLKa  30.381172  59.871149  0.0091  Санкт-Петербург            \n",
              "106  TQKiIgFt  30.279244  59.942110  0.0091  Санкт-Петербург            \n",
              "\n",
              "[107 rows x 6 columns]"
            ]
          },
          "metadata": {
            "tags": []
          },
          "execution_count": 175
        }
      ]
    },
    {
      "cell_type": "code",
      "metadata": {
        "colab": {
          "base_uri": "https://localhost:8080/",
          "height": 67,
          "referenced_widgets": [
            "d70b86e72c574afaa10e788830e51af4",
            "299eec6f7f984d688bd1854a109da5de",
            "e47e860e7906409dbbcc90c7d31f860c",
            "640452c72a0c45a682c2298a1943cad8",
            "a90fc7ad21194f6587bedff66210f37f",
            "d2d410269d9f41b1a12b32f7a37301e2",
            "fd32ccacfb1241e188fb6f01230c7cb3",
            "3c349f7bd22e41ebac6e4d8daa56eee0"
          ]
        },
        "id": "_1Ck8xOFSrnb",
        "outputId": "77ee9058-f8ea-417f-90d4-4981f60692a1"
      },
      "source": [
        "for i in (tqdm.tqdm_notebook(range(test.shape[0]))):\n",
        "  test.loc[i,\"nearestNode\"] = findNear(test.loc[i].lon,test.loc[i].lat,test.loc[i].cities)"
      ],
      "execution_count": null,
      "outputs": [
        {
          "output_type": "display_data",
          "data": {
            "application/vnd.jupyter.widget-view+json": {
              "model_id": "d70b86e72c574afaa10e788830e51af4",
              "version_minor": 0,
              "version_major": 2
            },
            "text/plain": [
              "HBox(children=(FloatProgress(value=0.0, max=107.0), HTML(value='')))"
            ]
          },
          "metadata": {
            "tags": []
          }
        },
        {
          "output_type": "stream",
          "text": [
            "\n"
          ],
          "name": "stdout"
        }
      ]
    },
    {
      "cell_type": "code",
      "metadata": {
        "colab": {
          "base_uri": "https://localhost:8080/",
          "height": 399
        },
        "id": "a5qtJzSvSrky",
        "outputId": "6594aa19-7bbe-4c6e-941e-bc2472fac880"
      },
      "source": [
        "test"
      ],
      "execution_count": null,
      "outputs": [
        {
          "output_type": "execute_result",
          "data": {
            "text/html": [
              "<div>\n",
              "<style scoped>\n",
              "    .dataframe tbody tr th:only-of-type {\n",
              "        vertical-align: middle;\n",
              "    }\n",
              "\n",
              "    .dataframe tbody tr th {\n",
              "        vertical-align: top;\n",
              "    }\n",
              "\n",
              "    .dataframe thead th {\n",
              "        text-align: right;\n",
              "    }\n",
              "</style>\n",
              "<table border=\"1\" class=\"dataframe\">\n",
              "  <thead>\n",
              "    <tr style=\"text-align: right;\">\n",
              "      <th></th>\n",
              "      <th>point_id</th>\n",
              "      <th>lon</th>\n",
              "      <th>lat</th>\n",
              "      <th>target</th>\n",
              "      <th>cities</th>\n",
              "      <th>nearestNode</th>\n",
              "    </tr>\n",
              "  </thead>\n",
              "  <tbody>\n",
              "    <tr>\n",
              "      <th>0</th>\n",
              "      <td>F4lXR1cG</td>\n",
              "      <td>37.681242</td>\n",
              "      <td>55.748040</td>\n",
              "      <td>0.0091</td>\n",
              "      <td>Москва</td>\n",
              "      <td>atm</td>\n",
              "    </tr>\n",
              "    <tr>\n",
              "      <th>1</th>\n",
              "      <td>4LJu4GTf</td>\n",
              "      <td>60.580910</td>\n",
              "      <td>56.795860</td>\n",
              "      <td>0.0091</td>\n",
              "      <td>Екатеринбург</td>\n",
              "      <td>atm</td>\n",
              "    </tr>\n",
              "    <tr>\n",
              "      <th>2</th>\n",
              "      <td>kLuAAN3s</td>\n",
              "      <td>37.598614</td>\n",
              "      <td>55.781357</td>\n",
              "      <td>0.0091</td>\n",
              "      <td>Москва</td>\n",
              "      <td>bank</td>\n",
              "    </tr>\n",
              "    <tr>\n",
              "      <th>3</th>\n",
              "      <td>OxQHvaNu</td>\n",
              "      <td>37.794051</td>\n",
              "      <td>55.717468</td>\n",
              "      <td>0.0091</td>\n",
              "      <td>Москва</td>\n",
              "      <td>atm</td>\n",
              "    </tr>\n",
              "    <tr>\n",
              "      <th>4</th>\n",
              "      <td>paQsTa1K</td>\n",
              "      <td>49.213026</td>\n",
              "      <td>55.748290</td>\n",
              "      <td>0.0091</td>\n",
              "      <td>Казань</td>\n",
              "      <td>bank</td>\n",
              "    </tr>\n",
              "    <tr>\n",
              "      <th>...</th>\n",
              "      <td>...</td>\n",
              "      <td>...</td>\n",
              "      <td>...</td>\n",
              "      <td>...</td>\n",
              "      <td>...</td>\n",
              "      <td>...</td>\n",
              "    </tr>\n",
              "    <tr>\n",
              "      <th>102</th>\n",
              "      <td>y8oQuX5v</td>\n",
              "      <td>30.353777</td>\n",
              "      <td>60.049792</td>\n",
              "      <td>0.0091</td>\n",
              "      <td>Санкт-Петербург</td>\n",
              "      <td>atm</td>\n",
              "    </tr>\n",
              "    <tr>\n",
              "      <th>103</th>\n",
              "      <td>4nmfqUw0</td>\n",
              "      <td>92.928927</td>\n",
              "      <td>56.116262</td>\n",
              "      <td>0.0091</td>\n",
              "      <td>Красноярск</td>\n",
              "      <td>payment_terminal</td>\n",
              "    </tr>\n",
              "    <tr>\n",
              "      <th>104</th>\n",
              "      <td>N9O45mAh</td>\n",
              "      <td>93.015993</td>\n",
              "      <td>56.023697</td>\n",
              "      <td>0.0091</td>\n",
              "      <td>Красноярск</td>\n",
              "      <td>post_office</td>\n",
              "    </tr>\n",
              "    <tr>\n",
              "      <th>105</th>\n",
              "      <td>h2InCLKa</td>\n",
              "      <td>30.381172</td>\n",
              "      <td>59.871149</td>\n",
              "      <td>0.0091</td>\n",
              "      <td>Санкт-Петербург</td>\n",
              "      <td>bank</td>\n",
              "    </tr>\n",
              "    <tr>\n",
              "      <th>106</th>\n",
              "      <td>TQKiIgFt</td>\n",
              "      <td>30.279244</td>\n",
              "      <td>59.942110</td>\n",
              "      <td>0.0091</td>\n",
              "      <td>Санкт-Петербург</td>\n",
              "      <td>atm</td>\n",
              "    </tr>\n",
              "  </tbody>\n",
              "</table>\n",
              "<p>107 rows × 6 columns</p>\n",
              "</div>"
            ],
            "text/plain": [
              "     point_id        lon        lat  target           cities       nearestNode\n",
              "0    F4lXR1cG  37.681242  55.748040  0.0091           Москва               atm\n",
              "1    4LJu4GTf  60.580910  56.795860  0.0091     Екатеринбург               atm\n",
              "2    kLuAAN3s  37.598614  55.781357  0.0091           Москва              bank\n",
              "3    OxQHvaNu  37.794051  55.717468  0.0091           Москва               atm\n",
              "4    paQsTa1K  49.213026  55.748290  0.0091           Казань              bank\n",
              "..        ...        ...        ...     ...              ...               ...\n",
              "102  y8oQuX5v  30.353777  60.049792  0.0091  Санкт-Петербург               atm\n",
              "103  4nmfqUw0  92.928927  56.116262  0.0091       Красноярск  payment_terminal\n",
              "104  N9O45mAh  93.015993  56.023697  0.0091       Красноярск       post_office\n",
              "105  h2InCLKa  30.381172  59.871149  0.0091  Санкт-Петербург              bank\n",
              "106  TQKiIgFt  30.279244  59.942110  0.0091  Санкт-Петербург               atm\n",
              "\n",
              "[107 rows x 6 columns]"
            ]
          },
          "metadata": {
            "tags": []
          },
          "execution_count": 177
        }
      ]
    },
    {
      "cell_type": "markdown",
      "metadata": {
        "id": "L319Sf05thhY"
      },
      "source": [
        "4. **Сделайте визуализации**: постройте 2-3 карты для какого нибудь из городов - как распределен в пространстве таргет, где находятся объекты, полученные вами из OSM. Можете использовать любой инструмент - обычный `plot()`, `folium`, `keplergl`. Если выберете Кеплер, обязательно сохраните в файл конфиг карты, чтобы ее можно было воспроизвести. Сделать это можно вот так:\n",
        "\n",
        "```python\n",
        "import json\n",
        "json_data = kepler_map.config\n",
        "with open('kepler_config.json', 'w') as outfile:\n",
        "    json.dump(json_data, outfile)\n",
        "```"
      ]
    },
    {
      "cell_type": "code",
      "metadata": {
        "id": "3qhL3ThbS81V",
        "colab": {
          "base_uri": "https://localhost:8080/"
        },
        "outputId": "222ed12a-974f-4f0b-8969-b4147a33071e"
      },
      "source": [
        "!pip install keplergl\n",
        "from keplergl import KeplerGl"
      ],
      "execution_count": null,
      "outputs": [
        {
          "output_type": "stream",
          "text": [
            "Requirement already satisfied: keplergl in /usr/local/lib/python3.6/dist-packages (0.2.2)\n",
            "Requirement already satisfied: geopandas>=0.5.0 in /usr/local/lib/python3.6/dist-packages (from keplergl) (0.8.1)\n",
            "Requirement already satisfied: ipywidgets<8,>=7.0.0 in /usr/local/lib/python3.6/dist-packages (from keplergl) (7.5.1)\n",
            "Requirement already satisfied: traittypes>=0.2.1 in /usr/local/lib/python3.6/dist-packages (from keplergl) (0.2.1)\n",
            "Requirement already satisfied: pandas>=0.23.0 in /usr/local/lib/python3.6/dist-packages (from keplergl) (1.1.4)\n",
            "Requirement already satisfied: Shapely>=1.6.4.post2 in /usr/local/lib/python3.6/dist-packages (from keplergl) (1.7.1)\n",
            "Requirement already satisfied: fiona in /usr/local/lib/python3.6/dist-packages (from geopandas>=0.5.0->keplergl) (1.8.18)\n",
            "Requirement already satisfied: pyproj>=2.2.0 in /usr/local/lib/python3.6/dist-packages (from geopandas>=0.5.0->keplergl) (3.0.0.post1)\n",
            "Requirement already satisfied: widgetsnbextension~=3.5.0 in /usr/local/lib/python3.6/dist-packages (from ipywidgets<8,>=7.0.0->keplergl) (3.5.1)\n",
            "Requirement already satisfied: traitlets>=4.3.1 in /usr/local/lib/python3.6/dist-packages (from ipywidgets<8,>=7.0.0->keplergl) (4.3.3)\n",
            "Requirement already satisfied: nbformat>=4.2.0 in /usr/local/lib/python3.6/dist-packages (from ipywidgets<8,>=7.0.0->keplergl) (5.0.8)\n",
            "Requirement already satisfied: ipykernel>=4.5.1 in /usr/local/lib/python3.6/dist-packages (from ipywidgets<8,>=7.0.0->keplergl) (4.10.1)\n",
            "Requirement already satisfied: ipython>=4.0.0; python_version >= \"3.3\" in /usr/local/lib/python3.6/dist-packages (from ipywidgets<8,>=7.0.0->keplergl) (5.5.0)\n",
            "Requirement already satisfied: python-dateutil>=2.7.3 in /usr/local/lib/python3.6/dist-packages (from pandas>=0.23.0->keplergl) (2.8.1)\n",
            "Requirement already satisfied: pytz>=2017.2 in /usr/local/lib/python3.6/dist-packages (from pandas>=0.23.0->keplergl) (2018.9)\n",
            "Requirement already satisfied: numpy>=1.15.4 in /usr/local/lib/python3.6/dist-packages (from pandas>=0.23.0->keplergl) (1.18.5)\n",
            "Requirement already satisfied: click<8,>=4.0 in /usr/local/lib/python3.6/dist-packages (from fiona->geopandas>=0.5.0->keplergl) (7.1.2)\n",
            "Requirement already satisfied: certifi in /usr/local/lib/python3.6/dist-packages (from fiona->geopandas>=0.5.0->keplergl) (2020.11.8)\n",
            "Requirement already satisfied: six>=1.7 in /usr/local/lib/python3.6/dist-packages (from fiona->geopandas>=0.5.0->keplergl) (1.15.0)\n",
            "Requirement already satisfied: cligj>=0.5 in /usr/local/lib/python3.6/dist-packages (from fiona->geopandas>=0.5.0->keplergl) (0.7.1)\n",
            "Requirement already satisfied: munch in /usr/local/lib/python3.6/dist-packages (from fiona->geopandas>=0.5.0->keplergl) (2.5.0)\n",
            "Requirement already satisfied: click-plugins>=1.0 in /usr/local/lib/python3.6/dist-packages (from fiona->geopandas>=0.5.0->keplergl) (1.1.1)\n",
            "Requirement already satisfied: attrs>=17 in /usr/local/lib/python3.6/dist-packages (from fiona->geopandas>=0.5.0->keplergl) (20.3.0)\n",
            "Requirement already satisfied: notebook>=4.4.1 in /usr/local/lib/python3.6/dist-packages (from widgetsnbextension~=3.5.0->ipywidgets<8,>=7.0.0->keplergl) (5.3.1)\n",
            "Requirement already satisfied: decorator in /usr/local/lib/python3.6/dist-packages (from traitlets>=4.3.1->ipywidgets<8,>=7.0.0->keplergl) (4.4.2)\n",
            "Requirement already satisfied: ipython-genutils in /usr/local/lib/python3.6/dist-packages (from traitlets>=4.3.1->ipywidgets<8,>=7.0.0->keplergl) (0.2.0)\n",
            "Requirement already satisfied: jsonschema!=2.5.0,>=2.4 in /usr/local/lib/python3.6/dist-packages (from nbformat>=4.2.0->ipywidgets<8,>=7.0.0->keplergl) (2.6.0)\n",
            "Requirement already satisfied: jupyter-core in /usr/local/lib/python3.6/dist-packages (from nbformat>=4.2.0->ipywidgets<8,>=7.0.0->keplergl) (4.7.0)\n",
            "Requirement already satisfied: jupyter-client in /usr/local/lib/python3.6/dist-packages (from ipykernel>=4.5.1->ipywidgets<8,>=7.0.0->keplergl) (5.3.5)\n",
            "Requirement already satisfied: tornado>=4.0 in /usr/local/lib/python3.6/dist-packages (from ipykernel>=4.5.1->ipywidgets<8,>=7.0.0->keplergl) (5.1.1)\n",
            "Requirement already satisfied: pickleshare in /usr/local/lib/python3.6/dist-packages (from ipython>=4.0.0; python_version >= \"3.3\"->ipywidgets<8,>=7.0.0->keplergl) (0.7.5)\n",
            "Requirement already satisfied: prompt-toolkit<2.0.0,>=1.0.4 in /usr/local/lib/python3.6/dist-packages (from ipython>=4.0.0; python_version >= \"3.3\"->ipywidgets<8,>=7.0.0->keplergl) (1.0.18)\n",
            "Requirement already satisfied: setuptools>=18.5 in /usr/local/lib/python3.6/dist-packages (from ipython>=4.0.0; python_version >= \"3.3\"->ipywidgets<8,>=7.0.0->keplergl) (50.3.2)\n",
            "Requirement already satisfied: pygments in /usr/local/lib/python3.6/dist-packages (from ipython>=4.0.0; python_version >= \"3.3\"->ipywidgets<8,>=7.0.0->keplergl) (2.6.1)\n",
            "Requirement already satisfied: simplegeneric>0.8 in /usr/local/lib/python3.6/dist-packages (from ipython>=4.0.0; python_version >= \"3.3\"->ipywidgets<8,>=7.0.0->keplergl) (0.8.1)\n",
            "Requirement already satisfied: pexpect; sys_platform != \"win32\" in /usr/local/lib/python3.6/dist-packages (from ipython>=4.0.0; python_version >= \"3.3\"->ipywidgets<8,>=7.0.0->keplergl) (4.8.0)\n",
            "Requirement already satisfied: terminado>=0.8.1 in /usr/local/lib/python3.6/dist-packages (from notebook>=4.4.1->widgetsnbextension~=3.5.0->ipywidgets<8,>=7.0.0->keplergl) (0.9.1)\n",
            "Requirement already satisfied: nbconvert in /usr/local/lib/python3.6/dist-packages (from notebook>=4.4.1->widgetsnbextension~=3.5.0->ipywidgets<8,>=7.0.0->keplergl) (5.6.1)\n",
            "Requirement already satisfied: jinja2 in /usr/local/lib/python3.6/dist-packages (from notebook>=4.4.1->widgetsnbextension~=3.5.0->ipywidgets<8,>=7.0.0->keplergl) (2.11.2)\n",
            "Requirement already satisfied: Send2Trash in /usr/local/lib/python3.6/dist-packages (from notebook>=4.4.1->widgetsnbextension~=3.5.0->ipywidgets<8,>=7.0.0->keplergl) (1.5.0)\n",
            "Requirement already satisfied: pyzmq>=13 in /usr/local/lib/python3.6/dist-packages (from jupyter-client->ipykernel>=4.5.1->ipywidgets<8,>=7.0.0->keplergl) (20.0.0)\n",
            "Requirement already satisfied: wcwidth in /usr/local/lib/python3.6/dist-packages (from prompt-toolkit<2.0.0,>=1.0.4->ipython>=4.0.0; python_version >= \"3.3\"->ipywidgets<8,>=7.0.0->keplergl) (0.2.5)\n",
            "Requirement already satisfied: ptyprocess>=0.5 in /usr/local/lib/python3.6/dist-packages (from pexpect; sys_platform != \"win32\"->ipython>=4.0.0; python_version >= \"3.3\"->ipywidgets<8,>=7.0.0->keplergl) (0.6.0)\n",
            "Requirement already satisfied: mistune<2,>=0.8.1 in /usr/local/lib/python3.6/dist-packages (from nbconvert->notebook>=4.4.1->widgetsnbextension~=3.5.0->ipywidgets<8,>=7.0.0->keplergl) (0.8.4)\n",
            "Requirement already satisfied: bleach in /usr/local/lib/python3.6/dist-packages (from nbconvert->notebook>=4.4.1->widgetsnbextension~=3.5.0->ipywidgets<8,>=7.0.0->keplergl) (3.2.1)\n",
            "Requirement already satisfied: defusedxml in /usr/local/lib/python3.6/dist-packages (from nbconvert->notebook>=4.4.1->widgetsnbextension~=3.5.0->ipywidgets<8,>=7.0.0->keplergl) (0.6.0)\n",
            "Requirement already satisfied: entrypoints>=0.2.2 in /usr/local/lib/python3.6/dist-packages (from nbconvert->notebook>=4.4.1->widgetsnbextension~=3.5.0->ipywidgets<8,>=7.0.0->keplergl) (0.3)\n",
            "Requirement already satisfied: pandocfilters>=1.4.1 in /usr/local/lib/python3.6/dist-packages (from nbconvert->notebook>=4.4.1->widgetsnbextension~=3.5.0->ipywidgets<8,>=7.0.0->keplergl) (1.4.3)\n",
            "Requirement already satisfied: testpath in /usr/local/lib/python3.6/dist-packages (from nbconvert->notebook>=4.4.1->widgetsnbextension~=3.5.0->ipywidgets<8,>=7.0.0->keplergl) (0.4.4)\n",
            "Requirement already satisfied: MarkupSafe>=0.23 in /usr/local/lib/python3.6/dist-packages (from jinja2->notebook>=4.4.1->widgetsnbextension~=3.5.0->ipywidgets<8,>=7.0.0->keplergl) (1.1.1)\n",
            "Requirement already satisfied: webencodings in /usr/local/lib/python3.6/dist-packages (from bleach->nbconvert->notebook>=4.4.1->widgetsnbextension~=3.5.0->ipywidgets<8,>=7.0.0->keplergl) (0.5.1)\n",
            "Requirement already satisfied: packaging in /usr/local/lib/python3.6/dist-packages (from bleach->nbconvert->notebook>=4.4.1->widgetsnbextension~=3.5.0->ipywidgets<8,>=7.0.0->keplergl) (20.4)\n",
            "Requirement already satisfied: pyparsing>=2.0.2 in /usr/local/lib/python3.6/dist-packages (from packaging->bleach->nbconvert->notebook>=4.4.1->widgetsnbextension~=3.5.0->ipywidgets<8,>=7.0.0->keplergl) (2.4.7)\n"
          ],
          "name": "stdout"
        }
      ]
    },
    {
      "cell_type": "markdown",
      "metadata": {
        "id": "cWzTd4Y20jPb"
      },
      "source": [
        "## что-то я не понял, как работать с KeplerGL( "
      ]
    },
    {
      "cell_type": "code",
      "metadata": {
        "colab": {
          "base_uri": "https://localhost:8080/",
          "height": 35,
          "referenced_widgets": [
            "be62160adbc746958091ef676897c386"
          ]
        },
        "id": "H8g3YaFES8yo",
        "outputId": "d0a0b335-9195-4c52-f962-fd1f3e7bfec0"
      },
      "source": [
        " kg_map = KeplerGl()\n",
        "kg_map.add_data(train,name=\"cities\")\n",
        "kg_map"
      ],
      "execution_count": null,
      "outputs": [
        {
          "output_type": "stream",
          "text": [
            "User Guide: https://docs.kepler.gl/docs/keplergl-jupyter\n"
          ],
          "name": "stdout"
        },
        {
          "output_type": "display_data",
          "data": {
            "application/vnd.jupyter.widget-view+json": {
              "model_id": "be62160adbc746958091ef676897c386",
              "version_minor": 0,
              "version_major": 2
            },
            "text/plain": [
              "KeplerGl(data={'cities': {'index': [0, 1, 2, 3, 4, 5, 6, 7, 8, 9, 10, 11, 12, 13, 14, 15, 16, 17, 18, 19, 20, …"
            ]
          },
          "metadata": {
            "tags": []
          }
        }
      ]
    },
    {
      "cell_type": "markdown",
      "metadata": {
        "id": "7sOZXV04SMnM"
      },
      "source": [
        "## из графика мы можем видеть, что таргет больше в Москве и СПБ"
      ]
    },
    {
      "cell_type": "code",
      "metadata": {
        "colab": {
          "base_uri": "https://localhost:8080/",
          "height": 606
        },
        "id": "ZBgAQw4qS8rb",
        "outputId": "6f903ecc-ec77-4f40-c643-81d675e767d4"
      },
      "source": [
        "train.plot('cities','target',\n",
        "           figsize=(20, 10),\n",
        "           legend=True);"
      ],
      "execution_count": null,
      "outputs": [
        {
          "output_type": "display_data",
          "data": {
            "image/png": "[encoded data removed]",
            "text/plain": [
              "<Figure size 1440x720 with 1 Axes>"
            ]
          },
          "metadata": {
            "tags": [],
            "needs_background": "light"
          }
        }
      ]
    },
    {
      "cell_type": "markdown",
      "metadata": {
        "id": "kHwCRHFlUamb"
      },
      "source": [
        "## Из графика видно, что в Москве таргет больше у тех точек, где рядом банк"
      ]
    },
    {
      "cell_type": "code",
      "metadata": {
        "colab": {
          "base_uri": "https://localhost:8080/",
          "height": 606
        },
        "id": "fa8MS0WlS8wV",
        "outputId": "78e5bcf9-ac8c-4ee9-b8f7-7d7a976ac0d8"
      },
      "source": [
        "train[train[\"cities\"]==\"Москва\"].plot('nearestNode','target',\n",
        "           figsize=(20, 10),\n",
        "           legend=True);"
      ],
      "execution_count": null,
      "outputs": [
        {
          "output_type": "display_data",
          "data": {
            "image/png": "[encoded data removed]",
            "text/plain": [
              "<Figure size 1440x720 with 1 Axes>"
            ]
          },
          "metadata": {
            "tags": [],
            "needs_background": "light"
          }
        }
      ]
    },
    {
      "cell_type": "markdown",
      "metadata": {
        "id": "8BuHHa30UobU"
      },
      "source": [
        "## Из графика видно, что в СПБ больше таргет у точек, где рядом банкомат"
      ]
    },
    {
      "cell_type": "code",
      "metadata": {
        "colab": {
          "base_uri": "https://localhost:8080/",
          "height": 606
        },
        "id": "XJVDegscS8t1",
        "outputId": "c032b3f5-a5c6-4dae-a545-b9765dcb8a60"
      },
      "source": [
        "train[train[\"cities\"]==\"Санкт-Петербург\"].plot('nearestNode','target',\n",
        "           figsize=(20, 10),\n",
        "           legend=True);"
      ],
      "execution_count": null,
      "outputs": [
        {
          "output_type": "display_data",
          "data": {
            "image/png": "[encoded data removed]",
            "text/plain": [
              "<Figure size 1440x720 with 1 Axes>"
            ]
          },
          "metadata": {
            "tags": [],
            "needs_background": "light"
          }
        }
      ]
    },
    {
      "cell_type": "code",
      "metadata": {
        "colab": {
          "base_uri": "https://localhost:8080/"
        },
        "id": "1tyVN3aHrzEl",
        "outputId": "3b797b3b-8540-4432-99e0-ca8d68a2938a"
      },
      "source": [
        "!pip install folium\n",
        "import folium\n",
        "from folium.plugins import HeatMap\n"
      ],
      "execution_count": null,
      "outputs": [
        {
          "output_type": "stream",
          "text": [
            "Requirement already satisfied: folium in /usr/local/lib/python3.6/dist-packages (0.8.3)\n",
            "Requirement already satisfied: jinja2 in /usr/local/lib/python3.6/dist-packages (from folium) (2.11.2)\n",
            "Requirement already satisfied: numpy in /usr/local/lib/python3.6/dist-packages (from folium) (1.18.5)\n",
            "Requirement already satisfied: six in /usr/local/lib/python3.6/dist-packages (from folium) (1.15.0)\n",
            "Requirement already satisfied: branca>=0.3.0 in /usr/local/lib/python3.6/dist-packages (from folium) (0.4.1)\n",
            "Requirement already satisfied: requests in /usr/local/lib/python3.6/dist-packages (from folium) (2.23.0)\n",
            "Requirement already satisfied: MarkupSafe>=0.23 in /usr/local/lib/python3.6/dist-packages (from jinja2->folium) (1.1.1)\n",
            "Requirement already satisfied: urllib3!=1.25.0,!=1.25.1,<1.26,>=1.21.1 in /usr/local/lib/python3.6/dist-packages (from requests->folium) (1.24.3)\n",
            "Requirement already satisfied: certifi>=2017.4.17 in /usr/local/lib/python3.6/dist-packages (from requests->folium) (2020.11.8)\n",
            "Requirement already satisfied: idna<3,>=2.5 in /usr/local/lib/python3.6/dist-packages (from requests->folium) (2.10)\n",
            "Requirement already satisfied: chardet<4,>=3.0.2 in /usr/local/lib/python3.6/dist-packages (from requests->folium) (3.0.4)\n"
          ],
          "name": "stdout"
        }
      ]
    },
    {
      "cell_type": "markdown",
      "metadata": {
        "id": "fQdOO-Ef2hmj"
      },
      "source": [
        "## это плотность наших салонов"
      ]
    },
    {
      "cell_type": "code",
      "metadata": {
        "colab": {
          "base_uri": "https://localhost:8080/",
          "height": 788
        },
        "id": "BwifSn1B1lwz",
        "outputId": "29261a96-0be2-4355-eeb4-cba6f5f4d79a"
      },
      "source": [
        "\n",
        "m = folium.Map(location=[55.848630, 37.590776], \n",
        "               zoom_start=11, \n",
        "               tiles='cartodbpositron')\n",
        "\n",
        "heat_data = [[row['lat'],row['lon']] for index, row in train.iterrows()]\n",
        "\n",
        "\n",
        "HeatMap(heat_data,\n",
        "        radius=25).add_to(m)\n",
        "m"
      ],
      "execution_count": null,
      "outputs": [
        {
          "output_type": "execute_result",
          "data": {
            "text/html": [
              "<div style=\"width:100%;\"><div style=\"position:relative;width:100%;height:0;padding-bottom:60%;\"><span style=\"color:#565656\">Make this Notebook Trusted to load map: File -> Trust Notebook</span><iframe src=\"about:blank\" style=\"position:absolute;width:100%;height:100%;left:0;top:0;border:none !important;\" data-html=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 onload=\"this.contentDocument.open();this.contentDocument.write(atob(this.getAttribute('data-html')));this.contentDocument.close();\" allowfullscreen webkitallowfullscreen mozallowfullscreen></iframe></div></div>"
            ],
            "text/plain": [
              "<folium.folium.Map at 0x7f40df00f8d0>"
            ]
          },
          "metadata": {
            "tags": []
          },
          "execution_count": 184
        }
      ]
    },
    {
      "cell_type": "markdown",
      "metadata": {
        "id": "g5Kl2zJy4chX"
      },
      "source": [
        "## так как слова компьютеру ничего не дают, переведем их на понятный ему язык)"
      ]
    },
    {
      "cell_type": "code",
      "metadata": {
        "id": "XbG7f2PI3ySY"
      },
      "source": [
        "from sklearn import preprocessing\n",
        "le = preprocessing.LabelEncoder()\n",
        "le.fit(train[\"cities\"])\n",
        "train[\"cities\"] = le.transform(train[\"cities\"])\n",
        "le.fit(train[\"nearestNode\"])\n",
        "train[\"nearestNode\"] = le.transform(train[\"nearestNode\"])"
      ],
      "execution_count": null,
      "outputs": []
    },
    {
      "cell_type": "code",
      "metadata": {
        "id": "WF3zyjtm4dX4"
      },
      "source": [
        "le = preprocessing.LabelEncoder()\n",
        "le.fit(test[\"cities\"])\n",
        "test[\"cities\"] = le.transform(test[\"cities\"])\n",
        "le.fit(test[\"nearestNode\"])\n",
        "test[\"nearestNode\"] = le.transform(test[\"nearestNode\"])"
      ],
      "execution_count": null,
      "outputs": []
    },
    {
      "cell_type": "code",
      "metadata": {
        "colab": {
          "base_uri": "https://localhost:8080/",
          "height": 399
        },
        "id": "7FEFe1U-3x71",
        "outputId": "5a91ffef-39f3-49e3-ebcc-1a4bced2566e"
      },
      "source": [
        "train"
      ],
      "execution_count": null,
      "outputs": [
        {
          "output_type": "execute_result",
          "data": {
            "text/html": [
              "<div>\n",
              "<style scoped>\n",
              "    .dataframe tbody tr th:only-of-type {\n",
              "        vertical-align: middle;\n",
              "    }\n",
              "\n",
              "    .dataframe tbody tr th {\n",
              "        vertical-align: top;\n",
              "    }\n",
              "\n",
              "    .dataframe thead th {\n",
              "        text-align: right;\n",
              "    }\n",
              "</style>\n",
              "<table border=\"1\" class=\"dataframe\">\n",
              "  <thead>\n",
              "    <tr style=\"text-align: right;\">\n",
              "      <th></th>\n",
              "      <th>point_id</th>\n",
              "      <th>lon</th>\n",
              "      <th>lat</th>\n",
              "      <th>target</th>\n",
              "      <th>cities</th>\n",
              "      <th>nearestNode</th>\n",
              "    </tr>\n",
              "  </thead>\n",
              "  <tbody>\n",
              "    <tr>\n",
              "      <th>0</th>\n",
              "      <td>ommNZCUV</td>\n",
              "      <td>37.590776</td>\n",
              "      <td>55.848630</td>\n",
              "      <td>-0.348157</td>\n",
              "      <td>6</td>\n",
              "      <td>1</td>\n",
              "    </tr>\n",
              "    <tr>\n",
              "      <th>1</th>\n",
              "      <td>nMe2LHPb</td>\n",
              "      <td>37.784210</td>\n",
              "      <td>55.750271</td>\n",
              "      <td>1.294206</td>\n",
              "      <td>6</td>\n",
              "      <td>1</td>\n",
              "    </tr>\n",
              "    <tr>\n",
              "      <th>2</th>\n",
              "      <td>ZgodVRqB</td>\n",
              "      <td>39.635721</td>\n",
              "      <td>47.213330</td>\n",
              "      <td>-1.039679</td>\n",
              "      <td>10</td>\n",
              "      <td>4</td>\n",
              "    </tr>\n",
              "    <tr>\n",
              "      <th>3</th>\n",
              "      <td>0t2jNYdz</td>\n",
              "      <td>37.704570</td>\n",
              "      <td>55.782020</td>\n",
              "      <td>-1.169339</td>\n",
              "      <td>6</td>\n",
              "      <td>0</td>\n",
              "    </tr>\n",
              "    <tr>\n",
              "      <th>4</th>\n",
              "      <td>U27W4QJ7</td>\n",
              "      <td>37.643983</td>\n",
              "      <td>55.730188</td>\n",
              "      <td>-0.088837</td>\n",
              "      <td>6</td>\n",
              "      <td>0</td>\n",
              "    </tr>\n",
              "    <tr>\n",
              "      <th>...</th>\n",
              "      <td>...</td>\n",
              "      <td>...</td>\n",
              "      <td>...</td>\n",
              "      <td>...</td>\n",
              "      <td>...</td>\n",
              "      <td>...</td>\n",
              "    </tr>\n",
              "    <tr>\n",
              "      <th>420</th>\n",
              "      <td>AA8hN7bJ</td>\n",
              "      <td>37.628765</td>\n",
              "      <td>55.740664</td>\n",
              "      <td>0.213704</td>\n",
              "      <td>6</td>\n",
              "      <td>1</td>\n",
              "    </tr>\n",
              "    <tr>\n",
              "      <th>421</th>\n",
              "      <td>uNw6t6xk</td>\n",
              "      <td>37.586825</td>\n",
              "      <td>55.794233</td>\n",
              "      <td>-0.002397</td>\n",
              "      <td>6</td>\n",
              "      <td>0</td>\n",
              "    </tr>\n",
              "    <tr>\n",
              "      <th>422</th>\n",
              "      <td>Ap42ei8k</td>\n",
              "      <td>37.678790</td>\n",
              "      <td>55.772910</td>\n",
              "      <td>-0.910019</td>\n",
              "      <td>6</td>\n",
              "      <td>0</td>\n",
              "    </tr>\n",
              "    <tr>\n",
              "      <th>423</th>\n",
              "      <td>rn9A8r62</td>\n",
              "      <td>37.752130</td>\n",
              "      <td>55.619640</td>\n",
              "      <td>-0.326547</td>\n",
              "      <td>6</td>\n",
              "      <td>0</td>\n",
              "    </tr>\n",
              "    <tr>\n",
              "      <th>424</th>\n",
              "      <td>960M6jye</td>\n",
              "      <td>37.705770</td>\n",
              "      <td>55.782950</td>\n",
              "      <td>-1.234169</td>\n",
              "      <td>6</td>\n",
              "      <td>0</td>\n",
              "    </tr>\n",
              "  </tbody>\n",
              "</table>\n",
              "<p>425 rows × 6 columns</p>\n",
              "</div>"
            ],
            "text/plain": [
              "     point_id        lon        lat    target  cities  nearestNode\n",
              "0    ommNZCUV  37.590776  55.848630 -0.348157       6            1\n",
              "1    nMe2LHPb  37.784210  55.750271  1.294206       6            1\n",
              "2    ZgodVRqB  39.635721  47.213330 -1.039679      10            4\n",
              "3    0t2jNYdz  37.704570  55.782020 -1.169339       6            0\n",
              "4    U27W4QJ7  37.643983  55.730188 -0.088837       6            0\n",
              "..        ...        ...        ...       ...     ...          ...\n",
              "420  AA8hN7bJ  37.628765  55.740664  0.213704       6            1\n",
              "421  uNw6t6xk  37.586825  55.794233 -0.002397       6            0\n",
              "422  Ap42ei8k  37.678790  55.772910 -0.910019       6            0\n",
              "423  rn9A8r62  37.752130  55.619640 -0.326547       6            0\n",
              "424  960M6jye  37.705770  55.782950 -1.234169       6            0\n",
              "\n",
              "[425 rows x 6 columns]"
            ]
          },
          "metadata": {
            "tags": []
          },
          "execution_count": 190
        }
      ]
    },
    {
      "cell_type": "code",
      "metadata": {
        "colab": {
          "base_uri": "https://localhost:8080/",
          "height": 399
        },
        "id": "tFxmJ9w_4v53",
        "outputId": "d5b81222-35ea-4837-edf5-123492050acf"
      },
      "source": [
        "test"
      ],
      "execution_count": null,
      "outputs": [
        {
          "output_type": "execute_result",
          "data": {
            "text/html": [
              "<div>\n",
              "<style scoped>\n",
              "    .dataframe tbody tr th:only-of-type {\n",
              "        vertical-align: middle;\n",
              "    }\n",
              "\n",
              "    .dataframe tbody tr th {\n",
              "        vertical-align: top;\n",
              "    }\n",
              "\n",
              "    .dataframe thead th {\n",
              "        text-align: right;\n",
              "    }\n",
              "</style>\n",
              "<table border=\"1\" class=\"dataframe\">\n",
              "  <thead>\n",
              "    <tr style=\"text-align: right;\">\n",
              "      <th></th>\n",
              "      <th>point_id</th>\n",
              "      <th>lon</th>\n",
              "      <th>lat</th>\n",
              "      <th>target</th>\n",
              "      <th>cities</th>\n",
              "      <th>nearestNode</th>\n",
              "    </tr>\n",
              "  </thead>\n",
              "  <tbody>\n",
              "    <tr>\n",
              "      <th>0</th>\n",
              "      <td>F4lXR1cG</td>\n",
              "      <td>37.681242</td>\n",
              "      <td>55.748040</td>\n",
              "      <td>0.0091</td>\n",
              "      <td>4</td>\n",
              "      <td>0</td>\n",
              "    </tr>\n",
              "    <tr>\n",
              "      <th>1</th>\n",
              "      <td>4LJu4GTf</td>\n",
              "      <td>60.580910</td>\n",
              "      <td>56.795860</td>\n",
              "      <td>0.0091</td>\n",
              "      <td>0</td>\n",
              "      <td>0</td>\n",
              "    </tr>\n",
              "    <tr>\n",
              "      <th>2</th>\n",
              "      <td>kLuAAN3s</td>\n",
              "      <td>37.598614</td>\n",
              "      <td>55.781357</td>\n",
              "      <td>0.0091</td>\n",
              "      <td>4</td>\n",
              "      <td>1</td>\n",
              "    </tr>\n",
              "    <tr>\n",
              "      <th>3</th>\n",
              "      <td>OxQHvaNu</td>\n",
              "      <td>37.794051</td>\n",
              "      <td>55.717468</td>\n",
              "      <td>0.0091</td>\n",
              "      <td>4</td>\n",
              "      <td>0</td>\n",
              "    </tr>\n",
              "    <tr>\n",
              "      <th>4</th>\n",
              "      <td>paQsTa1K</td>\n",
              "      <td>49.213026</td>\n",
              "      <td>55.748290</td>\n",
              "      <td>0.0091</td>\n",
              "      <td>2</td>\n",
              "      <td>1</td>\n",
              "    </tr>\n",
              "    <tr>\n",
              "      <th>...</th>\n",
              "      <td>...</td>\n",
              "      <td>...</td>\n",
              "      <td>...</td>\n",
              "      <td>...</td>\n",
              "      <td>...</td>\n",
              "      <td>...</td>\n",
              "    </tr>\n",
              "    <tr>\n",
              "      <th>102</th>\n",
              "      <td>y8oQuX5v</td>\n",
              "      <td>30.353777</td>\n",
              "      <td>60.049792</td>\n",
              "      <td>0.0091</td>\n",
              "      <td>9</td>\n",
              "      <td>0</td>\n",
              "    </tr>\n",
              "    <tr>\n",
              "      <th>103</th>\n",
              "      <td>4nmfqUw0</td>\n",
              "      <td>92.928927</td>\n",
              "      <td>56.116262</td>\n",
              "      <td>0.0091</td>\n",
              "      <td>3</td>\n",
              "      <td>3</td>\n",
              "    </tr>\n",
              "    <tr>\n",
              "      <th>104</th>\n",
              "      <td>N9O45mAh</td>\n",
              "      <td>93.015993</td>\n",
              "      <td>56.023697</td>\n",
              "      <td>0.0091</td>\n",
              "      <td>3</td>\n",
              "      <td>4</td>\n",
              "    </tr>\n",
              "    <tr>\n",
              "      <th>105</th>\n",
              "      <td>h2InCLKa</td>\n",
              "      <td>30.381172</td>\n",
              "      <td>59.871149</td>\n",
              "      <td>0.0091</td>\n",
              "      <td>9</td>\n",
              "      <td>1</td>\n",
              "    </tr>\n",
              "    <tr>\n",
              "      <th>106</th>\n",
              "      <td>TQKiIgFt</td>\n",
              "      <td>30.279244</td>\n",
              "      <td>59.942110</td>\n",
              "      <td>0.0091</td>\n",
              "      <td>9</td>\n",
              "      <td>0</td>\n",
              "    </tr>\n",
              "  </tbody>\n",
              "</table>\n",
              "<p>107 rows × 6 columns</p>\n",
              "</div>"
            ],
            "text/plain": [
              "     point_id        lon        lat  target  cities  nearestNode\n",
              "0    F4lXR1cG  37.681242  55.748040  0.0091       4            0\n",
              "1    4LJu4GTf  60.580910  56.795860  0.0091       0            0\n",
              "2    kLuAAN3s  37.598614  55.781357  0.0091       4            1\n",
              "3    OxQHvaNu  37.794051  55.717468  0.0091       4            0\n",
              "4    paQsTa1K  49.213026  55.748290  0.0091       2            1\n",
              "..        ...        ...        ...     ...     ...          ...\n",
              "102  y8oQuX5v  30.353777  60.049792  0.0091       9            0\n",
              "103  4nmfqUw0  92.928927  56.116262  0.0091       3            3\n",
              "104  N9O45mAh  93.015993  56.023697  0.0091       3            4\n",
              "105  h2InCLKa  30.381172  59.871149  0.0091       9            1\n",
              "106  TQKiIgFt  30.279244  59.942110  0.0091       9            0\n",
              "\n",
              "[107 rows x 6 columns]"
            ]
          },
          "metadata": {
            "tags": []
          },
          "execution_count": 191
        }
      ]
    },
    {
      "cell_type": "markdown",
      "metadata": {
        "id": "sy1f5piPt85v"
      },
      "source": [
        "### Fit model"
      ]
    },
    {
      "cell_type": "code",
      "metadata": {
        "id": "geev_jptt85w"
      },
      "source": [
        "X_train, X_valid, y_train, y_valid = train_test_split(train.drop('target', axis=1), train[['target']])\n",
        "model = LinearRegression().fit(X_train.drop('point_id', axis=1), y_train)"
      ],
      "execution_count": null,
      "outputs": []
    },
    {
      "cell_type": "code",
      "metadata": {
        "colab": {
          "base_uri": "https://localhost:8080/"
        },
        "id": "lKo2c6INt85w",
        "outputId": "3bb3c582-90f2-4b76-f3b3-4d407576bb29"
      },
      "source": [
        "mean_absolute_error(y_valid, model.predict(X_valid.drop('point_id', axis=1)))"
      ],
      "execution_count": null,
      "outputs": [
        {
          "output_type": "execute_result",
          "data": {
            "text/plain": [
              "0.6088541163795984"
            ]
          },
          "metadata": {
            "tags": []
          },
          "execution_count": 239
        }
      ]
    },
    {
      "cell_type": "markdown",
      "metadata": {
        "id": "hNWQDlmNt85w"
      },
      "source": [
        "### Make submission"
      ]
    },
    {
      "cell_type": "code",
      "metadata": {
        "id": "BH9w8Lhot85w"
      },
      "source": [
        "submission = pd.read_csv('./drive/MyDrive/data/sample_submission.csv')\n",
        "submission['target'] = model.predict(X_valid.drop('point_id', axis=1))\n",
        "submission.to_csv('sample_data/my_submission_01f.csv', index=False)"
      ],
      "execution_count": null,
      "outputs": []
    },
    {
      "cell_type": "code",
      "metadata": {
        "id": "3UqmWRs9_heO"
      },
      "source": [
        ""
      ],
      "execution_count": null,
      "outputs": []
    }
  ]
}